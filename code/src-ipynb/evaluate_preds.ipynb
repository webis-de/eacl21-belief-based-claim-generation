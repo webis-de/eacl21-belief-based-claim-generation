{
 "cells": [
  {
   "cell_type": "code",
   "execution_count": 76,
   "metadata": {},
   "outputs": [
    {
     "name": "stdout",
     "output_type": "stream",
     "text": [
      "The autoreload extension is already loaded. To reload it, use:\n",
      "  %reload_ext autoreload\n"
     ]
    }
   ],
   "source": [
    "%load_ext autoreload"
   ]
  },
  {
   "cell_type": "code",
   "execution_count": 77,
   "metadata": {},
   "outputs": [],
   "source": [
    "import sys\n",
    "\n",
    "sys.path.insert(0, \"/workspace/believe-based-argumentation-generation/src-py/\")"
   ]
  },
  {
   "cell_type": "code",
   "execution_count": 78,
   "metadata": {},
   "outputs": [],
   "source": [
    "%autoreload\n",
    "\n",
    "from evaluation import *\n",
    "from text_to_beliefs import *\n",
    "import utils\n",
    "import numpy as np\n",
    "\n",
    "import pandas as pd\n",
    "\n",
    "from rouge import Rouge \n",
    "from matplotlib import pyplot as plt\n",
    "from tabulate import tabulate\n",
    "\n",
    "from scipy import stats\n",
    "\n",
    "\n",
    "pd.set_option('display.max_colwidth', 0)\n",
    "pd.set_option('display.max_row', 0)"
   ]
  },
  {
   "cell_type": "code",
   "execution_count": 79,
   "metadata": {},
   "outputs": [],
   "source": [
    "from distinct_n import  distinct_n_corpus_level"
   ]
  },
  {
   "cell_type": "markdown",
   "metadata": {},
   "source": [
    "------------------------------------"
   ]
  },
  {
   "cell_type": "markdown",
   "metadata": {},
   "source": [
    "### Evaluate predictions:"
   ]
  },
  {
   "cell_type": "code",
   "execution_count": 80,
   "metadata": {},
   "outputs": [],
   "source": [
    "models_path = '/workspace/ceph_data/belief-based-argumentation-generation/models'\n",
    "\n",
    "\n",
    "#for evaluation model\n",
    "liwc_dict_path = '/workspace/ceph_data/belief-based-argumentation-generation/data/LIWC2015_English_Flat.dic.txt'\n",
    "tfidf_model_path = '/workspace/ceph_data/belief-based-argumentation-generation/models/cons_vs_lib_tfidf.pkl'\n",
    "belief_model_path = '/workspace/ceph_data/belief-based-argumentation-generation/models/cons_vs_lib_classifier.pkl'"
   ]
  },
  {
   "cell_type": "code",
   "execution_count": 81,
   "metadata": {},
   "outputs": [],
   "source": [
    "general_sents = [\n",
    "    'In this debate , I will be arguing that',\n",
    "    'The first round is for acceptance',\n",
    "    'last round are for',\n",
    "    'I will be arguing that',\n",
    "    'The goal of this debate',\n",
    "    'Round 1 : Acceptance Round 2 : Opening Argument Round 3 : Rebuttals Round 4',\n",
    "    'The first round is for acceptance only',\n",
    "    \n",
    "]"
   ]
  },
  {
   "cell_type": "code",
   "execution_count": 130,
   "metadata": {},
   "outputs": [],
   "source": [
    "def eval_table(gt_answers, approaches_preds, approachs_names, printit=True):\n",
    "    approaches_bleus1 = []\n",
    "    approaches_bleus2 = []\n",
    "    approaches_bleus3 = []\n",
    "    approaches_meteors = []\n",
    "    approaches_rouge_1 = []\n",
    "    approaches_rouge_2 = []\n",
    "    approaches_rouge_3 = []\n",
    "    approaches_rouge_l = []\n",
    "    approaches_rouge_w = []\n",
    "    \n",
    "    #rouge = Rouge(metrics = ['rouge-n', 'rouge-l', 'rouge-w'], max_n=4, apply_avg=True)\n",
    "    \n",
    "    for app_preds in approaches_preds:\n",
    "        approaches_bleus1.append(round(eval_bleu(gt_answers, app_preds, weights=(1, 0, 0, 0)),3))\n",
    "        approaches_bleus2.append(round(eval_bleu(gt_answers, app_preds, weights=(0, 1, 0, 0)),3))\n",
    "        approaches_bleus3.append(round(eval_bleu(gt_answers, app_preds, weights=(0, 0, 1, 0)),3))\n",
    "        approaches_meteors.append(round(eval_meteor(gt_answers, app_preds), 3))\n",
    "\n",
    "        #r_scores = rouge.get_scores(app_preds, gt_answers)\n",
    "        #approaches_rouge_1.append(round(r_scores['rouge-1']['f'],3))\n",
    "        #approaches_rouge_2.append(round(r_scores['rouge-2']['f'],3))\n",
    "        #approaches_rouge_3.append(round(r_scores['rouge-3']['f'],3))\n",
    "        #approaches_rouge_l.append(round(r_scores['rouge-l']['f'],3))\n",
    "        #approaches_rouge_w.append(round(r_scores['rouge-w']['f'],3))\n",
    "\n",
    "    \n",
    "    table_data = [\n",
    "        [name, approaches_bleus1[i], approaches_bleus2[i], approaches_bleus3[i], approaches_meteors[i]]\n",
    "            for i, name in enumerate(approachs_names)\n",
    "    ]\n",
    "    \n",
    "    if printit:\n",
    "        print(tabulate(table_data, headers=['#', 'BLEU', 'BLEU-2', 'BLEU-3', 'METEOR']))\n",
    "    \n",
    "    return table_data\n",
    "\n",
    "def eval_beliefs_v2(df, tgt_clm, clms, approaches_names, majority_class, printit=True):\n",
    "    \n",
    "    f1_scores  = []\n",
    "    acc_scores = []\n",
    "    \n",
    "    for clm in clms:\n",
    "        \n",
    "        df = df_text_to_belief(df, liwc_dict_path, tfidf_model_path, belief_model_path, \n",
    "                               clm+'_belief_preds', txt_clm=clm)\n",
    "        \n",
    "        f1_scores.append(round(f1_score(df[tgt_clm].tolist(), df[clm+'_belief_preds'].tolist(), average='macro'), 3))\n",
    "        acc_scores.append(round(accuracy_score(df[tgt_clm].tolist(), df[clm+'_belief_preds'].tolist()), 3))\n",
    "\n",
    "    #Attach majority score\n",
    "    df['majority_belief'] = [majority_class] * len(df)\n",
    "    #f1_scores.append(round(f1_score(df[tgt_clm].tolist(), df['majority_belief'].tolist(), average='macro'), 3))\n",
    "    #acc_scores.append(round(accuracy_score(df[tgt_clm].tolist(), df['majority_belief'].tolist()), 3))\n",
    "        \n",
    "    table_data = [\n",
    "        [name, acc_scores[i], f1_scores[i]]\n",
    "            for i, name in enumerate(approaches_names)\n",
    "    ]\n",
    "    \n",
    "    if printit:\n",
    "        print(tabulate(table_data, headers=['#', 'ACC', 'F1-SCORE']))\n",
    "    \n",
    "    return table_data, df\n",
    "\n",
    "\n",
    "def eval_beliefs(df, clms, approachs_names,  printit=True):\n",
    "    gt_beliefs = df.user_belief.tolist()\n",
    "\n",
    "    f1_scores  = []\n",
    "    acc_scores = []\n",
    "    \n",
    "    for clm in clms:\n",
    "        clm_vals = df[clm].tolist()\n",
    "        acc, f1, _ = user_ideology_from_text(clm_vals, gt_beliefs, \n",
    "                                             models_path + '/text_to_idology_model_left_right_no_other.pkl')\n",
    "        f1_scores.append(round(f1, 3))\n",
    "        acc_scores.append(round(acc, 3))\n",
    "\n",
    "\n",
    "    table_data = [\n",
    "        [name, acc_scores[i], f1_scores[i]]\n",
    "            for i, name in enumerate(approachs_names)\n",
    "    ]\n",
    "    \n",
    "    if printit:\n",
    "        print(tabulate(table_data, headers=['#', 'ACC', 'F1-SCORE']))\n",
    "    \n",
    "    return table_data\n",
    "\n",
    "def eval_morals(df, gt_clm, clms, approachs_names,  printit=True):\n",
    "\n",
    "    apps_errors = []\n",
    "    \n",
    "    gt_texts = df[gt_clm].tolist()\n",
    "    \n",
    "    for clm in clms:\n",
    "        gen_texts = df[clm].tolist()\n",
    "        app_error = eval_moral_similarity(gt_texts, gen_texts)\n",
    "        apps_errors. append(app_error)\n",
    "\n",
    "    table_data = [\n",
    "        [name, apps_errors[i]]\n",
    "            for i, name in enumerate(approachs_names)\n",
    "    ]\n",
    "    \n",
    "    if printit:\n",
    "        print(tabulate(table_data, headers=['#', 'ERROR']))\n",
    "    \n",
    "    return table_data\n",
    "\n",
    "\n",
    "def eval_distinct(approaches_preds, approaches_names,  printit=True):\n",
    "    distinct_1s = []\n",
    "    distinct_2s = []\n",
    "    for approach_preds in approaches_preds:\n",
    "        approaches_preds = [x.split(' ') for x in approach_preds]\n",
    "        #approaches_preds = [[item for sublist in approaches_preds for item in sublist]]\n",
    "        distinct_1 = round(distinct_n_corpus_level(approaches_preds, 1), 3)\n",
    "        distinct_2 = round(distinct_n_corpus_level(approaches_preds, 2), 3)\n",
    "        distinct_1s.append(distinct_1)\n",
    "        distinct_2s.append(distinct_2)\n",
    "        \n",
    "    \n",
    "    table_data = [\n",
    "    [name, distinct_1s[i], distinct_2s[i]]\n",
    "        for i, name in enumerate(approaches_names)\n",
    "    ]\n",
    "    \n",
    "    if printit:\n",
    "        print(tabulate(table_data, headers=['#', 'DISTINCT-1', 'DISTINCT-2']))\n",
    "    \n",
    "    return table_data"
   ]
  },
  {
   "cell_type": "code",
   "execution_count": 83,
   "metadata": {},
   "outputs": [],
   "source": [
    "#Get user's big-issues vectors\n",
    "users_info = pd.read_pickle('/workspace/ceph_data/belief-based-argumentation-generation/experiments/experiment_8/preprocessed_data/users.pkl')\n",
    "users_bi   = pd.Series(users_info.big_issues.values,index=users_info.user).to_dict()"
   ]
  },
  {
   "cell_type": "code",
   "execution_count": 84,
   "metadata": {},
   "outputs": [],
   "source": [
    "data  = pd.read_csv('/workspace/ceph_data/belief-based-argumentation-generation/experiments/experiment_8/preprocessed_data/test_df.csv')\n",
    "pplm_preds = pd.read_csv('/workspace/ceph_data/belief-based-argumentation-generation/experiments/pplm_experiment/output/modified_topic_long_test_preds.csv')\n",
    "pplm_preds_top_10_manual = pd.read_csv('/workspace/ceph_data/belief-based-argumentation-generation/experiments/pplm_experiment/output/pplm_manual_bi_preds.csv')\n",
    "pplm_preds_top_10_auto  = pd.read_csv('/workspace/ceph_data/belief-based-argumentation-generation/experiments/pplm_experiment/output/pplm_auto_top_10_bi_preds.csv')\n",
    "seq2seq_preds_35 = pd.read_csv('/workspace/ceph_data/belief-based-argumentation-generation/experiments/experiment_8/output/persona_based_test_preds.csv')\n",
    "#bart_preds = pd.read_csv('/workspace/ceph_data/belief-based-argumentation-generation//experiments/bart_experiment/output/test_preds_df.csv')"
   ]
  },
  {
   "cell_type": "code",
   "execution_count": 85,
   "metadata": {},
   "outputs": [],
   "source": [
    "pplm_preds = pplm_preds.drop_duplicates(['user', 'topic'])\n",
    "seq2seq_preds_35 = seq2seq_preds_35.drop_duplicates(['user', 'topic'])\n",
    "pplm_preds_top_10_manual = pplm_preds_top_10_manual.drop_duplicates(['user', 'topic'])\n",
    "pplm_preds_top_10_auto = pplm_preds_top_10_auto.drop_duplicates(['user', 'topic'])"
   ]
  },
  {
   "cell_type": "code",
   "execution_count": 86,
   "metadata": {},
   "outputs": [],
   "source": [
    "#data_topics = [x[0] for x in seq2seq_preds_35.topic.value_counts().to_dict().items() if x[1] > 1]\n",
    "#filter out rows rows on topics with one answer\n",
    "#pplm_preds = pplm_preds[pplm_preds.topic.isin(data_topics)]\n",
    "#seq2seq_preds_35 = seq2seq_preds_35[seq2seq_preds_35.topic.isin(data_topics)]"
   ]
  },
  {
   "cell_type": "code",
   "execution_count": 87,
   "metadata": {},
   "outputs": [
    {
     "data": {
      "image/png": "[encoded data removed]",
      "text/plain": [
       "<Figure size 432x288 with 1 Axes>"
      ]
     },
     "metadata": {
      "needs_background": "light"
     },
     "output_type": "display_data"
    }
   ],
   "source": [
    "plt.hist(seq2seq_preds_35.topic.value_counts().to_dict().values(), bins=range(1, 10, 1))\n",
    "plt.show()"
   ]
  },
  {
   "cell_type": "code",
   "execution_count": 88,
   "metadata": {},
   "outputs": [],
   "source": [
    "#bow_based_preds = pd.read_csv('/workspace/ceph_data/belief-based-argumentation-generation/experiments/pplm_experiment/output/pplm_preds_bi_new_bows_25_0.2_2.0.csv')\n",
    "#pplm_preds['user_bi_bow_based_pred_claim'] = bow_based_preds['user_bi_bow_based_pred_claim'].tolist()"
   ]
  },
  {
   "cell_type": "code",
   "execution_count": 89,
   "metadata": {},
   "outputs": [],
   "source": [
    "# pplm_preds_10 = pd.read_csv('/workspace/ceph_data/belief-based-argumentation-generation/experiments/pplm_experiment/output/pplm_preds_user_bow_top_10.csv')\n",
    "# pplm_preds_50 = pd.read_csv('/workspace/ceph_data/belief-based-argumentation-generation/experiments/pplm_experiment/output/pplm_preds_user_bow_top_50.csv')\n",
    "# pplm_preds_100 = pd.read_csv('/workspace/ceph_data/belief-based-argumentation-generation/experiments/pplm_experiment/output/pplm_preds_user_bow_top_100.csv')\n",
    "# pplm_preds['user_bow_based_pred_claim_10'] = pplm_preds_10['user_bow_based_pred_claim'].tolist()\n",
    "# pplm_preds['user_bow_based_pred_claim_50'] = pplm_preds_50['user_bow_based_pred_claim'].tolist()\n",
    "# pplm_preds['user_bow_based_pred_claim_100'] = pplm_preds_100['user_bow_based_pred_claim'].tolist()"
   ]
  },
  {
   "cell_type": "code",
   "execution_count": 90,
   "metadata": {},
   "outputs": [],
   "source": [
    "data['vis_bi'] = data.user.apply(lambda x: utils.desc_user_from_vec(users_bi[x]))\n",
    "data['vis_bi_len'] = data.vis_bi.apply(lambda x: len(x))\n",
    "# data = data[data.vis_bi_len < 5]"
   ]
  },
  {
   "cell_type": "code",
   "execution_count": 91,
   "metadata": {},
   "outputs": [],
   "source": [
    "pplm_preds['vis_bi'] = pplm_preds.user.apply(lambda x: utils.desc_user_from_vec(users_bi[x]))\n",
    "pplm_preds['vis_bi_len'] = pplm_preds.vis_bi.apply(lambda x: len(x))\n",
    "pplm_preds['topic_len'] = pplm_preds.topic.apply(lambda x: len(x.split()))\n",
    "#pplm_preds = pplm_preds[pplm_preds.topic_len < 5]"
   ]
  },
  {
   "cell_type": "code",
   "execution_count": 92,
   "metadata": {},
   "outputs": [],
   "source": [
    "pplm_preds_top_10_auto['vis_bi'] = pplm_preds_top_10_auto.user.apply(lambda x: utils.desc_user_from_vec(users_bi[x]))\n",
    "pplm_preds_top_10_auto['vis_bi_len'] = pplm_preds_top_10_auto.vis_bi.apply(lambda x: len(x))\n",
    "pplm_preds_top_10_auto['topic_len'] = pplm_preds_top_10_auto.topic.apply(lambda x: len(x.split()))"
   ]
  },
  {
   "cell_type": "code",
   "execution_count": 93,
   "metadata": {},
   "outputs": [],
   "source": [
    "pplm_preds_top_10_manual['vis_bi'] = pplm_preds_top_10_manual.user.apply(lambda x: utils.desc_user_from_vec(users_bi[x]))\n",
    "pplm_preds_top_10_manual['vis_bi_len'] = pplm_preds_top_10_manual.vis_bi.apply(lambda x: len(x))\n",
    "pplm_preds_top_10_manual['topic_len'] = pplm_preds_top_10_manual.topic.apply(lambda x: len(x.split()))"
   ]
  },
  {
   "cell_type": "code",
   "execution_count": 94,
   "metadata": {},
   "outputs": [],
   "source": [
    "seq2seq_preds_35['vis_bi'] = seq2seq_preds_35.user.apply(lambda x: utils.desc_user_from_vec(users_bi[x]))\n",
    "seq2seq_preds_35['vis_bi_len'] = seq2seq_preds_35.vis_bi.apply(lambda x: len(x))\n",
    "seq2seq_preds_35['topic_len'] = seq2seq_preds_35.topic.apply(lambda x: len(x.split()))\n",
    "#seq2seq_preds_35 = seq2seq_preds_35[seq2seq_preds_35.topic_len < 5]\n",
    "#seq2seq_preds_35 = seq2seq_preds_35[seq2seq_preds_35.vis_bi_len < 15]"
   ]
  },
  {
   "cell_type": "code",
   "execution_count": 95,
   "metadata": {},
   "outputs": [],
   "source": [
    "def text_contain_general_statements(text):\n",
    "    for x in general_sents:\n",
    "        if x.lower() in text.lower():\n",
    "            return True\n",
    "            break\n",
    "    return False"
   ]
  },
  {
   "cell_type": "code",
   "execution_count": 96,
   "metadata": {},
   "outputs": [
    {
     "name": "stdout",
     "output_type": "stream",
     "text": [
      "pplm: 200\n",
      "seq2seq: 1194\n",
      "gt: 41\n"
     ]
    }
   ],
   "source": [
    "print('pplm:', len([x for x in pplm_preds.user_bi_bow_based_pred_claim.tolist() \n",
    "     if text_contain_general_statements(x)]))\n",
    "print('seq2seq:', len([x for x in seq2seq_preds_35.big_issues_preds.tolist() \n",
    "     if text_contain_general_statements(x)]))\n",
    "print('gt:', len([x for x in seq2seq_preds_35.top_claim.tolist() \n",
    "     if text_contain_general_statements(str(x))]))"
   ]
  },
  {
   "cell_type": "code",
   "execution_count": 97,
   "metadata": {},
   "outputs": [
    {
     "data": {
      "image/png": "[encoded data removed]",
      "text/plain": [
       "<Figure size 432x288 with 1 Axes>"
      ]
     },
     "metadata": {
      "needs_background": "light"
     },
     "output_type": "display_data"
    }
   ],
   "source": [
    "plt.hist(pplm_preds.vis_bi_len.tolist())\n",
    "plt.show()"
   ]
  },
  {
   "cell_type": "code",
   "execution_count": 98,
   "metadata": {},
   "outputs": [
    {
     "data": {
      "image/png": "[encoded data removed]",
      "text/plain": [
       "<Figure size 432x288 with 1 Axes>"
      ]
     },
     "metadata": {
      "needs_background": "light"
     },
     "output_type": "display_data"
    }
   ],
   "source": [
    "plt.hist([len(x.split(' ')) for x in pplm_preds.user_bi_bow_based_pred_claim.tolist()])\n",
    "plt.hist([len(x.split(' ')) for x in seq2seq_preds_35.big_issues_preds.tolist()])\n",
    "plt.show()"
   ]
  },
  {
   "cell_type": "code",
   "execution_count": 99,
   "metadata": {
    "scrolled": true
   },
   "outputs": [
    {
     "data": {
      "text/html": [
       "<div>\n",
       "<style scoped>\n",
       "    .dataframe tbody tr th:only-of-type {\n",
       "        vertical-align: middle;\n",
       "    }\n",
       "\n",
       "    .dataframe tbody tr th {\n",
       "        vertical-align: top;\n",
       "    }\n",
       "\n",
       "    .dataframe thead th {\n",
       "        text-align: right;\n",
       "    }\n",
       "</style>\n",
       "<table border=\"1\" class=\"dataframe\">\n",
       "  <thead>\n",
       "    <tr style=\"text-align: right;\">\n",
       "      <th></th>\n",
       "      <th>topic</th>\n",
       "      <th>vis_bi</th>\n",
       "      <th>user_bi_bow_based_pred_claim</th>\n",
       "    </tr>\n",
       "  </thead>\n",
       "  <tbody>\n",
       "    <tr>\n",
       "      <th>0</th>\n",
       "      <td>should animals be treated equally to humans?</td>\n",
       "      <td>{'Abortion': 1, 'Affirmative Action': 1, 'Animal Rights': 1, 'Environmental Protection': 3, 'Gay Marriage': 1, 'Global Warming Exists': 3, 'Gun Rights': 3, 'Homeschooling': 3, 'Internet Censorship': 1, 'Iran-Iraq War': 1, 'Legalized Prostitution': 3, 'Medicaid &amp; Medicare': 3, 'Minimum Wage': 3, 'Occupy Movement': 1, 'Smoking Ban': 3, 'Social Programs': 3, 'Social Security': 3}</td>\n",
       "      <td>&lt;|endoftext|&gt;animals are better than humans because they have a higher IQ and can think for themselves.</td>\n",
       "    </tr>\n",
       "    <tr>\n",
       "      <th>1</th>\n",
       "      <td>cheese itz are better than ritz</td>\n",
       "      <td>{'Abortion': 3, 'Affirmative Action': 3, 'Animal Rights': 1, 'Barack Obama': 3, 'Border Fence': 3, 'Capitalism': 3, 'Civil Unions': 1, 'Death Penalty': 3, 'Drug Legalization': 1, 'Electoral College': 3, 'Environmental Protection': 1, 'Estate Tax': 1, 'European Union': 1, 'Euthanasia': 3, 'Federal Reserve': 1, 'Flat Tax': 3, 'Free Trade': 1, 'Gay Marriage': 1, 'Global Warming Exists': 1, 'Globalization': 1, 'Gold Standard': 3, 'Gun Rights': 3, 'Homeschooling': 1, 'Internet Censorship': 3, 'Iran-Iraq War': 3, 'Labor Union': 1, 'Legalized Prostitution': 3, 'Medicaid &amp; Medicare': 1, 'Medical Marijuana': 3, 'Military Intervention': 3, 'Minimum Wage': 1, 'National Health Care': 1, 'National Retail Sales Tax': 1, 'Occupy Movement': 1, 'Progressive Tax': 1, 'Racial Profiling': 3, 'Redistribution': 3, 'Smoking Ban': 1, 'Social Programs': 1, 'Social Security': 1, 'Socialism': 1, 'Stimulus Spending': 1, 'Term Limits': 1, 'Torture': 3, 'United Nations': 1, 'War in Afghanistan': 3, 'War on Terror': 1, 'Welfare': 1}</td>\n",
       "      <td>&lt;|endoftext|&gt;ritz are not a good idea. They will only create more problems than they solve, and the money spent on them is going to be wasted anyway.</td>\n",
       "    </tr>\n",
       "    <tr>\n",
       "      <th>2</th>\n",
       "      <td>can genetically modified foods solve world hunger?</td>\n",
       "      <td>{'Abortion': 1, 'Animal Rights': 3, 'Border Fence': 1, 'Civil Unions': 3, 'Death Penalty': 1, 'Drug Legalization': 1, 'Euthanasia': 1, 'Gay Marriage': 1, 'Minimum Wage': 3, 'Redistribution': 1, 'Smoking Ban': 3}</td>\n",
       "      <td>&lt;|endoftext|&gt;can genetically modified foods help fight obesity rates. http://www2.org... The main reason is that it will help people lose weight and increase their health.</td>\n",
       "    </tr>\n",
       "    <tr>\n",
       "      <th>3</th>\n",
       "      <td>has multiculturalism failed in europe?</td>\n",
       "      <td>{'Abortion': 1, 'Animal Rights': 3, 'Border Fence': 1, 'Civil Unions': 3, 'Death Penalty': 1, 'Drug Legalization': 1, 'Euthanasia': 1, 'Gay Marriage': 1, 'Minimum Wage': 3, 'Redistribution': 1, 'Smoking Ban': 3}</td>\n",
       "      <td>&lt;|endoftext|&gt;multiculturalism is a bad idea. 1) It will cause more problems than it solves.</td>\n",
       "    </tr>\n",
       "    <tr>\n",
       "      <th>...</th>\n",
       "      <td>...</td>\n",
       "      <td>...</td>\n",
       "      <td>...</td>\n",
       "    </tr>\n",
       "    <tr>\n",
       "      <th>21</th>\n",
       "      <td>dose chicken make you fat?</td>\n",
       "      <td>{'Affirmative Action': 3, 'Animal Rights': 3, 'Barack Obama': 3, 'Border Fence': 1, 'Death Penalty': 1, 'Drug Legalization': 1, 'Electoral College': 3, 'Estate Tax': 1, 'Flat Tax': 1, 'Free Trade': 3, 'Gay Marriage': 3, 'Gun Rights': 1, 'Minimum Wage': 1, 'National Health Care': 3, 'National Retail Sales Tax': 1, 'Progressive Tax': 1, 'Smoking Ban': 3, 'Social Programs': 3, 'Social Security': 3, 'Socialism': 3, 'Torture': 1, 'United Nations': 3}</td>\n",
       "      <td>&lt;|endoftext|&gt;dose chicken n chips are better than waffles. They have more flavor and they taste good.</td>\n",
       "    </tr>\n",
       "    <tr>\n",
       "      <th>22</th>\n",
       "      <td>is comedy an actual art form?</td>\n",
       "      <td>{'Affirmative Action': 3, 'Animal Rights': 3, 'Barack Obama': 3, 'Border Fence': 1, 'Death Penalty': 1, 'Drug Legalization': 1, 'Electoral College': 3, 'Estate Tax': 1, 'Flat Tax': 1, 'Free Trade': 3, 'Gay Marriage': 3, 'Gun Rights': 1, 'Minimum Wage': 1, 'National Health Care': 3, 'National Retail Sales Tax': 1, 'Progressive Tax': 1, 'Smoking Ban': 3, 'Social Programs': 3, 'Social Security': 3, 'Socialism': 3, 'Torture': 1, 'United Nations': 3}</td>\n",
       "      <td>&lt;|endoftext|&gt;an actual art form is the best. It has a lot of variety and it's not just one type of painting.</td>\n",
       "    </tr>\n",
       "    <tr>\n",
       "      <th>23</th>\n",
       "      <td>should cloning be allowed</td>\n",
       "      <td>{'Affirmative Action': 3, 'Animal Rights': 3, 'Barack Obama': 3, 'Border Fence': 1, 'Death Penalty': 1, 'Drug Legalization': 1, 'Electoral College': 3, 'Estate Tax': 1, 'Flat Tax': 1, 'Free Trade': 3, 'Gay Marriage': 3, 'Gun Rights': 1, 'Minimum Wage': 1, 'National Health Care': 3, 'National Retail Sales Tax': 1, 'Progressive Tax': 1, 'Smoking Ban': 3, 'Social Programs': 3, 'Social Security': 3, 'Socialism': 3, 'Torture': 1, 'United Nations': 3}</td>\n",
       "      <td>&lt;|endoftext|&gt;should cloning be allowed? I think it should because if you have a child and they are going to die, then why not just clone them.</td>\n",
       "    </tr>\n",
       "    <tr>\n",
       "      <th>24</th>\n",
       "      <td>should the u.s. deport justin bieber?</td>\n",
       "      <td>{'Death Penalty': 3, 'Drug Legalization': 3, 'Euthanasia': 3, 'Flat Tax': 3, 'Gay Marriage': 3, 'Global Warming Exists': 3, 'Gold Standard': 1}</td>\n",
       "      <td>&lt;|endoftext|&gt;the u.s. deport justin bieber. he is a bad person and should be deported to jail for life, but i think that if you are going through the legal process then they will let him go because of his past crimes so why not give them time in prison? also it would make people more likely when someone commits murder or rape to get away with their crime.</td>\n",
       "    </tr>\n",
       "  </tbody>\n",
       "</table>\n",
       "<p>25 rows × 3 columns</p>\n",
       "</div>"
      ],
      "text/plain": [
       "                                                 topic  \\\n",
       "0   should animals be treated equally to humans?         \n",
       "1   cheese itz are better than ritz                      \n",
       "2   can genetically modified foods solve world hunger?   \n",
       "3   has multiculturalism failed in europe?               \n",
       "..                                     ...               \n",
       "21  dose chicken make you fat?                           \n",
       "22  is comedy an actual art form?                        \n",
       "23  should cloning be allowed                            \n",
       "24  should the u.s. deport justin bieber?                \n",
       "\n",
       "                                                                                                                                                                                                                                                                                                                                                                                                                                                                                                                                                                                                                                                                                                                                                                                                                                                                                                                                                                                                                                                       vis_bi  \\\n",
       "0   {'Abortion': 1, 'Affirmative Action': 1, 'Animal Rights': 1, 'Environmental Protection': 3, 'Gay Marriage': 1, 'Global Warming Exists': 3, 'Gun Rights': 3, 'Homeschooling': 3, 'Internet Censorship': 1, 'Iran-Iraq War': 1, 'Legalized Prostitution': 3, 'Medicaid & Medicare': 3, 'Minimum Wage': 3, 'Occupy Movement': 1, 'Smoking Ban': 3, 'Social Programs': 3, 'Social Security': 3}                                                                                                                                                                                                                                                                                                                                                                                                                                                                                                                                                                                                                                                                 \n",
       "1   {'Abortion': 3, 'Affirmative Action': 3, 'Animal Rights': 1, 'Barack Obama': 3, 'Border Fence': 3, 'Capitalism': 3, 'Civil Unions': 1, 'Death Penalty': 3, 'Drug Legalization': 1, 'Electoral College': 3, 'Environmental Protection': 1, 'Estate Tax': 1, 'European Union': 1, 'Euthanasia': 3, 'Federal Reserve': 1, 'Flat Tax': 3, 'Free Trade': 1, 'Gay Marriage': 1, 'Global Warming Exists': 1, 'Globalization': 1, 'Gold Standard': 3, 'Gun Rights': 3, 'Homeschooling': 1, 'Internet Censorship': 3, 'Iran-Iraq War': 3, 'Labor Union': 1, 'Legalized Prostitution': 3, 'Medicaid & Medicare': 1, 'Medical Marijuana': 3, 'Military Intervention': 3, 'Minimum Wage': 1, 'National Health Care': 1, 'National Retail Sales Tax': 1, 'Occupy Movement': 1, 'Progressive Tax': 1, 'Racial Profiling': 3, 'Redistribution': 3, 'Smoking Ban': 1, 'Social Programs': 1, 'Social Security': 1, 'Socialism': 1, 'Stimulus Spending': 1, 'Term Limits': 1, 'Torture': 3, 'United Nations': 1, 'War in Afghanistan': 3, 'War on Terror': 1, 'Welfare': 1}   \n",
       "2   {'Abortion': 1, 'Animal Rights': 3, 'Border Fence': 1, 'Civil Unions': 3, 'Death Penalty': 1, 'Drug Legalization': 1, 'Euthanasia': 1, 'Gay Marriage': 1, 'Minimum Wage': 3, 'Redistribution': 1, 'Smoking Ban': 3}                                                                                                                                                                                                                                                                                                                                                                                                                                                                                                                                                                                                                                                                                                                                                                                                                                         \n",
       "3   {'Abortion': 1, 'Animal Rights': 3, 'Border Fence': 1, 'Civil Unions': 3, 'Death Penalty': 1, 'Drug Legalization': 1, 'Euthanasia': 1, 'Gay Marriage': 1, 'Minimum Wage': 3, 'Redistribution': 1, 'Smoking Ban': 3}                                                                                                                                                                                                                                                                                                                                                                                                                                                                                                                                                                                                                                                                                                                                                                                                                                         \n",
       "..                                                                                                                                                                                                                  ...                                                                                                                                                                                                                                                                                                                                                                                                                                                                                                                                                                                                                                                                                                                                                                                                                                         \n",
       "21  {'Affirmative Action': 3, 'Animal Rights': 3, 'Barack Obama': 3, 'Border Fence': 1, 'Death Penalty': 1, 'Drug Legalization': 1, 'Electoral College': 3, 'Estate Tax': 1, 'Flat Tax': 1, 'Free Trade': 3, 'Gay Marriage': 3, 'Gun Rights': 1, 'Minimum Wage': 1, 'National Health Care': 3, 'National Retail Sales Tax': 1, 'Progressive Tax': 1, 'Smoking Ban': 3, 'Social Programs': 3, 'Social Security': 3, 'Socialism': 3, 'Torture': 1, 'United Nations': 3}                                                                                                                                                                                                                                                                                                                                                                                                                                                                                                                                                                                           \n",
       "22  {'Affirmative Action': 3, 'Animal Rights': 3, 'Barack Obama': 3, 'Border Fence': 1, 'Death Penalty': 1, 'Drug Legalization': 1, 'Electoral College': 3, 'Estate Tax': 1, 'Flat Tax': 1, 'Free Trade': 3, 'Gay Marriage': 3, 'Gun Rights': 1, 'Minimum Wage': 1, 'National Health Care': 3, 'National Retail Sales Tax': 1, 'Progressive Tax': 1, 'Smoking Ban': 3, 'Social Programs': 3, 'Social Security': 3, 'Socialism': 3, 'Torture': 1, 'United Nations': 3}                                                                                                                                                                                                                                                                                                                                                                                                                                                                                                                                                                                           \n",
       "23  {'Affirmative Action': 3, 'Animal Rights': 3, 'Barack Obama': 3, 'Border Fence': 1, 'Death Penalty': 1, 'Drug Legalization': 1, 'Electoral College': 3, 'Estate Tax': 1, 'Flat Tax': 1, 'Free Trade': 3, 'Gay Marriage': 3, 'Gun Rights': 1, 'Minimum Wage': 1, 'National Health Care': 3, 'National Retail Sales Tax': 1, 'Progressive Tax': 1, 'Smoking Ban': 3, 'Social Programs': 3, 'Social Security': 3, 'Socialism': 3, 'Torture': 1, 'United Nations': 3}                                                                                                                                                                                                                                                                                                                                                                                                                                                                                                                                                                                           \n",
       "24  {'Death Penalty': 3, 'Drug Legalization': 3, 'Euthanasia': 3, 'Flat Tax': 3, 'Gay Marriage': 3, 'Global Warming Exists': 3, 'Gold Standard': 1}                                                                                                                                                                                                                                                                                                                                                                                                                                                                                                                                                                                                                                                                                                                                                                                                                                                                                                             \n",
       "\n",
       "                                                                                                                                                                                                                                                                                                                                             user_bi_bow_based_pred_claim  \n",
       "0   <|endoftext|>animals are better than humans because they have a higher IQ and can think for themselves.                                                                                                                                                                                                                                                                \n",
       "1   <|endoftext|>ritz are not a good idea. They will only create more problems than they solve, and the money spent on them is going to be wasted anyway.                                                                                                                                                                                                                  \n",
       "2   <|endoftext|>can genetically modified foods help fight obesity rates. http://www2.org... The main reason is that it will help people lose weight and increase their health.                                                                                                                                                                                            \n",
       "3   <|endoftext|>multiculturalism is a bad idea. 1) It will cause more problems than it solves.                                                                                                                                                                                                                                                                            \n",
       "..                                                                                          ...                                                                                                                                                                                                                                                                            \n",
       "21  <|endoftext|>dose chicken n chips are better than waffles. They have more flavor and they taste good.                                                                                                                                                                                                                                                                  \n",
       "22  <|endoftext|>an actual art form is the best. It has a lot of variety and it's not just one type of painting.                                                                                                                                                                                                                                                           \n",
       "23  <|endoftext|>should cloning be allowed? I think it should because if you have a child and they are going to die, then why not just clone them.                                                                                                                                                                                                                         \n",
       "24  <|endoftext|>the u.s. deport justin bieber. he is a bad person and should be deported to jail for life, but i think that if you are going through the legal process then they will let him go because of his past crimes so why not give them time in prison? also it would make people more likely when someone commits murder or rape to get away with their crime.  \n",
       "\n",
       "[25 rows x 3 columns]"
      ]
     },
     "execution_count": 99,
     "metadata": {},
     "output_type": "execute_result"
    }
   ],
   "source": [
    "pplm_preds[['topic', 'vis_bi', 'user_bi_bow_based_pred_claim']].head(n=25)"
   ]
  },
  {
   "cell_type": "markdown",
   "metadata": {},
   "source": [
    "### pplm eval:"
   ]
  },
  {
   "cell_type": "code",
   "execution_count": 131,
   "metadata": {},
   "outputs": [
    {
     "name": "stdout",
     "output_type": "stream",
     "text": [
      "#               BLEU    BLEU-2    BLEU-3    METEOR\n",
      "------------  ------  --------  --------  --------\n",
      "uncoditioned   9.614     1.258     0.258     0.083\n",
      "bi_bow        11.939     0.951     0.159     0.107\n"
     ]
    }
   ],
   "source": [
    "gt_answers = [str(x) for x in pplm_preds.top_claim.tolist()]\n",
    "topics = pplm_preds.topic.tolist()\n",
    "uncond_preds   = [x[1].replace('<|endoftext|>', '') for x in enumerate(pplm_preds.uncond_pred_claim.tolist())]\n",
    "bi_bow_preds   = [x[1].replace('<|endoftext|>', '') for x in enumerate(pplm_preds.user_bi_bow_based_pred_claim.tolist())]\n",
    "\n",
    "results = eval_table(gt_answers, [uncond_preds, bi_bow_preds], ['uncoditioned', 'bi_bow'])"
   ]
  },
  {
   "cell_type": "code",
   "execution_count": 101,
   "metadata": {},
   "outputs": [
    {
     "name": "stdout",
     "output_type": "stream",
     "text": [
      "#               DISTINCT-1    DISTINCT-2\n",
      "------------  ------------  ------------\n",
      "uncoditioned         0.736         0.791\n",
      "bi_bow               0.948         0.936\n"
     ]
    }
   ],
   "source": [
    "results = eval_distinct([uncond_preds, bi_bow_preds], ['uncoditioned', 'bi_bow'])"
   ]
  },
  {
   "cell_type": "markdown",
   "metadata": {},
   "source": [
    "### seq2seq eval:"
   ]
  },
  {
   "cell_type": "code",
   "execution_count": 102,
   "metadata": {
    "scrolled": true
   },
   "outputs": [
    {
     "data": {
      "text/html": [
       "<div>\n",
       "<style scoped>\n",
       "    .dataframe tbody tr th:only-of-type {\n",
       "        vertical-align: middle;\n",
       "    }\n",
       "\n",
       "    .dataframe tbody tr th {\n",
       "        vertical-align: top;\n",
       "    }\n",
       "\n",
       "    .dataframe thead th {\n",
       "        text-align: right;\n",
       "    }\n",
       "</style>\n",
       "<table border=\"1\" class=\"dataframe\">\n",
       "  <thead>\n",
       "    <tr style=\"text-align: right;\">\n",
       "      <th></th>\n",
       "      <th>topic</th>\n",
       "      <th>top_claim</th>\n",
       "      <th>baseline_preds</th>\n",
       "      <th>big_issues_preds</th>\n",
       "    </tr>\n",
       "  </thead>\n",
       "  <tbody>\n",
       "    <tr>\n",
       "      <th>0</th>\n",
       "      <td>should animals be treated equally to humans?</td>\n",
       "      <td>If you think all animals are nice kind furry animals , you must have missed those articles about sea otters .</td>\n",
       "      <td>&lt;claim&gt; If a person wants to take care of others , then they should have the right to do what they want , and if they do n't like it , they are the ones who are . &lt;/claim&gt;</td>\n",
       "      <td>&lt;claim&gt; I believe that animals should be treated equally , and that we should not be able to do what they are doing . ' &lt;/claim&gt; ) '' Animals do not belong to animals . &lt;/claim&gt;</td>\n",
       "    </tr>\n",
       "    <tr>\n",
       "      <th>1</th>\n",
       "      <td>cheese itz are better than ritz</td>\n",
       "      <td>I shall give you warning now that the right honorable Jacob Rees-Mogg , particularly in aid of and by Sixtus Dominic Boniface Christopher Rees-Mogg shall not tolerate these intolerable hate crimes against Ritz .</td>\n",
       "      <td>&lt;claim&gt; The point of this debate is to discuss whether or not it is better to be considered a `` better '' than an actual type of candy , but that is not true . &lt;/claim&gt;</td>\n",
       "      <td>&lt;claim&gt; The only thing that can be made is that you have to have participated in AT LEAST ONE debate , and I would like to thank my opponent for creating this debate . &lt;/claim&gt;</td>\n",
       "    </tr>\n",
       "    <tr>\n",
       "      <th>2</th>\n",
       "      <td>can genetically modified foods solve world hunger?</td>\n",
       "      <td>It is moral wrong In my opinion it is wrong to use gmos because it may cause the new plants to out compete other plants and posing make them extinct .</td>\n",
       "      <td>&lt;claim&gt; The `` Natural Selection '' is a “ organic ” that has been proven to be genetically modified , and that it is not possible that humans are genetically identical to humans . &lt;/claim&gt;</td>\n",
       "      <td>&lt;claim&gt; If we are genetically genetically advanced , we would be able to do what we want , and we should not allow it to be modified as it is not as harmful . &lt;/claim&gt;</td>\n",
       "    </tr>\n",
       "    <tr>\n",
       "      <th>3</th>\n",
       "      <td>has multiculturalism failed in europe?</td>\n",
       "      <td>Yes it has Multiculturalism has failed in Europe because there are conflicts between different races and religions .</td>\n",
       "      <td>&lt;claim&gt; I will be arguing that the United States of America should not be allowed in order to uphold the status quo , and that it is a violation of freedom of speech . &lt;/claim&gt;</td>\n",
       "      <td>&lt;claim&gt; The idea that the government has a right to do what is right and wrong is that it is not a good thing to happen , but that does n't mean it 's bad . &lt;/claim&gt;</td>\n",
       "    </tr>\n",
       "    <tr>\n",
       "      <th>...</th>\n",
       "      <td>...</td>\n",
       "      <td>...</td>\n",
       "      <td>...</td>\n",
       "      <td>...</td>\n",
       "    </tr>\n",
       "    <tr>\n",
       "      <th>21</th>\n",
       "      <td>dose chicken make you fat?</td>\n",
       "      <td>It helps to build muscle , aids your cell structure to become stronger , they make your body be able to move , it helps you to do exercise for a longer period without getting tired or the need to have a break .</td>\n",
       "      <td>&lt;claim&gt; The intent of this debate is to determine whether or not the chicken meets the egg , or whether it should be done in the first place , as well as possible . &lt;/claim&gt;</td>\n",
       "      <td>&lt;claim&gt; I will be arguing for the statement that milk is not a good thing , and my opponent will argue that it is a waste of time and the chicken is an egg . &lt;/claim&gt;</td>\n",
       "    </tr>\n",
       "    <tr>\n",
       "      <th>22</th>\n",
       "      <td>is comedy an actual art form?</td>\n",
       "      <td>No one should say no to this topic because comedy is also a type of genre you have on tele .</td>\n",
       "      <td>&lt;claim&gt; If the first round is for acceptance , then you can not use any of these videos in the last round , but no new arguments can be made in round 2 . &lt;/claim&gt;</td>\n",
       "      <td>&lt;claim&gt; If a movie is a piece of art , then it is not an art . ' '' it does n't matter if you do n't like it or not , it 's not art . &lt;/claim&gt;</td>\n",
       "    </tr>\n",
       "    <tr>\n",
       "      <th>23</th>\n",
       "      <td>should cloning be allowed</td>\n",
       "      <td>I believe it will benefit our society and bring women into the picture of hopefully being known for their kindness and brains rather than other things ... .</td>\n",
       "      <td>&lt;claim&gt; If you think that cloning should be banned , I would like to point out that this is not a debate on whether or not cloning is a good thing to do . &lt;/claim&gt;</td>\n",
       "      <td>&lt;claim&gt; If you think that cloning should be banned , I will be arguing that it should not be legalized , and my opponent will argue why it is a waste of time . &lt;/claim&gt;</td>\n",
       "    </tr>\n",
       "    <tr>\n",
       "      <th>24</th>\n",
       "      <td>should the u.s. deport justin bieber?</td>\n",
       "      <td>I think people hate him so much because he is so cocky which is n't reason enough to have him deported .</td>\n",
       "      <td>&lt;claim&gt; The United States should have the right to decide what they want to do with their own bodies , and if they do n't want them to go to jail , they should be punished . &lt;/claim&gt;</td>\n",
       "      <td>&lt;claim&gt; The United States Federal Government should have the right to decide whether or not the government should be involved in the status quo , and I will be arguing that it is not . &lt;/claim&gt;</td>\n",
       "    </tr>\n",
       "  </tbody>\n",
       "</table>\n",
       "<p>25 rows × 4 columns</p>\n",
       "</div>"
      ],
      "text/plain": [
       "                                                 topic  \\\n",
       "0   should animals be treated equally to humans?         \n",
       "1   cheese itz are better than ritz                      \n",
       "2   can genetically modified foods solve world hunger?   \n",
       "3   has multiculturalism failed in europe?               \n",
       "..                                     ...               \n",
       "21  dose chicken make you fat?                           \n",
       "22  is comedy an actual art form?                        \n",
       "23  should cloning be allowed                            \n",
       "24  should the u.s. deport justin bieber?                \n",
       "\n",
       "                                                                                                                                                                                                              top_claim  \\\n",
       "0   If you think all animals are nice kind furry animals , you must have missed those articles about sea otters .                                                                                                         \n",
       "1   I shall give you warning now that the right honorable Jacob Rees-Mogg , particularly in aid of and by Sixtus Dominic Boniface Christopher Rees-Mogg shall not tolerate these intolerable hate crimes against Ritz .   \n",
       "2   It is moral wrong In my opinion it is wrong to use gmos because it may cause the new plants to out compete other plants and posing make them extinct .                                                                \n",
       "3   Yes it has Multiculturalism has failed in Europe because there are conflicts between different races and religions .                                                                                                  \n",
       "..                                                                                                                   ...                                                                                                  \n",
       "21  It helps to build muscle , aids your cell structure to become stronger , they make your body be able to move , it helps you to do exercise for a longer period without getting tired or the need to have a break .    \n",
       "22  No one should say no to this topic because comedy is also a type of genre you have on tele .                                                                                                                          \n",
       "23  I believe it will benefit our society and bring women into the picture of hopefully being known for their kindness and brains rather than other things ... .                                                          \n",
       "24  I think people hate him so much because he is so cocky which is n't reason enough to have him deported .                                                                                                              \n",
       "\n",
       "                                                                                                                                                                                   baseline_preds  \\\n",
       "0   <claim> If a person wants to take care of others , then they should have the right to do what they want , and if they do n't like it , they are the ones who are . </claim>                     \n",
       "1   <claim> The point of this debate is to discuss whether or not it is better to be considered a `` better '' than an actual type of candy , but that is not true . </claim>                       \n",
       "2   <claim> The `` Natural Selection '' is a “ organic ” that has been proven to be genetically modified , and that it is not possible that humans are genetically identical to humans . </claim>   \n",
       "3   <claim> I will be arguing that the United States of America should not be allowed in order to uphold the status quo , and that it is a violation of freedom of speech . </claim>                \n",
       "..                                                                                                                                                                               ...                \n",
       "21  <claim> The intent of this debate is to determine whether or not the chicken meets the egg , or whether it should be done in the first place , as well as possible . </claim>                   \n",
       "22  <claim> If the first round is for acceptance , then you can not use any of these videos in the last round , but no new arguments can be made in round 2 . </claim>                              \n",
       "23  <claim> If you think that cloning should be banned , I would like to point out that this is not a debate on whether or not cloning is a good thing to do . </claim>                             \n",
       "24  <claim> The United States should have the right to decide what they want to do with their own bodies , and if they do n't want them to go to jail , they should be punished . </claim>          \n",
       "\n",
       "                                                                                                                                                                                     big_issues_preds  \n",
       "0   <claim> I believe that animals should be treated equally , and that we should not be able to do what they are doing . ' </claim> ) '' Animals do not belong to animals . </claim>                  \n",
       "1   <claim> The only thing that can be made is that you have to have participated in AT LEAST ONE debate , and I would like to thank my opponent for creating this debate . </claim>                   \n",
       "2   <claim> If we are genetically genetically advanced , we would be able to do what we want , and we should not allow it to be modified as it is not as harmful . </claim>                            \n",
       "3   <claim> The idea that the government has a right to do what is right and wrong is that it is not a good thing to happen , but that does n't mean it 's bad . </claim>                              \n",
       "..                                                                                                                                                                    ...                              \n",
       "21  <claim> I will be arguing for the statement that milk is not a good thing , and my opponent will argue that it is a waste of time and the chicken is an egg . </claim>                             \n",
       "22  <claim> If a movie is a piece of art , then it is not an art . ' '' it does n't matter if you do n't like it or not , it 's not art . </claim>                                                     \n",
       "23  <claim> If you think that cloning should be banned , I will be arguing that it should not be legalized , and my opponent will argue why it is a waste of time . </claim>                           \n",
       "24  <claim> The United States Federal Government should have the right to decide whether or not the government should be involved in the status quo , and I will be arguing that it is not . </claim>  \n",
       "\n",
       "[25 rows x 4 columns]"
      ]
     },
     "execution_count": 102,
     "metadata": {},
     "output_type": "execute_result"
    }
   ],
   "source": [
    "seq2seq_preds_35[['topic', 'top_claim', 'baseline_preds', 'big_issues_preds']].head(n=25)"
   ]
  },
  {
   "cell_type": "code",
   "execution_count": 132,
   "metadata": {},
   "outputs": [
    {
     "name": "stdout",
     "output_type": "stream",
     "text": [
      "seq2seq 35:\n",
      "#             BLEU    BLEU-2    BLEU-3    METEOR\n",
      "----------  ------  --------  --------  --------\n",
      "baseline    18.248     2.206     0.437     0.158\n",
      "big_issues  18.388     2.256     0.456     0.158\n"
     ]
    }
   ],
   "source": [
    "gt_answers = [str(x) for x in seq2seq_preds_35.top_claim.tolist()]\n",
    "baseline_preds   = [x.replace('<claim>', '').replace('</claim>', '') for x in seq2seq_preds_35.baseline_preds.tolist()]\n",
    "bi_preds         = [x.replace('<claim>', '').replace('</claim>', '') for x in seq2seq_preds_35.big_issues_preds.tolist()]\n",
    "\n",
    "print('seq2seq 35:')\n",
    "results = eval_table(gt_answers, [baseline_preds, bi_preds], ['baseline', 'big_issues'])"
   ]
  },
  {
   "cell_type": "code",
   "execution_count": 104,
   "metadata": {},
   "outputs": [
    {
     "name": "stdout",
     "output_type": "stream",
     "text": [
      "#             DISTINCT-1    DISTINCT-2\n",
      "----------  ------------  ------------\n",
      "baseline           0.763         0.97\n",
      "big_issues         0.756         0.969\n"
     ]
    }
   ],
   "source": [
    "results = eval_distinct([baseline_preds, bi_preds], ['baseline', 'big_issues'])"
   ]
  },
  {
   "cell_type": "markdown",
   "metadata": {},
   "source": [
    "### Significance Test:"
   ]
  },
  {
   "cell_type": "code",
   "execution_count": 133,
   "metadata": {},
   "outputs": [],
   "source": [
    "def check_sig(v1s, v2s, alpha=0.05):\n",
    "    from scipy import stats\n",
    "\n",
    "    diff = list(map(lambda x1 , x2: x1 - x2, v1s, v2s))\n",
    "    is_normal = stats.shapiro(diff)[1] > alpha\n",
    "    \n",
    "    ttest = stats.ttest_rel(v1s, v2s) if is_normal else stats.wilcoxon(v1s, v2s)\n",
    "    if ttest.statistic >=0:\n",
    "        if (ttest.pvalue/2) <= alpha:\n",
    "            return True\n",
    "        else:\n",
    "            return False\n",
    "    else:\n",
    "        return False"
   ]
  },
  {
   "cell_type": "code",
   "execution_count": 134,
   "metadata": {},
   "outputs": [],
   "source": [
    "list_of_indxs = np.array_split(pplm_preds.index, 10)\n",
    "list_of_pplm_dfs = [pplm_preds.loc[idx] for idx in list_of_indxs]\n",
    "list_of_seq2seq_dfs = [seq2seq_preds_35.loc[idx] for idx in list_of_indxs]"
   ]
  },
  {
   "cell_type": "markdown",
   "metadata": {},
   "source": [
    "#### BLEU & METEOR:"
   ]
  },
  {
   "cell_type": "code",
   "execution_count": 135,
   "metadata": {
    "scrolled": true
   },
   "outputs": [],
   "source": [
    "list_of_pplm_table_scores = []\n",
    "for df in list_of_pplm_dfs:\n",
    "    gt_answers = [str(x) for x in df.top_claim.tolist()]\n",
    "    topics = df.topic.tolist()\n",
    "    uncond_preds   = [x.replace('<|endoftext|>', '') for x in df.uncond_pred_claim.tolist()]\n",
    "    bi_bow_preds   = [x.replace('<|endoftext|>', '') for x in df.user_bi_bow_based_pred_claim.tolist()]\n",
    "    results_table  = eval_table(gt_answers, [uncond_preds, bi_bow_preds], ['uncoditioned','bi_bow'], printit=False)\n",
    "    list_of_pplm_table_scores.append(results_table)"
   ]
  },
  {
   "cell_type": "code",
   "execution_count": 136,
   "metadata": {},
   "outputs": [],
   "source": [
    "list_of_seq2seq_table_scores = []\n",
    "for df in list_of_seq2seq_dfs:\n",
    "    gt_answers = [str(x) for x in df.top_claim.tolist()]\n",
    "    baseline_preds   = df.baseline_preds.tolist()\n",
    "    bi_preds         = df.big_issues_preds.tolist()\n",
    "    results_table    = eval_table(gt_answers, [baseline_preds, bi_preds], ['baseline', 'big_issues'], printit=False)\n",
    "    list_of_seq2seq_table_scores.append(results_table)"
   ]
  },
  {
   "cell_type": "code",
   "execution_count": 137,
   "metadata": {},
   "outputs": [
    {
     "name": "stdout",
     "output_type": "stream",
     "text": [
      "bleu-1: pvalue for bi_bow vs unconditioned is True\n",
      "bleu-2: pvalue for bi_bow vs unconditioned is False\n",
      "bleu-3: pvalue for bi_bow vs unconditioned is False\n",
      "meteor: pvalue for bi_bow vs unconditioned is True\n"
     ]
    }
   ],
   "source": [
    "for i, measure in enumerate(['bleu-1', 'bleu-2', 'bleu-3', 'meteor']):\n",
    "    m_scores1 = [x[0][i+1] for x in list_of_pplm_table_scores]\n",
    "    m_scores2 = [x[1][i+1] for x in list_of_pplm_table_scores]\n",
    "    print('{}: pvalue for bi_bow vs unconditioned is {}'.format(measure, \n",
    "                                                                check_sig(m_scores2, m_scores1, alpha=0.05)))"
   ]
  },
  {
   "cell_type": "code",
   "execution_count": 138,
   "metadata": {},
   "outputs": [
    {
     "name": "stdout",
     "output_type": "stream",
     "text": [
      "bleu-1: pvalue for big_issues vs unconditioned is True\n",
      "bleu-2: pvalue for big_issues vs unconditioned is True\n",
      "meteor: pvalue for big_issues vs unconditioned is False\n"
     ]
    }
   ],
   "source": [
    "for i, measure in enumerate(['bleu-1', 'bleu-2', 'meteor']):\n",
    "    m_scores1 = [x[0][i+1] for x in list_of_seq2seq_table_scores]\n",
    "    m_scores2 = [x[1][i+1] for x in list_of_seq2seq_table_scores]\n",
    "    print('{}: pvalue for big_issues vs unconditioned is {}'.format(measure, \n",
    "                                                                check_sig(m_scores2, m_scores1, alpha=0.05)))"
   ]
  },
  {
   "cell_type": "code",
   "execution_count": 139,
   "metadata": {},
   "outputs": [
    {
     "name": "stdout",
     "output_type": "stream",
     "text": [
      "bleu-1: pvalue for pplm vs seq2seq is False\n",
      "bleu-2: pvalue for pplm vs seq2seq is False\n",
      "meteor: pvalue for pplm vs seq2seq is False\n"
     ]
    }
   ],
   "source": [
    "for i, measure in enumerate(['bleu-1', 'bleu-2', 'meteor']):\n",
    "    m_scores1 = [x[1][i+1] for x in list_of_pplm_table_scores]\n",
    "    m_scores2 = [x[1][i+1] for x in list_of_seq2seq_table_scores]\n",
    "    print('{}: pvalue for pplm vs seq2seq is {}'.format(measure, \n",
    "                                                        check_sig(m_scores1, m_scores2, alpha=0.05)))"
   ]
  },
  {
   "cell_type": "markdown",
   "metadata": {},
   "source": [
    "#### Distinct-1 and 2:"
   ]
  },
  {
   "cell_type": "code",
   "execution_count": 126,
   "metadata": {},
   "outputs": [],
   "source": [
    "list_of_pplm_table_scores = []\n",
    "for df in list_of_pplm_dfs:\n",
    "    gt_answers = [str(x) for x in df.top_claim.tolist()]\n",
    "    topics = df.topic.tolist()\n",
    "    uncond_preds   = [x.replace('<|endoftext|>', '') for x in df.uncond_pred_claim.tolist()]\n",
    "    bi_bow_preds   = [x.replace('<|endoftext|>', '') for x in df.user_bi_bow_based_pred_claim.tolist()]\n",
    "    results_table  = eval_distinct([uncond_preds, bi_bow_preds], ['uncoditioned','bi_bow'], printit=False)\n",
    "    list_of_pplm_table_scores.append(results_table)"
   ]
  },
  {
   "cell_type": "code",
   "execution_count": 127,
   "metadata": {},
   "outputs": [],
   "source": [
    "list_of_seq2seq_table_scores = []\n",
    "for df in list_of_seq2seq_dfs:\n",
    "    gt_answers = [str(x) for x in df.top_claim.tolist()]\n",
    "    baseline_preds   = df.baseline_preds.tolist()\n",
    "    bi_preds         = df.big_issues_preds.tolist()\n",
    "    results_table    = eval_distinct([baseline_preds, bi_preds], ['baseline', 'big_issues'], printit=False)\n",
    "    list_of_seq2seq_table_scores.append(results_table)"
   ]
  },
  {
   "cell_type": "code",
   "execution_count": 128,
   "metadata": {},
   "outputs": [
    {
     "name": "stdout",
     "output_type": "stream",
     "text": [
      "distinct-1: pvalue for pplm cond vs uncond is True\n",
      "distinct-2: pvalue for pplm cond vs uncond is True\n"
     ]
    }
   ],
   "source": [
    "for i, measure in enumerate(['distinct-1', 'distinct-2']):\n",
    "    m_scores1 = [x[0][i+1] for x in list_of_pplm_table_scores]\n",
    "    m_scores2 = [x[1][i+1] for x in list_of_pplm_table_scores]\n",
    "    print('{}: pvalue for pplm cond vs uncond is {}'.format(measure, \n",
    "                                                        check_sig(m_scores2, m_scores1, alpha=0.05)))"
   ]
  },
  {
   "cell_type": "code",
   "execution_count": 129,
   "metadata": {},
   "outputs": [
    {
     "name": "stdout",
     "output_type": "stream",
     "text": [
      "distinct-1: pvalue for seq2seq cond vs uncond is False\n",
      "distinct-2: pvalue for seq2seq cond vs uncond is True\n"
     ]
    },
    {
     "name": "stderr",
     "output_type": "stream",
     "text": [
      "/opt/conda/lib/python3.6/site-packages/scipy/stats/morestats.py:2957: UserWarning: Exact p-value calculation does not work if there are ties. Switching to normal approximation.\n",
      "  warnings.warn(\"Exact p-value calculation does not work if there are \"\n",
      "/opt/conda/lib/python3.6/site-packages/scipy/stats/morestats.py:2971: UserWarning: Sample size too small for normal approximation.\n",
      "  warnings.warn(\"Sample size too small for normal approximation.\")\n"
     ]
    }
   ],
   "source": [
    "for i, measure in enumerate(['distinct-1', 'distinct-2']):\n",
    "    m_scores1 = [x[0][i+1] for x in list_of_seq2seq_table_scores]\n",
    "    m_scores2 = [x[1][i+1] for x in list_of_seq2seq_table_scores]\n",
    "    print('{}: pvalue for seq2seq cond vs uncond is {}'.format(measure, \n",
    "                                                        check_sig(m_scores2, m_scores1, alpha=0.05)))"
   ]
  },
  {
   "cell_type": "markdown",
   "metadata": {},
   "source": [
    "### Create sample for manual evaluation:"
   ]
  },
  {
   "cell_type": "code",
   "execution_count": 53,
   "metadata": {},
   "outputs": [],
   "source": [
    "topic_bi_pairs = pickle.load(open('/workspace/ceph_data/belief-based-argumentation-generation/data/test_big_issues_topic_10_each_lvl.pkl', 'rb'))\n",
    "top_10_bi = ['Abortion', 'Death Penalty', 'Gay Marriage', 'Drug Legalization', 'Global Warming Exists', 'Environmental Protection', 'Medical Marijuana', 'Smoking Ban', 'Minimum Wage', 'Border Fence']\n",
    "\n",
    "def merge_two_clms(c1, c2):\n",
    "    l1 = c1.split('\\n')\n",
    "    l2 = c2.split('\\n')\n",
    "    output= []\n",
    "    for x in zip(l1, l2):\n",
    "        output.append(x[0] + ' \\n ' + x[1] + ' \\n ')\n",
    "    return ' \\n '.join(output)\n",
    "\n",
    "def filter_out_big_issues(row, rel_lvls=[]):\n",
    "    output_row = {}\n",
    "    for bi in row['vis_bi'].items():\n",
    "        if (row['topic'], bi[0]) in topic_bi_pairs and topic_bi_pairs[(row['topic'], bi[0])] in rel_lvls and row['topic'] != 'god exists':\n",
    "            output_row[bi[0]] = bi[1]\n",
    "    return output_row\n",
    "\n",
    "def user_has_stance_on_bi(bi, bi_vec):\n",
    "    return bi in bi_vec"
   ]
  },
  {
   "cell_type": "code",
   "execution_count": 56,
   "metadata": {},
   "outputs": [],
   "source": [
    "pplm_preds_top_10_auto['seq2seq_big_issues']  = seq2seq_preds_35['big_issues_preds'].tolist()\n",
    "pplm_preds_top_10_auto['user_bi_bow_based_pred_claim_manual']  = pplm_preds_top_10_manual['user_bi_bow_based_pred_claim'].tolist()\n",
    "pplm_preds_top_10_auto['filtered_vis_bi']     = pplm_preds_top_10_auto.apply(lambda row: filter_out_big_issues(row, rel_lvls=[2]), axis=1)\n",
    "pplm_preds_top_10_auto['filtered_vis_bi_no_answer'] = pplm_preds_top_10_auto.filtered_vis_bi.apply(lambda x: {y[0]: '?' for y in x.items()})\n",
    "pplm_preds_top_10_auto['filtered_vis_bi_len'] = pplm_preds_top_10_auto.filtered_vis_bi.apply(lambda x: len(x.items()))\n",
    "pplm_preds_top_10_auto['top_10_bi_vis'] = pplm_preds_top_10_auto.vis_bi.apply(lambda x: {y[0]: y[1] for y in x.items()  if y[0] in top_10_bi})"
   ]
  },
  {
   "cell_type": "code",
   "execution_count": 58,
   "metadata": {},
   "outputs": [
    {
     "data": {
      "text/html": [
       "<div>\n",
       "<style scoped>\n",
       "    .dataframe tbody tr th:only-of-type {\n",
       "        vertical-align: middle;\n",
       "    }\n",
       "\n",
       "    .dataframe tbody tr th {\n",
       "        vertical-align: top;\n",
       "    }\n",
       "\n",
       "    .dataframe thead th {\n",
       "        text-align: right;\n",
       "    }\n",
       "</style>\n",
       "<table border=\"1\" class=\"dataframe\">\n",
       "  <thead>\n",
       "    <tr style=\"text-align: right;\">\n",
       "      <th></th>\n",
       "      <th>top_10_bi_vis</th>\n",
       "      <th>user_bi_bow</th>\n",
       "      <th>topic</th>\n",
       "      <th>user_bi_bow_based_pred_claim</th>\n",
       "      <th>user_bi_bow_based_pred_claim_manual</th>\n",
       "    </tr>\n",
       "  </thead>\n",
       "  <tbody>\n",
       "    <tr>\n",
       "      <th>1114</th>\n",
       "      <td>{'Abortion': 3, 'Border Fence': 1, 'Death Penalty': 1, 'Drug Legalization': 3, 'Environmental Protection': 3, 'Gay Marriage': 3, 'Global Warming Exists': 3, 'Medical Marijuana': 3, 'Minimum Wage': 3, 'Smoking Ban': 3}</td>\n",
       "      <td>['health', 'country', 'legalized', 'heat', 'patients', 'wrongly', 'legalizing', 'equal', 'surface', 'pollution', 'smoker', 'adopt', 'result', 'amount', 'varrack', 'young', 'convicted', 'people', 'killing', 'couple', 'prisoners', 'aborted', 'personhood', 'embyro', 'penn', 'rights', 'glaucoma', 'monopsonistic', 'subpoint', 'religious', 'resource', 'dioxide', 'procon', 'lung', 'protecting', 'someone', 'protection', 'healthy', 'nonborder', 'substance', 'resources', 'contraceptive', 'medical', 'teller', 'businesses', 'prescription', 'monopsony', 'graph', 'places', 'others', 'retribution', 'marry', 'stop', 'levels', 'children', 'minimum', 'drugs', 'less', 'prices', 'market', 'bans', 'alzheimer', 'production', 'illicit', 'punishments', 'increased', 'perry', 'pain', 'erosion', 'prioritize', 'methane', 'degradation', 'inequality', 'carbon', 'increasing', 'would', 'increase', 'hour', 'lungs', 'wage', 'treatment', 'prioritization', 'tharnish', 'churches', 'nasa', 'right', 'choice', 'cells', 'fiscal', 'build', 'murdered', 'goes', 'harm', 'wealth', 'infrared', 'jail', 'radiation', 'smoking', 'hiring', 'addictive', 'water', 'heart', 'actually', 'skeptics', 'countries', 'plea', 'report', 'greenhouse', 'deforestation', 'data', 'work', 'developing', 'allowing', 'ineffective', 'chemotherapy', 'bears', 'circumstances', 'tinyurl', 'median', 'decriminalization', 'conflict', 'studies', 'addiction', 'psychedelics', 'homosexual', 'lwop', 'drug', 'dollars', 'regulation', 'incapacitation', 'evidence', 'penalties', 'dangerous', 'parents', 'alive', 'recognizing', 'procedures', 'legalization', 'homemade', 'doctors', 'harmful', 'forest', 'help', 'atmosphere', 'foot', 'cancer', 'endangered', 'prescribed', 'mother', 'justified', 'procedure', 'revenge', 'natural', 'secondhand', 'deaths', 'thett', 'impact', 'employees', 'martha', 'economy', 'couples', 'cannabis', 'albania', 'definite', 'publication', 'welfare', 'recognized', 'square', 'organs', 'environment', 'homosexuals', 'working', 'criminalization', 'surgeon', 'migrate', 'fetus', 'exposure', 'polygamy', 'consumption', 'lives', 'bargains', 'nytimes', 'million', 'cigars', 'illegal', 'nonsmokers', 'abortion', 'harms', 'abuse', 'hippocratic', 'straight', 'effect', 'prosecutors', 'gases', 'curse', 'legal', 'alcohol', 'business', 'option', 'enforcement', 'smoke', 'murder', 'epilepsy', 'environmental', 'performed', 'exists', 'cartels', 'victim', 'green', 'earth', 'gays', 'prohibition', 'haines', 'decade', 'migrants', 'orientation', 'dudley', 'disease', 'nausea', 'counted', 'benefits', 'user', 'teenage', 'firms', 'considered', 'guilty', 'married', 'lower', 'paid', 'money', 'employee', 'temperatures', 'baby', 'extraction', 'hurts', 'capital']</td>\n",
       "      <td>should murder be legalized?</td>\n",
       "      <td>&lt;|endoftext|&gt;should murder be legalized? I think that abortion should not be legal. Abortion is killing a baby, and it's wrong to kill an innocent human being.</td>\n",
       "      <td>&lt;|endoftext|&gt;should murder be legalized? I think that it should not. It is a very dangerous drug and people who use marijuana are more likely to get into accidents than those using alcohol or cigarettes, which can lead them in the wrong direction.</td>\n",
       "    </tr>\n",
       "    <tr>\n",
       "      <th>1447</th>\n",
       "      <td>{'Abortion': 3, 'Border Fence': 1, 'Death Penalty': 1, 'Environmental Protection': 3, 'Gay Marriage': 3, 'Global Warming Exists': 3, 'Medical Marijuana': 3, 'Minimum Wage': 3, 'Smoking Ban': 1}</td>\n",
       "      <td>['country', 'legalized', 'heat', 'patients', 'wrongly', 'equal', 'surface', 'pollution', 'adopt', 'result', 'amount', 'varrack', 'young', 'convicted', 'people', 'killing', 'couple', 'government', 'prisoners', 'networks', 'aborted', 'personhood', 'embyro', 'penn', 'rights', 'glaucoma', 'monopsonistic', 'religious', 'resource', 'dioxide', 'procon', 'protecting', 'someone', 'protection', 'nonborder', 'resources', 'medical', 'contraceptive', 'businesses', 'teller', 'monopsony', 'prescription', 'graph', 'consent', 'retribution', 'marry', 'levels', 'children', 'minimum', 'drugs', 'less', 'prices', 'want', 'property', 'alzheimer', 'addicted', 'punishments', 'revenue', 'increased', 'perry', 'pain', 'erosion', 'prioritize', 'methane', 'degradation', 'inequality', 'carbon', 'increasing', 'proposal', 'increase', 'hour', 'dependent', 'wage', 'prioritization', 'tharnish', 'churches', 'nasa', 'right', 'choice', 'cells', 'counterplan', 'fiscal', 'build', 'murdered', 'goes', 'wealth', 'infrared', 'radiation', 'hiring', 'addictive', 'water', 'actually', 'skeptics', 'countries', 'plea', 'report', 'greenhouse', 'deforestation', 'data', 'work', 'developing', 'allowing', 'ineffective', 'chemotherapy', 'bears', 'circumstances', 'tinyurl', 'median', 'studies', 'conflict', 'employees', 'mill', 'homosexual', 'lwop', 'drug', 'dollars', 'incapacitation', 'evidence', 'parents', 'alive', 'recognizing', 'procedures', 'doctors', 'homemade', 'harmful', 'forest', 'help', 'criminal', 'atmosphere', 'foot', 'cancer', 'endangered', 'prescribed', 'mother', 'justified', 'procedure', 'revenge', 'natural', 'ownership', 'impact', 'martha', 'economy', 'couples', 'cannabis', 'albania', 'definite', 'publication', 'welfare', 'recognized', 'square', 'organs', 'environment', 'homosexuals', 'working', 'migrate', 'fetus', 'polygamy', 'plan', 'bargains', 'nytimes', 'million', 'illegal', 'abortion', 'harms', 'hippocratic', 'straight', 'effect', 'prosecutors', 'gases', 'curse', 'roughly', 'legal', 'alcohol', 'business', 'option', 'murder', 'epilepsy', 'notes', 'environmental', 'performed', 'exists', 'victim', 'green', 'earth', 'solution', 'earns', 'gays', 'haines', 'decade', 'migrants', 'orientation', 'dudley', 'disease', 'nausea', 'argues', 'counted', 'benefits', 'user', 'teenage', 'firms', 'considered', 'guilty', 'married', 'lower', 'paid', 'related', 'money', 'employee', 'compelling', 'temperatures', 'baby', 'extraction', 'unrefuted', 'hurts', 'capital']</td>\n",
       "      <td>should murder be legalized?</td>\n",
       "      <td>&lt;|endoftext|&gt;should murder be legalized? I think that abortion should not be legal. Abortion is killing a baby, and it's wrong to kill an innocent human being.</td>\n",
       "      <td>&lt;|endoftext|&gt;should murder be legalized? I think so. I believe that it is wrong to kill someone for the sake of killing another person, and if you are a murderer then why should we legalize abortion? Abortion kills innocent babies who were not even born yet! If they had been aborted before birth there would have never been an issue with them being killed in the first place.</td>\n",
       "    </tr>\n",
       "    <tr>\n",
       "      <th>1767</th>\n",
       "      <td>{'Abortion': 3, 'Border Fence': 3, 'Death Penalty': 1, 'Drug Legalization': 3, 'Environmental Protection': 3, 'Gay Marriage': 3, 'Global Warming Exists': 3, 'Medical Marijuana': 3, 'Minimum Wage': 3, 'Smoking Ban': 3}</td>\n",
       "      <td>['health', 'country', 'legalized', 'heat', 'patients', 'wrongly', 'legalizing', 'equal', 'surface', 'pollution', 'smoker', 'adopt', 'result', 'crossing', 'amount', 'young', 'convicted', 'people', 'killing', 'couple', 'prisoners', 'aborted', 'personhood', 'embyro', 'rights', 'glaucoma', 'monopsonistic', 'subpoint', 'religious', 'resource', 'dioxide', 'procon', 'percent', 'lung', 'protecting', 'someone', 'protection', 'healthy', 'medical', 'substance', 'resources', 'contraceptive', 'businesses', 'monopsony', 'prescription', 'graph', 'places', 'others', 'retribution', 'marry', 'immigration', 'stop', 'levels', 'children', 'minimum', 'drugs', 'less', 'prices', 'market', 'bans', 'alzheimer', 'production', 'illicit', 'punishments', 'increased', 'pain', 'southern', 'prioritize', 'methane', 'degradation', 'inequality', 'carbon', 'increasing', 'trafficking', 'would', 'increase', 'hour', 'lungs', 'wage', 'crime', 'treatment', 'prioritization', 'tharnish', 'churches', 'nasa', 'right', 'choice', 'cells', 'guards', 'murdered', 'harm', 'goes', 'wealth', 'infrared', 'jail', 'radiation', 'smoking', 'illegally', 'hiring', 'addictive', 'water', 'secure', 'heart', 'skeptics', 'countries', 'plea', 'california', 'greenhouse', 'deforestation', 'data', 'work', 'developing', 'allowing', 'chemotherapy', 'employees', 'decriminalization', 'circumstances', 'median', 'studies', 'conflict', 'addiction', 'psychedelics', 'homosexual', 'aliens', 'lwop', 'drug', 'dollars', 'regulation', 'states', 'incapacitation', 'evidence', 'mexico', 'jobs', 'penalties', 'dangerous', 'parents', 'illegals', 'alive', 'recognizing', 'procedures', 'legalization', 'homemade', 'doctors', 'effective', 'harmful', 'forest', 'help', 'atmosphere', 'cancer', 'prescribed', 'deaths', 'mother', 'justified', 'procedure', 'revenge', 'natural', 'secondhand', 'immigrants', 'thett', 'impact', 'martha', 'couples', 'cannabis', 'economy', 'albania', 'definite', 'publication', 'welfare', 'recognized', 'organs', 'environment', 'homosexuals', 'arizona', 'working', 'criminalization', 'surgeon', 'fetus', 'exposure', 'polygamy', 'consumption', 'lives', 'bargains', 'million', 'cigars', 'illegal', 'nonsmokers', 'abortion', 'citizens', 'harms', 'abuse', 'hippocratic', 'straight', 'effect', 'prosecutors', 'gases', 'curse', 'legal', 'alcohol', 'business', 'option', 'enforcement', 'smoke', 'murder', 'epilepsy', 'environmental', 'performed', 'exists', 'counties', 'victim', 'cartels', 'green', 'earth', 'gays', 'apprehensions', 'prohibition', 'haines', 'decade', 'orientation', 'dudley', 'disease', 'nausea', 'counted', 'benefits', 'user', 'teenage', 'firms', 'considered', 'guilty', 'married', 'lower', 'paid', 'money', 'employee', 'temperatures', 'america', 'baby', 'extraction', 'capital']</td>\n",
       "      <td>should murder be legalized?</td>\n",
       "      <td>&lt;|endoftext|&gt;should murder be legalized? I think that abortion should not be legal. Abortion is killing a baby, and it's wrong to kill an innocent human being.</td>\n",
       "      <td>&lt;|endoftext|&gt;should murder be legalized? I think that it should not. It is a very dangerous drug and people who use drugs are more likely to get into crime than those who do illegal things like prostitution or drugs.</td>\n",
       "    </tr>\n",
       "  </tbody>\n",
       "</table>\n",
       "</div>"
      ],
      "text/plain": [
       "                                                                                                                                                                                                                  top_10_bi_vis  \\\n",
       "1114  {'Abortion': 3, 'Border Fence': 1, 'Death Penalty': 1, 'Drug Legalization': 3, 'Environmental Protection': 3, 'Gay Marriage': 3, 'Global Warming Exists': 3, 'Medical Marijuana': 3, 'Minimum Wage': 3, 'Smoking Ban': 3}   \n",
       "1447  {'Abortion': 3, 'Border Fence': 1, 'Death Penalty': 1, 'Environmental Protection': 3, 'Gay Marriage': 3, 'Global Warming Exists': 3, 'Medical Marijuana': 3, 'Minimum Wage': 3, 'Smoking Ban': 1}                           \n",
       "1767  {'Abortion': 3, 'Border Fence': 3, 'Death Penalty': 1, 'Drug Legalization': 3, 'Environmental Protection': 3, 'Gay Marriage': 3, 'Global Warming Exists': 3, 'Medical Marijuana': 3, 'Minimum Wage': 3, 'Smoking Ban': 3}   \n",
       "\n",
       "                                                                                                                                                                                                                                                                                                                                                                                                                                                                                                                                                                                                                                                                                                                                                                                                                                                                                                                                                                                                                                                                                                                                                                                                                                                                                                                                                                                                                                                                                                                                                                                                                                                                                                                                                                                                                                                                                                                                                                                                                                                                                                                                                                                                                                                                                                                                                                                                                                                                                                                                                                                                                                                                                                                                                                                                                                                         user_bi_bow  \\\n",
       "1114  ['health', 'country', 'legalized', 'heat', 'patients', 'wrongly', 'legalizing', 'equal', 'surface', 'pollution', 'smoker', 'adopt', 'result', 'amount', 'varrack', 'young', 'convicted', 'people', 'killing', 'couple', 'prisoners', 'aborted', 'personhood', 'embyro', 'penn', 'rights', 'glaucoma', 'monopsonistic', 'subpoint', 'religious', 'resource', 'dioxide', 'procon', 'lung', 'protecting', 'someone', 'protection', 'healthy', 'nonborder', 'substance', 'resources', 'contraceptive', 'medical', 'teller', 'businesses', 'prescription', 'monopsony', 'graph', 'places', 'others', 'retribution', 'marry', 'stop', 'levels', 'children', 'minimum', 'drugs', 'less', 'prices', 'market', 'bans', 'alzheimer', 'production', 'illicit', 'punishments', 'increased', 'perry', 'pain', 'erosion', 'prioritize', 'methane', 'degradation', 'inequality', 'carbon', 'increasing', 'would', 'increase', 'hour', 'lungs', 'wage', 'treatment', 'prioritization', 'tharnish', 'churches', 'nasa', 'right', 'choice', 'cells', 'fiscal', 'build', 'murdered', 'goes', 'harm', 'wealth', 'infrared', 'jail', 'radiation', 'smoking', 'hiring', 'addictive', 'water', 'heart', 'actually', 'skeptics', 'countries', 'plea', 'report', 'greenhouse', 'deforestation', 'data', 'work', 'developing', 'allowing', 'ineffective', 'chemotherapy', 'bears', 'circumstances', 'tinyurl', 'median', 'decriminalization', 'conflict', 'studies', 'addiction', 'psychedelics', 'homosexual', 'lwop', 'drug', 'dollars', 'regulation', 'incapacitation', 'evidence', 'penalties', 'dangerous', 'parents', 'alive', 'recognizing', 'procedures', 'legalization', 'homemade', 'doctors', 'harmful', 'forest', 'help', 'atmosphere', 'foot', 'cancer', 'endangered', 'prescribed', 'mother', 'justified', 'procedure', 'revenge', 'natural', 'secondhand', 'deaths', 'thett', 'impact', 'employees', 'martha', 'economy', 'couples', 'cannabis', 'albania', 'definite', 'publication', 'welfare', 'recognized', 'square', 'organs', 'environment', 'homosexuals', 'working', 'criminalization', 'surgeon', 'migrate', 'fetus', 'exposure', 'polygamy', 'consumption', 'lives', 'bargains', 'nytimes', 'million', 'cigars', 'illegal', 'nonsmokers', 'abortion', 'harms', 'abuse', 'hippocratic', 'straight', 'effect', 'prosecutors', 'gases', 'curse', 'legal', 'alcohol', 'business', 'option', 'enforcement', 'smoke', 'murder', 'epilepsy', 'environmental', 'performed', 'exists', 'cartels', 'victim', 'green', 'earth', 'gays', 'prohibition', 'haines', 'decade', 'migrants', 'orientation', 'dudley', 'disease', 'nausea', 'counted', 'benefits', 'user', 'teenage', 'firms', 'considered', 'guilty', 'married', 'lower', 'paid', 'money', 'employee', 'temperatures', 'baby', 'extraction', 'hurts', 'capital']                                                   \n",
       "1447  ['country', 'legalized', 'heat', 'patients', 'wrongly', 'equal', 'surface', 'pollution', 'adopt', 'result', 'amount', 'varrack', 'young', 'convicted', 'people', 'killing', 'couple', 'government', 'prisoners', 'networks', 'aborted', 'personhood', 'embyro', 'penn', 'rights', 'glaucoma', 'monopsonistic', 'religious', 'resource', 'dioxide', 'procon', 'protecting', 'someone', 'protection', 'nonborder', 'resources', 'medical', 'contraceptive', 'businesses', 'teller', 'monopsony', 'prescription', 'graph', 'consent', 'retribution', 'marry', 'levels', 'children', 'minimum', 'drugs', 'less', 'prices', 'want', 'property', 'alzheimer', 'addicted', 'punishments', 'revenue', 'increased', 'perry', 'pain', 'erosion', 'prioritize', 'methane', 'degradation', 'inequality', 'carbon', 'increasing', 'proposal', 'increase', 'hour', 'dependent', 'wage', 'prioritization', 'tharnish', 'churches', 'nasa', 'right', 'choice', 'cells', 'counterplan', 'fiscal', 'build', 'murdered', 'goes', 'wealth', 'infrared', 'radiation', 'hiring', 'addictive', 'water', 'actually', 'skeptics', 'countries', 'plea', 'report', 'greenhouse', 'deforestation', 'data', 'work', 'developing', 'allowing', 'ineffective', 'chemotherapy', 'bears', 'circumstances', 'tinyurl', 'median', 'studies', 'conflict', 'employees', 'mill', 'homosexual', 'lwop', 'drug', 'dollars', 'incapacitation', 'evidence', 'parents', 'alive', 'recognizing', 'procedures', 'doctors', 'homemade', 'harmful', 'forest', 'help', 'criminal', 'atmosphere', 'foot', 'cancer', 'endangered', 'prescribed', 'mother', 'justified', 'procedure', 'revenge', 'natural', 'ownership', 'impact', 'martha', 'economy', 'couples', 'cannabis', 'albania', 'definite', 'publication', 'welfare', 'recognized', 'square', 'organs', 'environment', 'homosexuals', 'working', 'migrate', 'fetus', 'polygamy', 'plan', 'bargains', 'nytimes', 'million', 'illegal', 'abortion', 'harms', 'hippocratic', 'straight', 'effect', 'prosecutors', 'gases', 'curse', 'roughly', 'legal', 'alcohol', 'business', 'option', 'murder', 'epilepsy', 'notes', 'environmental', 'performed', 'exists', 'victim', 'green', 'earth', 'solution', 'earns', 'gays', 'haines', 'decade', 'migrants', 'orientation', 'dudley', 'disease', 'nausea', 'argues', 'counted', 'benefits', 'user', 'teenage', 'firms', 'considered', 'guilty', 'married', 'lower', 'paid', 'related', 'money', 'employee', 'compelling', 'temperatures', 'baby', 'extraction', 'unrefuted', 'hurts', 'capital']                                                                                                                                                                                                                                                                                                                 \n",
       "1767  ['health', 'country', 'legalized', 'heat', 'patients', 'wrongly', 'legalizing', 'equal', 'surface', 'pollution', 'smoker', 'adopt', 'result', 'crossing', 'amount', 'young', 'convicted', 'people', 'killing', 'couple', 'prisoners', 'aborted', 'personhood', 'embyro', 'rights', 'glaucoma', 'monopsonistic', 'subpoint', 'religious', 'resource', 'dioxide', 'procon', 'percent', 'lung', 'protecting', 'someone', 'protection', 'healthy', 'medical', 'substance', 'resources', 'contraceptive', 'businesses', 'monopsony', 'prescription', 'graph', 'places', 'others', 'retribution', 'marry', 'immigration', 'stop', 'levels', 'children', 'minimum', 'drugs', 'less', 'prices', 'market', 'bans', 'alzheimer', 'production', 'illicit', 'punishments', 'increased', 'pain', 'southern', 'prioritize', 'methane', 'degradation', 'inequality', 'carbon', 'increasing', 'trafficking', 'would', 'increase', 'hour', 'lungs', 'wage', 'crime', 'treatment', 'prioritization', 'tharnish', 'churches', 'nasa', 'right', 'choice', 'cells', 'guards', 'murdered', 'harm', 'goes', 'wealth', 'infrared', 'jail', 'radiation', 'smoking', 'illegally', 'hiring', 'addictive', 'water', 'secure', 'heart', 'skeptics', 'countries', 'plea', 'california', 'greenhouse', 'deforestation', 'data', 'work', 'developing', 'allowing', 'chemotherapy', 'employees', 'decriminalization', 'circumstances', 'median', 'studies', 'conflict', 'addiction', 'psychedelics', 'homosexual', 'aliens', 'lwop', 'drug', 'dollars', 'regulation', 'states', 'incapacitation', 'evidence', 'mexico', 'jobs', 'penalties', 'dangerous', 'parents', 'illegals', 'alive', 'recognizing', 'procedures', 'legalization', 'homemade', 'doctors', 'effective', 'harmful', 'forest', 'help', 'atmosphere', 'cancer', 'prescribed', 'deaths', 'mother', 'justified', 'procedure', 'revenge', 'natural', 'secondhand', 'immigrants', 'thett', 'impact', 'martha', 'couples', 'cannabis', 'economy', 'albania', 'definite', 'publication', 'welfare', 'recognized', 'organs', 'environment', 'homosexuals', 'arizona', 'working', 'criminalization', 'surgeon', 'fetus', 'exposure', 'polygamy', 'consumption', 'lives', 'bargains', 'million', 'cigars', 'illegal', 'nonsmokers', 'abortion', 'citizens', 'harms', 'abuse', 'hippocratic', 'straight', 'effect', 'prosecutors', 'gases', 'curse', 'legal', 'alcohol', 'business', 'option', 'enforcement', 'smoke', 'murder', 'epilepsy', 'environmental', 'performed', 'exists', 'counties', 'victim', 'cartels', 'green', 'earth', 'gays', 'apprehensions', 'prohibition', 'haines', 'decade', 'orientation', 'dudley', 'disease', 'nausea', 'counted', 'benefits', 'user', 'teenage', 'firms', 'considered', 'guilty', 'married', 'lower', 'paid', 'money', 'employee', 'temperatures', 'america', 'baby', 'extraction', 'capital']   \n",
       "\n",
       "                            topic  \\\n",
       "1114  should murder be legalized?   \n",
       "1447  should murder be legalized?   \n",
       "1767  should murder be legalized?   \n",
       "\n",
       "                                                                                                                                         user_bi_bow_based_pred_claim  \\\n",
       "1114  <|endoftext|>should murder be legalized? I think that abortion should not be legal. Abortion is killing a baby, and it's wrong to kill an innocent human being.   \n",
       "1447  <|endoftext|>should murder be legalized? I think that abortion should not be legal. Abortion is killing a baby, and it's wrong to kill an innocent human being.   \n",
       "1767  <|endoftext|>should murder be legalized? I think that abortion should not be legal. Abortion is killing a baby, and it's wrong to kill an innocent human being.   \n",
       "\n",
       "                                                                                                                                                                                                                                                                                                                                                           user_bi_bow_based_pred_claim_manual  \n",
       "1114  <|endoftext|>should murder be legalized? I think that it should not. It is a very dangerous drug and people who use marijuana are more likely to get into accidents than those using alcohol or cigarettes, which can lead them in the wrong direction.                                                                                                                                   \n",
       "1447  <|endoftext|>should murder be legalized? I think so. I believe that it is wrong to kill someone for the sake of killing another person, and if you are a murderer then why should we legalize abortion? Abortion kills innocent babies who were not even born yet! If they had been aborted before birth there would have never been an issue with them being killed in the first place.  \n",
       "1767  <|endoftext|>should murder be legalized? I think that it should not. It is a very dangerous drug and people who use drugs are more likely to get into crime than those who do illegal things like prostitution or drugs.                                                                                                                                                                  "
      ]
     },
     "execution_count": 58,
     "metadata": {},
     "output_type": "execute_result"
    }
   ],
   "source": [
    "pplm_preds_top_10_auto[pplm_preds_top_10_auto.user_bi_bow_based_pred_claim=='<|endoftext|>should murder be legalized? I think that abortion should not be legal. Abortion is killing a baby, and it\\'s wrong to kill an innocent human being.'][['top_10_bi_vis', 'user_bi_bow', 'topic', 'user_bi_bow_based_pred_claim', 'user_bi_bow_based_pred_claim_manual']].head()"
   ]
  },
  {
   "cell_type": "code",
   "execution_count": 118,
   "metadata": {},
   "outputs": [],
   "source": [
    "all_dfs=[pplm_preds[(pplm_preds.topic==x[0][0]) & (list(pplm_preds.filtered_vis_bi.apply(lambda v: x[0][1] in v)))] for x in list(topic_bi_pairs.items())]"
   ]
  },
  {
   "cell_type": "markdown",
   "metadata": {},
   "source": [
    "How many pairs with no arguments?"
   ]
  },
  {
   "cell_type": "code",
   "execution_count": 119,
   "metadata": {},
   "outputs": [
    {
     "data": {
      "text/plain": [
       "32"
      ]
     },
     "execution_count": 119,
     "metadata": {},
     "output_type": "execute_result"
    }
   ],
   "source": [
    "num_cases_per_pair = [(x[0], len(x[1])) for x in zip(topic_bi_pairs.items(), all_dfs)]\n",
    "len([x for x in num_cases_per_pair if x[1] == 0])"
   ]
  },
  {
   "cell_type": "code",
   "execution_count": 120,
   "metadata": {},
   "outputs": [
    {
     "name": "stderr",
     "output_type": "stream",
     "text": [
      "/opt/conda/lib/python3.6/site-packages/ipykernel_launcher.py:3: SettingWithCopyWarning: \n",
      "A value is trying to be set on a copy of a slice from a DataFrame.\n",
      "Try using .loc[row_indexer,col_indexer] = value instead\n",
      "\n",
      "See the caveats in the documentation: https://pandas.pydata.org/pandas-docs/stable/user_guide/indexing.html#returning-a-view-versus-a-copy\n",
      "  This is separate from the ipykernel package so we can avoid doing imports until\n"
     ]
    }
   ],
   "source": [
    "#filter in from each df only user's stance on the corrsponding big-issue\n",
    "for pair in enumerate(topic_bi_pairs.keys()):\n",
    "    all_dfs[pair[0]]['bi_stance'] = all_dfs[pair[0]]['filtered_vis_bi'].apply(lambda x: {pair[1][1]: x[pair[1][1]]})"
   ]
  },
  {
   "cell_type": "code",
   "execution_count": 128,
   "metadata": {
    "scrolled": true
   },
   "outputs": [],
   "source": [
    "sample_df = pd.concat([x.sample(5) if len(x) > 5 else x for x in all_dfs])\n",
    "sample_df['rel_lvl'] = sample_df.apply(lambda row: topic_bi_pairs[(row['topic'], list(row['bi_stance'].keys())[0])] , axis=1)\n",
    "#sample_df[sample_df.rel_lvl==4][['topic', 'bi_stance', 'user_bi_bow', 'rel_lvl', 'uncond_pred_claim', 'user_bi_bow_based_pred_claim', 'top_claim']].head(n=30)\n",
    "\n",
    "#balance the sample\n",
    "sample_df_lvl2 = sample_df[sample_df['rel_lvl'] == 2].sample(30)\n",
    "#sample_df_lvl3 = sample_df[sample_df['rel_lvl'] == 3].sample(30)\n",
    "#sample_df_lvl4 = sample_df[sample_df['rel_lvl'] == 4].sample(30)\n",
    "#sample_df = pd.concat([sample_df_lvl3 , sample_df_lvl4])\n",
    "sample_df = sample_df_lvl2"
   ]
  },
  {
   "cell_type": "code",
   "execution_count": 129,
   "metadata": {},
   "outputs": [],
   "source": [
    "lvls = []\n",
    "for idx, row in sample_df.iterrows():\n",
    "    for bi in row['bi_stance'].keys():\n",
    "        lvls.append(topic_bi_pairs[(row['topic'], bi)])"
   ]
  },
  {
   "cell_type": "code",
   "execution_count": 130,
   "metadata": {},
   "outputs": [
    {
     "data": {
      "text/plain": [
       "30"
      ]
     },
     "execution_count": 130,
     "metadata": {},
     "output_type": "execute_result"
    }
   ],
   "source": [
    "len(lvls)"
   ]
  },
  {
   "cell_type": "code",
   "execution_count": 131,
   "metadata": {},
   "outputs": [
    {
     "data": {
      "image/png": "[encoded data removed]",
      "text/plain": [
       "<Figure size 432x288 with 1 Axes>"
      ]
     },
     "metadata": {
      "needs_background": "light"
     },
     "output_type": "display_data"
    }
   ],
   "source": [
    "plt.hist(lvls)\n",
    "plt.show()"
   ]
  },
  {
   "cell_type": "code",
   "execution_count": 132,
   "metadata": {},
   "outputs": [
    {
     "name": "stderr",
     "output_type": "stream",
     "text": [
      "[nltk_data] Downloading package punkt to /root/nltk_data...\n",
      "[nltk_data]   Package punkt is already up-to-date!\n"
     ]
    },
    {
     "data": {
      "text/plain": [
       "True"
      ]
     },
     "execution_count": 132,
     "metadata": {},
     "output_type": "execute_result"
    }
   ],
   "source": [
    "import nltk\n",
    "nltk.download('punkt')"
   ]
  },
  {
   "cell_type": "code",
   "execution_count": 133,
   "metadata": {},
   "outputs": [],
   "source": [
    "from nltk import sent_tokenize\n",
    "sample_df['gt_claim'] = sample_df.apply(lambda row: sent_tokenize(row['opinion_txt'])[0] if pd.isnull(row['top_claim']) else row['top_claim'], axis=1)\n",
    "sample_df['user_bi_bow_based_pred_claim'] = sample_df['user_bi_bow_based_pred_claim'].apply(lambda x: x.replace('<|endoftext|>', '').replace('=', ''))\n",
    "sample_df['user_bi_bow_based_pred_claim_manual'] = sample_df['user_bi_bow_based_pred_claim_manual'].apply(lambda x: x.replace('<|endoftext|>', '').replace('=', ''))\n",
    "sample_df['uncond_pred_claim'] = sample_df['uncond_pred_claim'].apply(lambda x: x.replace('<|endoftext|>', '').replace('=', ''))\n"
   ]
  },
  {
   "cell_type": "code",
   "execution_count": 134,
   "metadata": {},
   "outputs": [],
   "source": [
    "#pplm_uncond_df = sample_df[['bi_stance', 'topic', 'rel_lvl', 'user_bi_bow_based_pred_claim', 'uncond_pred_claim', 'corrected_top_claim']]\n",
    "#pplm_uncond_df = pplm_uncond_df.drop_duplicates(subset=['topic', 'uncond_pred_claim'])"
   ]
  },
  {
   "cell_type": "code",
   "execution_count": 135,
   "metadata": {},
   "outputs": [],
   "source": [
    "sample_df['gt_stance']    = sample_df.bi_stance.apply(lambda x: list(x.values())[0])\n",
    "sample_df['gt_big_issue'] = sample_df.bi_stance.apply(lambda x: list(x.keys())[0])\n",
    "sample_df = sample_df[['gt_big_issue', 'gt_stance', 'topic', 'rel_lvl', 'user_bi_bow_based_pred_claim', 'user_bi_bow_based_pred_claim_manual', 'uncond_pred_claim', 'gt_claim', 'seq2seq_big_issues']]\n",
    "sample_df.columns = ['gt_big_issue', 'gt_stance', 'topic', 'rel_lvl', 'approach_auto', 'approach_manual', 'uncond_baseline', 'gt_claim', 'seq2seq-_pproach']\n",
    "\n",
    "#sample_df.to_pickle('./sample_for_evaluation.pkl')\n",
    "#sample_df.to_csv('./sample_for_evaluation_only_3_and_4_lvls_manual_and_auto.csv')\n",
    "#sample_df.to_csv('./sample_for_evaluation_only_2_lvls_manual_and_auto.csv')\n",
    "#pplm_uncond_df[['bi_stance', 'topic', 'rel_lvl', 'user_bi_bow_based_pred_claim', 'uncond_pred_claim', 'corrected_top_claim']].to_csv('./pplm_uncond_sample_for_evaluation.csv')"
   ]
  },
  {
   "cell_type": "code",
   "execution_count": 142,
   "metadata": {},
   "outputs": [
    {
     "data": {
      "text/plain": [
       "120"
      ]
     },
     "execution_count": 142,
     "metadata": {},
     "output_type": "execute_result"
    }
   ],
   "source": [
    "len(crowd_sourcing_df)"
   ]
  },
  {
   "cell_type": "code",
   "execution_count": 137,
   "metadata": {},
   "outputs": [
    {
     "name": "stderr",
     "output_type": "stream",
     "text": [
      "/opt/conda/lib/python3.6/site-packages/ipykernel_launcher.py:10: SettingWithCopyWarning: \n",
      "A value is trying to be set on a copy of a slice from a DataFrame.\n",
      "Try using .loc[row_indexer,col_indexer] = value instead\n",
      "\n",
      "See the caveats in the documentation: https://pandas.pydata.org/pandas-docs/stable/user_guide/indexing.html#returning-a-view-versus-a-copy\n",
      "  # Remove the CWD from sys.path while we load stuff.\n"
     ]
    }
   ],
   "source": [
    "dfs =[sample_df[['gt_big_issue', 'gt_stance', 'topic', 'rel_lvl', 'approach_auto']],\n",
    "      sample_df[['gt_big_issue', 'gt_stance', 'topic', 'rel_lvl', 'approach_manual']],\n",
    "      sample_df[['gt_big_issue', 'gt_stance', 'topic', 'rel_lvl', 'uncond_baseline']],\n",
    "      sample_df[['gt_big_issue', 'gt_stance', 'topic', 'rel_lvl', 'gt_claim']]\n",
    "]\n",
    "\n",
    "approaches = ['pplm-auto', 'pplm-manual', 'pplm-uncond', 'gt']\n",
    "for idx, df in enumerate(dfs):\n",
    "    df.columns = ['gt_big_issue', 'gt_stance', 'topic', 'rel_lvl', 'claim']\n",
    "    df['approach'] = [approaches[idx]] * len(df)\n",
    "\n",
    "crowd_sourcing_df = pd.concat(dfs)\n",
    "crowd_sourcing_df.reset_index(inplace = True) \n",
    "crowd_sourcing_df.to_csv('./crowd_sourcing_lvl_2.csv')"
   ]
  },
  {
   "cell_type": "code",
   "execution_count": 138,
   "metadata": {},
   "outputs": [
    {
     "data": {
      "text/html": [
       "<div>\n",
       "<style scoped>\n",
       "    .dataframe tbody tr th:only-of-type {\n",
       "        vertical-align: middle;\n",
       "    }\n",
       "\n",
       "    .dataframe tbody tr th {\n",
       "        vertical-align: top;\n",
       "    }\n",
       "\n",
       "    .dataframe thead th {\n",
       "        text-align: right;\n",
       "    }\n",
       "</style>\n",
       "<table border=\"1\" class=\"dataframe\">\n",
       "  <thead>\n",
       "    <tr style=\"text-align: right;\">\n",
       "      <th></th>\n",
       "      <th>index</th>\n",
       "      <th>gt_big_issue</th>\n",
       "      <th>gt_stance</th>\n",
       "      <th>topic</th>\n",
       "      <th>rel_lvl</th>\n",
       "      <th>claim</th>\n",
       "      <th>approach</th>\n",
       "    </tr>\n",
       "  </thead>\n",
       "  <tbody>\n",
       "    <tr>\n",
       "      <th>0</th>\n",
       "      <td>381</td>\n",
       "      <td>Abortion</td>\n",
       "      <td>1</td>\n",
       "      <td>does religion impede progress?</td>\n",
       "      <td>2</td>\n",
       "      <td>religion is a religion, and it should be illegal. I am not saying that people who are gay or lesbian shouldn't have the right to marry but they shouldnt get married at all because of their sexual orientation! It's like if you were born with an X-ray gene in your brain then when someone else has sex with them they will die.</td>\n",
       "      <td>pplm-auto</td>\n",
       "    </tr>\n",
       "    <tr>\n",
       "      <th>1</th>\n",
       "      <td>254</td>\n",
       "      <td>Abortion</td>\n",
       "      <td>3</td>\n",
       "      <td>does religion impede progress?</td>\n",
       "      <td>2</td>\n",
       "      <td>religion is a very good source for information. I have read many of the religious books and they are all extremely biased.</td>\n",
       "      <td>pplm-auto</td>\n",
       "    </tr>\n",
       "    <tr>\n",
       "      <th>2</th>\n",
       "      <td>574</td>\n",
       "      <td>Minimum Wage</td>\n",
       "      <td>1</td>\n",
       "      <td>should the government continue to fund welfare?</td>\n",
       "      <td>2</td>\n",
       "      <td>the government is not a democracy. The people are the ones who elect them, and they have to follow their laws because of that fact alone! If you want your country back then go for it! You can't just say \"I don't like this law\" or something else.</td>\n",
       "      <td>pplm-auto</td>\n",
       "    </tr>\n",
       "    <tr>\n",
       "      <th>3</th>\n",
       "      <td>1535</td>\n",
       "      <td>Abortion</td>\n",
       "      <td>3</td>\n",
       "      <td>does religion impede progress?</td>\n",
       "      <td>2</td>\n",
       "      <td>religion is a religion, and it should be illegal. I am not religious but i believe in god so why would you want to kill him? He was the one who made us humans! If he wanted people like that then we wouldn't have been here today because of his actions.</td>\n",
       "      <td>pplm-auto</td>\n",
       "    </tr>\n",
       "    <tr>\n",
       "      <th>4</th>\n",
       "      <td>75</td>\n",
       "      <td>Smoking Ban</td>\n",
       "      <td>3</td>\n",
       "      <td>is freedom more important than security</td>\n",
       "      <td>2</td>\n",
       "      <td>security would be a good idea. It is not necessary to have security guards at every door, but it could help prevent people from entering the building without being able to get in or out of their cars.</td>\n",
       "      <td>pplm-auto</td>\n",
       "    </tr>\n",
       "  </tbody>\n",
       "</table>\n",
       "</div>"
      ],
      "text/plain": [
       "   index  gt_big_issue  gt_stance  \\\n",
       "0  381    Abortion      1           \n",
       "1  254    Abortion      3           \n",
       "2  574    Minimum Wage  1           \n",
       "3  1535   Abortion      3           \n",
       "4  75     Smoking Ban   3           \n",
       "\n",
       "                                             topic  rel_lvl  \\\n",
       "0  does religion impede progress?                   2         \n",
       "1  does religion impede progress?                   2         \n",
       "2  should the government continue to fund welfare?  2         \n",
       "3  does religion impede progress?                   2         \n",
       "4  is freedom more important than security          2         \n",
       "\n",
       "                                                                                                                                                                                                                                                                                                                                  claim  \\\n",
       "0  religion is a religion, and it should be illegal. I am not saying that people who are gay or lesbian shouldn't have the right to marry but they shouldnt get married at all because of their sexual orientation! It's like if you were born with an X-ray gene in your brain then when someone else has sex with them they will die.   \n",
       "1  religion is a very good source for information. I have read many of the religious books and they are all extremely biased.                                                                                                                                                                                                             \n",
       "2  the government is not a democracy. The people are the ones who elect them, and they have to follow their laws because of that fact alone! If you want your country back then go for it! You can't just say \"I don't like this law\" or something else.                                                                                  \n",
       "3  religion is a religion, and it should be illegal. I am not religious but i believe in god so why would you want to kill him? He was the one who made us humans! If he wanted people like that then we wouldn't have been here today because of his actions.                                                                            \n",
       "4  security would be a good idea. It is not necessary to have security guards at every door, but it could help prevent people from entering the building without being able to get in or out of their cars.                                                                                                                               \n",
       "\n",
       "    approach  \n",
       "0  pplm-auto  \n",
       "1  pplm-auto  \n",
       "2  pplm-auto  \n",
       "3  pplm-auto  \n",
       "4  pplm-auto  "
      ]
     },
     "execution_count": 138,
     "metadata": {},
     "output_type": "execute_result"
    }
   ],
   "source": [
    "crowd_sourcing_df.head()"
   ]
  },
  {
   "cell_type": "code",
   "execution_count": 139,
   "metadata": {},
   "outputs": [],
   "source": [
    "crowd_sourcing_map = crowd_sourcing_df.groupby(['gt_big_issue', 'claim']).agg({'index': list}).reset_index()\n",
    "sample_df.to_pickle('./crowd_sourcing_map_of_similar_claims.pkl')"
   ]
  },
  {
   "cell_type": "code",
   "execution_count": 140,
   "metadata": {},
   "outputs": [],
   "source": [
    "similar_cases = [x for x in crowd_sourcing_map['index'].tolist() if len(x) > 1]"
   ]
  },
  {
   "cell_type": "code",
   "execution_count": 141,
   "metadata": {},
   "outputs": [],
   "source": [
    "crowd_sourcing_unique_df = crowd_sourcing_df.drop_duplicates(['gt_big_issue', 'claim'])\n",
    "crowd_sourcing_unique_df.to_csv('./crowd_sourcing_unique_cases.csv')"
   ]
  },
  {
   "cell_type": "code",
   "execution_count": 67,
   "metadata": {},
   "outputs": [
    {
     "data": {
      "text/html": [
       "<div>\n",
       "<style scoped>\n",
       "    .dataframe tbody tr th:only-of-type {\n",
       "        vertical-align: middle;\n",
       "    }\n",
       "\n",
       "    .dataframe tbody tr th {\n",
       "        vertical-align: top;\n",
       "    }\n",
       "\n",
       "    .dataframe thead th {\n",
       "        text-align: right;\n",
       "    }\n",
       "</style>\n",
       "<table border=\"1\" class=\"dataframe\">\n",
       "  <thead>\n",
       "    <tr style=\"text-align: right;\">\n",
       "      <th></th>\n",
       "      <th>index</th>\n",
       "      <th>gt_big_issue</th>\n",
       "      <th>gt_stance</th>\n",
       "      <th>topic</th>\n",
       "      <th>rel_lvl</th>\n",
       "      <th>claim</th>\n",
       "      <th>approach</th>\n",
       "    </tr>\n",
       "  </thead>\n",
       "  <tbody>\n",
       "    <tr>\n",
       "      <td>0</td>\n",
       "      <td>1098</td>\n",
       "      <td>Gay Marriage</td>\n",
       "      <td>3</td>\n",
       "      <td>same-sex marriage: yes or no?</td>\n",
       "      <td>3</td>\n",
       "      <td>same-sex marriage is not a right. It's illegal in many states, and it should be banned everywhere else.</td>\n",
       "      <td>pplm-auto</td>\n",
       "    </tr>\n",
       "    <tr>\n",
       "      <td>1</td>\n",
       "      <td>159</td>\n",
       "      <td>Gay Marriage</td>\n",
       "      <td>3</td>\n",
       "      <td>same-sex marriage: yes or no?</td>\n",
       "      <td>3</td>\n",
       "      <td>same-sex marriage is not a right. It's illegal in all 50 states, and it should be banned everywhere else.</td>\n",
       "      <td>pplm-auto</td>\n",
       "    </tr>\n",
       "    <tr>\n",
       "      <td>2</td>\n",
       "      <td>502</td>\n",
       "      <td>Gay Marriage</td>\n",
       "      <td>3</td>\n",
       "      <td>same-sex marriage: yes or no?</td>\n",
       "      <td>3</td>\n",
       "      <td>same-sex marriage bans are not a violation of religious freedom. The Supreme Court has ruled that the right to marry is an individual's fundamental rights, and therefore does NOT apply equally to same sex couples as heterosexuals.</td>\n",
       "      <td>pplm-auto</td>\n",
       "    </tr>\n",
       "    <tr>\n",
       "      <td>3</td>\n",
       "      <td>961</td>\n",
       "      <td>Abortion</td>\n",
       "      <td>1</td>\n",
       "      <td>should gender-selective abortion be legal?</td>\n",
       "      <td>3</td>\n",
       "      <td>gender-selective abortion is a form of murder. It's not just killing babies, it kills women who are raped and murdered.</td>\n",
       "      <td>pplm-auto</td>\n",
       "    </tr>\n",
       "    <tr>\n",
       "      <td>4</td>\n",
       "      <td>4995</td>\n",
       "      <td>Environmental Protection</td>\n",
       "      <td>3</td>\n",
       "      <td>whaling</td>\n",
       "      <td>3</td>\n",
       "      <td>whaling is a very important part of the economy. It provides jobs and income for many people in developing countries, as well as providing food to those who are hungry.</td>\n",
       "      <td>pplm-auto</td>\n",
       "    </tr>\n",
       "  </tbody>\n",
       "</table>\n",
       "</div>"
      ],
      "text/plain": [
       "   index              gt_big_issue  gt_stance  \\\n",
       "0  1098   Gay Marriage              3           \n",
       "1  159    Gay Marriage              3           \n",
       "2  502    Gay Marriage              3           \n",
       "3  961    Abortion                  1           \n",
       "4  4995   Environmental Protection  3           \n",
       "\n",
       "                                        topic  rel_lvl  \\\n",
       "0  same-sex marriage: yes or no?               3         \n",
       "1  same-sex marriage: yes or no?               3         \n",
       "2  same-sex marriage: yes or no?               3         \n",
       "3  should gender-selective abortion be legal?  3         \n",
       "4  whaling                                     3         \n",
       "\n",
       "                                                                                                                                                                                                                                    claim  \\\n",
       "0  same-sex marriage is not a right. It's illegal in many states, and it should be banned everywhere else.                                                                                                                                  \n",
       "1  same-sex marriage is not a right. It's illegal in all 50 states, and it should be banned everywhere else.                                                                                                                                \n",
       "2  same-sex marriage bans are not a violation of religious freedom. The Supreme Court has ruled that the right to marry is an individual's fundamental rights, and therefore does NOT apply equally to same sex couples as heterosexuals.   \n",
       "3  gender-selective abortion is a form of murder. It's not just killing babies, it kills women who are raped and murdered.                                                                                                                  \n",
       "4  whaling is a very important part of the economy. It provides jobs and income for many people in developing countries, as well as providing food to those who are hungry.                                                                 \n",
       "\n",
       "    approach  \n",
       "0  pplm-auto  \n",
       "1  pplm-auto  \n",
       "2  pplm-auto  \n",
       "3  pplm-auto  \n",
       "4  pplm-auto  "
      ]
     },
     "execution_count": 67,
     "metadata": {},
     "output_type": "execute_result"
    }
   ],
   "source": [
    "crowd_sourcing_unique_df.head()"
   ]
  },
  {
   "cell_type": "markdown",
   "metadata": {},
   "source": [
    "-------------------------------"
   ]
  },
  {
   "cell_type": "markdown",
   "metadata": {},
   "source": [
    "### Evaluate by predicting user's ideology:"
   ]
  },
  {
   "cell_type": "code",
   "execution_count": 205,
   "metadata": {},
   "outputs": [],
   "source": [
    "#first filter-in only cases where at least 5 of the big-issues are in the top 10 big-issues..\n",
    "#pplm_preds['num_top_10_bi'] = pplm_preds.vis_bi.apply(lambda vis_bi:sum([1 for x in vis_bi.keys() if x in top_10_bi]))\n",
    "#filtered_pplm_preds = pplm_preds[pplm_preds.num_top_10_bi >= 1]"
   ]
  },
  {
   "cell_type": "code",
   "execution_count": 72,
   "metadata": {},
   "outputs": [
    {
     "name": "stdout",
     "output_type": "stream",
     "text": [
      "Conservative    162\n",
      "Liberal         108\n",
      "Name: user_ideology, dtype: int64\n"
     ]
    }
   ],
   "source": [
    "filtered_pplm_preds = pplm_preds_top_10_auto[pplm_preds_top_10_auto.user_ideology.isin(['Conservative', 'Liberal'])]\n",
    "\n",
    "user_with_alot_of_answers = [x[0] for x in filtered_pplm_preds.user.value_counts().to_dict().items() if x[1] > 1]\n",
    "filtered_pplm_preds = filtered_pplm_preds[filtered_pplm_preds.user.isin(user_with_alot_of_answers)]\n",
    "\n",
    "grouped_filtered_df = filtered_pplm_preds.groupby(['user']).agg({\n",
    "                                                    'user_ideology': lambda x: x.iloc[0],\n",
    "                                                    'topic':  lambda x: ' \\n '.join(map(str, x)), \n",
    "                                                    'top_claim':  lambda x: ' \\n '.join(map(str, x)), \n",
    "                                                    'user_bi_bow_based_pred_claim': lambda x: ' \\n '.join(map(str, x)),\n",
    "                                                    'user_bi_bow_based_pred_claim_manual': lambda x: ' \\n '.join(map(str, x)),\n",
    "                                                    'uncond_pred_claim': lambda x: ' \\n '.join(map(str, x)),\n",
    "}).reset_index()\n",
    "\n",
    "\n",
    "grouped_filtered_df['pplm-auto'] = grouped_filtered_df.apply(lambda row: merge_two_clms(row['topic'], \n",
    "                                                                      row['user_bi_bow_based_pred_claim']),axis=1)\n",
    "\n",
    "grouped_filtered_df['pplm-manual'] = grouped_filtered_df.apply(lambda row: merge_two_clms(row['topic'], \n",
    "                                                                      row['user_bi_bow_based_pred_claim_manual']),axis=1)\n",
    "\n",
    "\n",
    "grouped_filtered_df['pplm-uncond'] = grouped_filtered_df.apply(lambda row: merge_two_clms(row['topic'], \n",
    "                                                                      row['uncond_pred_claim']),axis=1)\n",
    "\n",
    "\n",
    "grouped_filtered_df['gt'] = grouped_filtered_df.apply(lambda row: merge_two_clms(row['topic'], \n",
    "                                                                      row['top_claim']),axis=1)\n",
    "\n",
    "print(grouped_filtered_df.user_ideology.value_counts())\n",
    "# grouped_filtered_df['seq2seq_big_issues'] = grouped_filtered_df.apply(lambda row: merge_two_clms(row['topic'], \n",
    "#                                                                       row['seq2seq_big_issues']),axis=1)\n",
    "\n",
    "\n",
    "cons_df = grouped_filtered_df[grouped_filtered_df.user_ideology == 'Conservative'].sample(50)\n",
    "libs_df = grouped_filtered_df[grouped_filtered_df.user_ideology == 'Liberal'].sample(50)"
   ]
  },
  {
   "cell_type": "code",
   "execution_count": 73,
   "metadata": {},
   "outputs": [],
   "source": [
    "sample_df = pd.concat([cons_df, libs_df])\n",
    "sample_df = sample_df.sample(frac=1).reset_index(drop=True)\n",
    "\n",
    "from nltk import sent_tokenize\n",
    "sample_df['gt_claim'] = sample_df.apply(lambda row: sent_tokenize(row['opinion_txt'])[0] if pd.isnull(row['top_claim']) else row['top_claim'], axis=1)\n",
    "sample_df['user_bi_bow_based_pred_claim'] = sample_df['user_bi_bow_based_pred_claim'].apply(lambda x: x.replace('<|endoftext|>', '').replace('=', ''))\n",
    "sample_df['user_bi_bow_based_pred_claim_manual'] = sample_df['user_bi_bow_based_pred_claim_manual'].apply(lambda x: x.replace('<|endoftext|>', '').replace('=', ''))\n",
    "sample_df['uncond_pred_claim'] = sample_df['uncond_pred_claim'].apply(lambda x: x.replace('<|endoftext|>', '').replace('=', ''))"
   ]
  },
  {
   "cell_type": "code",
   "execution_count": 75,
   "metadata": {
    "scrolled": true
   },
   "outputs": [
    {
     "data": {
      "text/html": [
       "<div>\n",
       "<style scoped>\n",
       "    .dataframe tbody tr th:only-of-type {\n",
       "        vertical-align: middle;\n",
       "    }\n",
       "\n",
       "    .dataframe tbody tr th {\n",
       "        vertical-align: top;\n",
       "    }\n",
       "\n",
       "    .dataframe thead th {\n",
       "        text-align: right;\n",
       "    }\n",
       "</style>\n",
       "<table border=\"1\" class=\"dataframe\">\n",
       "  <thead>\n",
       "    <tr style=\"text-align: right;\">\n",
       "      <th></th>\n",
       "      <th>user</th>\n",
       "      <th>user_ideology</th>\n",
       "      <th>pplm-auto</th>\n",
       "      <th>pplm-manual</th>\n",
       "      <th>pplm-uncond</th>\n",
       "      <th>gt</th>\n",
       "    </tr>\n",
       "  </thead>\n",
       "  <tbody>\n",
       "    <tr>\n",
       "      <th>0</th>\n",
       "      <td>BaruchSpinoza</td>\n",
       "      <td>Liberal</td>\n",
       "      <td>capital punishment  \\n &lt;|endoftext|&gt;capital punishment is a good idea. It will help to reduce the amount of murders and murder rates in our country, which has been on an increase recently.  \\n  \\n  quebec should pursue independence from canada \\n  &lt;|endoftext|&gt;independence are not a right choice for many people. They can be very expensive and time consuming to set up, especially if you're young or have no job. \\n</td>\n",
       "      <td>capital punishment  \\n &lt;|endoftext|&gt;capital punishment is a necessary tool in the fight against crime. It's not right to kill innocent people, and it should be stopped immediately.  \\n  \\n  quebec should pursue independence from canada \\n  &lt;|endoftext|&gt;independence is a good thing for the economy. It allows people to choose their own career path, and it gives them more choice in choosing where they want to live. \\n</td>\n",
       "      <td>capital punishment  \\n &lt;|endoftext|&gt;capital punishment is a form of punishment that is not only cruel but also ineffective.  \\n  \\n  quebec should pursue independence from canada \\n  &lt;|endoftext|&gt;independence are not a threat to the stability of the EU. The EU is a union of states, not a single state. \\n</td>\n",
       "      <td>capital punishment  \\n I will take the position that capital punishment is not a morally acceptable manner of punishment .  \\n  \\n  quebec should pursue independence from canada \\n  In the short term Quebec 's economic situation is indeed likely to get worse after the independence . \\n</td>\n",
       "    </tr>\n",
       "    <tr>\n",
       "      <th>1</th>\n",
       "      <td>cody30228</td>\n",
       "      <td>Conservative</td>\n",
       "      <td>a minority as president!  \\n &lt;|endoftext|&gt;a minority government in Greece has been unable agree to a bailout plan. The Greek parliament is expected on Friday night or Saturday morning, after the Greek elections were declared invalid by voters who voted for anti-bailout parties and called it an \"unconstitutional coup\". A new coalition of left wing politicians will be formed to try again at forming governments.  \\n  \\n  gun rights should not be taken away. \\n  &lt;|endoftext|&gt;gun rights is a group that supports the right to bear arms. I am against this because it infringes on our 2nd amendment rights and also, if we are going by their definition of \"right\", then they should be able too have guns in public places as well. \\n</td>\n",
       "      <td>a minority as president!  \\n &lt;|endoftext|&gt;a minority government in Greece is not a democracy. It has been elected by the people, and it was democratically chosen to govern with an election of its own parliament on May 25th 2012.[1] This means that there are no elections for any other party, so this system would be undemocratic.  \\n  \\n  gun rights should not be taken away. \\n  &lt;|endoftext|&gt;gun rights are not a right. They should be illegal because they infring on the 2nd amendment and other laws that protect our country from criminals, terrorists etc.. The government has no business telling us what to do with our bodies or property. \\n</td>\n",
       "      <td>a minority as president!  \\n &lt;|endoftext|&gt;a minority of people are not racist. I am not saying that all black people are racist, but that a majority of black people are.  \\n  \\n  gun rights should not be taken away. \\n  &lt;|endoftext|&gt;gun rights is a good idea. I think it would be a good idea to have a gun in school. \\n</td>\n",
       "      <td>a minority as president!  \\n There are different versions of a democracy representative and direct we are a representative democracy in America and thus we can limit debate to this Representative democracy is people vote on representatives .  \\n  \\n  gun rights should not be taken away. \\n  Please do not USE the second-amendment to say why we have the right to bear arms . \\n</td>\n",
       "    </tr>\n",
       "    <tr>\n",
       "      <th>2</th>\n",
       "      <td>Lee001</td>\n",
       "      <td>Liberal</td>\n",
       "      <td>cannabis should be legalised  \\n &lt;|endoftext|&gt;cannabis is a drug that has been used for thousands of years.  \\n  \\n  should euthanasia be legalized?  \\n  &lt;|endoftext|&gt;euthanasia is a form of euthanization. Euthanizing someone who has been in pain for years, and then killing them because they are too old to take care if their life is going down the drain.  \\n  \\n  love marrige is good than parents happiness  \\n  &lt;|endoftext|&gt;parents happiness rate is higher than the average American. The parents who are more likely to have a child will be those with better jobs and more money, which means they can afford it.  \\n  \\n  prostitution should be legalized  \\n  &lt;|endoftext|&gt;prostitution is a form of slavery. It's illegal in the U States, but it still happens all over the world and I think that we should ban prostitution because it harms people who are being forced to work for money.  \\n  \\n  worst pick up lines #3 \\n  &lt;|endoftext|&gt;lines would be a good idea. They could reduce the number of illegal immigrants in the country and help to stop crime, which is one thing that we need more than ever. \\n</td>\n",
       "      <td>cannabis should be legalised  \\n &lt;|endoftext|&gt;cannabis is a drug that has been legalized in the United. It should be legal because it can help with cancer and other diseases, but people still smoke marijuana illegally so they are not getting their medical treatment for them.  \\n  \\n  should euthanasia be legalized?  \\n  &lt;|endoftext|&gt;euthanasia is a form of euthinism. Euthanizing someone who has been terminally ill is the same as killing them, but it's not legal in all states so that means you can't do this to people with terminal illnesses.  \\n  \\n  love marrige is good than parents happiness  \\n  &lt;|endoftext|&gt;parents happiness is not the same as parents' right to privacy. Parents have a right of privacy to their children, but they do so in ways that are different from those which other people enjoy and use for good reasons.  \\n  \\n  prostitution should be legalized  \\n  &lt;|endoftext|&gt;prostitution is a form of slavery. It's illegal in the U States, but it still happens all over the world and I think that we should legalize prostitution because if you do not legalize prostitutes then they will be forced to work for less money than what they are worth.  \\n  \\n  worst pick up lines #3 \\n  &lt;|endoftext|&gt;lines are a good way to help people get around the world. They can be used for many things, such as helping with travel and getting jobs in other countries. \\n</td>\n",
       "      <td>cannabis should be legalised  \\n &lt;|endoftext|&gt;cannabis should be legalised because it is a plant that is used to treat cancer and other illnesses.  \\n  \\n  should euthanasia be legalized?  \\n  &lt;|endoftext|&gt;euthanasia is a form of euthanasia. Euthanasia is the act of killing someone who is in a state of pain.  \\n  \\n  love marrige is good than parents happiness  \\n  &lt;|endoftext|&gt;parents happiness is not the same as the happiness of their children. The children of single parents are more likely to be bullied and to be more likely to be in a bad school.  \\n  \\n  prostitution should be legalized  \\n  &lt;|endoftext|&gt;prostitution is a form of slavery. It is a form of exploitation.  \\n  \\n  worst pick up lines #3 \\n  &lt;|endoftext|&gt;lines are not a good source of information. They are biased and biased sources are not reliable. \\n</td>\n",
       "      <td>cannabis should be legalised  \\n I will be arguing that Cannabis should be legalized in general , for many beneficial and medial reasons .  \\n  \\n  should euthanasia be legalized?  \\n  No one should be able to tell us how to live or what we should do .  \\n  \\n  love marrige is good than parents happiness  \\n  Today in this worl where everyone rushes for hus or her love parents are left behind nd theur happiness is not a factor fir children .  \\n  \\n  prostitution should be legalized  \\n  Why on earth should be legalize it knowing the major consequences , especially to children who have no choice .  \\n  \\n  worst pick up lines #3 \\n  nan \\n</td>\n",
       "    </tr>\n",
       "    <tr>\n",
       "      <th>3</th>\n",
       "      <td>emj32</td>\n",
       "      <td>Liberal</td>\n",
       "      <td>should homosexuality be criminalized?  \\n &lt;|endoftext|&gt;homosexuality is a choice, not natural. it's unnatural and wrong to do that because of the bible.  \\n  \\n  i see a new united states.  \\n  &lt;|endoftext|&gt;a new united states is a good idea. I think it would be better for the people of america to have one country that has all their rights and needs, but not everyone can get what they want in life because some people are rich or some people don't have enough money so they cant afford to go to school.  \\n  \\n  the legalization of drugs \\n  &lt;|endoftext|&gt;the legalization would increase the amount of money that drug cartels could make from selling drugs. \\n</td>\n",
       "      <td>should homosexuality be criminalized?  \\n &lt;|endoftext|&gt;homosexuality is a choice, not natural. it's unnatural because nature doesn't allow homosexuality to exist naturally.  \\n  \\n  i see a new united states.  \\n  &lt;|endoftext|&gt;a new united states is a good idea. I will be arguing that it would not work and my opponent must argue why the United States should have one.  \\n  \\n  the legalization of drugs \\n  &lt;|endoftext|&gt;the legalization is a good idea. it will help the economy and people who are legalizing marijuana. \\n</td>\n",
       "      <td>should homosexuality be criminalized?  \\n &lt;|endoftext|&gt;homosexuality is a sin, and should be punished by death. I will be arguing that homosexuality is a sin, and should be punished by death.  \\n  \\n  i see a new united states.  \\n  &lt;|endoftext|&gt;a new united states is a good idea. I think it will be a good idea.  \\n  \\n  the legalization of drugs \\n  &lt;|endoftext|&gt;the legalization of marijuana would be a good thing for the United States. I will be arguing that marijuana should be legalized in the United States. \\n</td>\n",
       "      <td>should homosexuality be criminalized?  \\n I guess sending people to jail for decades for smoking a plant was n't enough .  \\n  \\n  i see a new united states.  \\n  In order for Pro to affirm the resolution , he must prove there is a new United States .  \\n  \\n  the legalization of drugs \\n  Round 1- Acceptance Round 2- Main Arguments Round 3- Rebuttal and Conclusion Con- Against Legalization of Drugs Pro- For Legalization of Drugs Definition of drugs in this debate- All currently illegal substances that are snorted , injected , smoked , etc . \\n</td>\n",
       "    </tr>\n",
       "    <tr>\n",
       "      <th>4</th>\n",
       "      <td>Deathbeforedishonour</td>\n",
       "      <td>Conservative</td>\n",
       "      <td>is freedom more important than security  \\n &lt;|endoftext|&gt;security guards are not the only people who need to be armed. The police, firemen and other citizens should also have guns for protection.  \\n  \\n  god exists  \\n  &lt;|endoftext|&gt;god is a god. He has the power to create anything he wants, and if you think about it that means there's no limit on what kind of things he can do with his powers.  \\n  \\n  president bush was a good president  \\n  &lt;|endoftext|&gt;a good president. I will be arguing that he is a bad one, and my opponent must argue otherwise... First round acceptance only! Good luck to whoever accepts this debate :) http://www2debate.  \\n  \\n  resolved: guns should be prohibited.  \\n  &lt;|endoftext|&gt;guns are a good way to protect against criminals. Criminals will not be able get their hands on guns if they can't get them legally, so the only people who would have access is law abiding citizens and those with criminal records.  \\n  \\n  winter is better than summer. \\n  &lt;|endoftext|&gt;winter would be a good idea for the EU. It is not just about money, it also has to do with security and stability in Europe. \\n</td>\n",
       "      <td>is freedom more important than security  \\n &lt;|endoftext|&gt;security is a good thing. It keeps us safe from the criminals who break into our homes and steal things, but it also prevents crime by keeping people in their houses for long periods of time without being caught or even charged with crimes.  \\n  \\n  god exists  \\n  &lt;|endoftext|&gt;god is a god of war. He has the power to create anything he wants, and if you don't believe me then watch this video: http://www2-youtube.com... I will be arguing that God does not exist in reality.  \\n  \\n  president bush was a good president  \\n  &lt;|endoftext|&gt;a good president. I will be waiting for your response in the next round, and i hope you can help me out with my homework! :) thanks for debating with us! :D http://www2.  \\n  \\n  resolved: guns should be prohibited.  \\n  &lt;|endoftext|&gt;guns are not a good way to protect yourself. They can be used for protection from criminals, but they also have the potential of being dangerous and potentially deadly.  \\n  \\n  winter is better than summer. \\n  &lt;|endoftext|&gt;winter's family says they are 'hoping' to see her again. \\n</td>\n",
       "      <td>is freedom more important than security  \\n &lt;|endoftext|&gt;security is a good thing. It keeps people safe. It keeps people from getting hurt.  \\n  \\n  god exists  \\n  &lt;|endoftext|&gt;god is a troll. He is a troll. He is a troll.  \\n  \\n  president bush was a good president  \\n  &lt;|endoftext|&gt;a good president. I'm not sure why you forfeited. I guess I'll just say that I'm glad you're not a troll.  \\n  \\n  resolved: guns should be prohibited.  \\n  &lt;|endoftext|&gt;guns are not a good weapon for self defense. They are not meant to be used for self defense.  \\n  \\n  winter is better than summer. \\n  &lt;|endoftext|&gt;winter. I am sorry for the delay in posting my argument. I have been very busy lately. \\n</td>\n",
       "      <td>is freedom more important than security  \\n No Freedom is worthless if you wake up the slave of another country , or if you never wake up at all but die because you were foolish enough not to do what was needed to be done .  \\n  \\n  god exists  \\n  nan  \\n  \\n  president bush was a good president  \\n  I disagree and the next contentions will tell why Bush was in fact a horrble president .  \\n  \\n  resolved: guns should be prohibited.  \\n  Now , with these facts presented , I pose a question to my opponent and the people who are readind this .  \\n  \\n  winter is better than summer. \\n  Contention 1 : Growing Season I will be conducting this debate with the utilitarian point of view . \\n</td>\n",
       "    </tr>\n",
       "  </tbody>\n",
       "</table>\n",
       "</div>"
      ],
      "text/plain": [
       "                   user user_ideology  \\\n",
       "0  BaruchSpinoza         Liberal        \n",
       "1  cody30228             Conservative   \n",
       "2  Lee001                Liberal        \n",
       "3  emj32                 Liberal        \n",
       "4  Deathbeforedishonour  Conservative   \n",
       "\n",
       "                                                                                                                                                                                                                                                                                                                                                                                                                                                                                                                                                                                                                                                                                                                                                                                                                                                                                                                                                                                                                                                                                                                                                                    pplm-auto  \\\n",
       "0  capital punishment  \\n <|endoftext|>capital punishment is a good idea. It will help to reduce the amount of murders and murder rates in our country, which has been on an increase recently.  \\n  \\n  quebec should pursue independence from canada \\n  <|endoftext|>independence are not a right choice for many people. They can be very expensive and time consuming to set up, especially if you're young or have no job. \\n                                                                                                                                                                                                                                                                                                                                                                                                                                                                                                                                                                                                                                                                                                                                             \n",
       "1  a minority as president!  \\n <|endoftext|>a minority government in Greece has been unable agree to a bailout plan. The Greek parliament is expected on Friday night or Saturday morning, after the Greek elections were declared invalid by voters who voted for anti-bailout parties and called it an \"unconstitutional coup\". A new coalition of left wing politicians will be formed to try again at forming governments.  \\n  \\n  gun rights should not be taken away. \\n  <|endoftext|>gun rights is a group that supports the right to bear arms. I am against this because it infringes on our 2nd amendment rights and also, if we are going by their definition of \"right\", then they should be able too have guns in public places as well. \\n                                                                                                                                                                                                                                                                                                                                                                                                                     \n",
       "2  cannabis should be legalised  \\n <|endoftext|>cannabis is a drug that has been used for thousands of years.  \\n  \\n  should euthanasia be legalized?  \\n  <|endoftext|>euthanasia is a form of euthanization. Euthanizing someone who has been in pain for years, and then killing them because they are too old to take care if their life is going down the drain.  \\n  \\n  love marrige is good than parents happiness  \\n  <|endoftext|>parents happiness rate is higher than the average American. The parents who are more likely to have a child will be those with better jobs and more money, which means they can afford it.  \\n  \\n  prostitution should be legalized  \\n  <|endoftext|>prostitution is a form of slavery. It's illegal in the U States, but it still happens all over the world and I think that we should ban prostitution because it harms people who are being forced to work for money.  \\n  \\n  worst pick up lines #3 \\n  <|endoftext|>lines would be a good idea. They could reduce the number of illegal immigrants in the country and help to stop crime, which is one thing that we need more than ever. \\n                            \n",
       "3  should homosexuality be criminalized?  \\n <|endoftext|>homosexuality is a choice, not natural. it's unnatural and wrong to do that because of the bible.  \\n  \\n  i see a new united states.  \\n  <|endoftext|>a new united states is a good idea. I think it would be better for the people of america to have one country that has all their rights and needs, but not everyone can get what they want in life because some people are rich or some people don't have enough money so they cant afford to go to school.  \\n  \\n  the legalization of drugs \\n  <|endoftext|>the legalization would increase the amount of money that drug cartels could make from selling drugs. \\n                                                                                                                                                                                                                                                                                                                                                                                                                                                                                        \n",
       "4  is freedom more important than security  \\n <|endoftext|>security guards are not the only people who need to be armed. The police, firemen and other citizens should also have guns for protection.  \\n  \\n  god exists  \\n  <|endoftext|>god is a god. He has the power to create anything he wants, and if you think about it that means there's no limit on what kind of things he can do with his powers.  \\n  \\n  president bush was a good president  \\n  <|endoftext|>a good president. I will be arguing that he is a bad one, and my opponent must argue otherwise... First round acceptance only! Good luck to whoever accepts this debate :) http://www2debate.  \\n  \\n  resolved: guns should be prohibited.  \\n  <|endoftext|>guns are a good way to protect against criminals. Criminals will not be able get their hands on guns if they can't get them legally, so the only people who would have access is law abiding citizens and those with criminal records.  \\n  \\n  winter is better than summer. \\n  <|endoftext|>winter would be a good idea for the EU. It is not just about money, it also has to do with security and stability in Europe. \\n    \n",
       "\n",
       "                                                                                                                                                                                                                                                                                                                                                                                                                                                                                                                                                                                                                                                                                                                                                                                                                                                                                                                                                                                                                                                                                                                                                                                                                                                                                                                                                                                                                         pplm-manual  \\\n",
       "0  capital punishment  \\n <|endoftext|>capital punishment is a necessary tool in the fight against crime. It's not right to kill innocent people, and it should be stopped immediately.  \\n  \\n  quebec should pursue independence from canada \\n  <|endoftext|>independence is a good thing for the economy. It allows people to choose their own career path, and it gives them more choice in choosing where they want to live. \\n                                                                                                                                                                                                                                                                                                                                                                                                                                                                                                                                                                                                                                                                                                                                                                                                                                                                                                                                                                                                  \n",
       "1  a minority as president!  \\n <|endoftext|>a minority government in Greece is not a democracy. It has been elected by the people, and it was democratically chosen to govern with an election of its own parliament on May 25th 2012.[1] This means that there are no elections for any other party, so this system would be undemocratic.  \\n  \\n  gun rights should not be taken away. \\n  <|endoftext|>gun rights are not a right. They should be illegal because they infring on the 2nd amendment and other laws that protect our country from criminals, terrorists etc.. The government has no business telling us what to do with our bodies or property. \\n                                                                                                                                                                                                                                                                                                                                                                                                                                                                                                                                                                                                                                                                                                                                                                 \n",
       "2  cannabis should be legalised  \\n <|endoftext|>cannabis is a drug that has been legalized in the United. It should be legal because it can help with cancer and other diseases, but people still smoke marijuana illegally so they are not getting their medical treatment for them.  \\n  \\n  should euthanasia be legalized?  \\n  <|endoftext|>euthanasia is a form of euthinism. Euthanizing someone who has been terminally ill is the same as killing them, but it's not legal in all states so that means you can't do this to people with terminal illnesses.  \\n  \\n  love marrige is good than parents happiness  \\n  <|endoftext|>parents happiness is not the same as parents' right to privacy. Parents have a right of privacy to their children, but they do so in ways that are different from those which other people enjoy and use for good reasons.  \\n  \\n  prostitution should be legalized  \\n  <|endoftext|>prostitution is a form of slavery. It's illegal in the U States, but it still happens all over the world and I think that we should legalize prostitution because if you do not legalize prostitutes then they will be forced to work for less money than what they are worth.  \\n  \\n  worst pick up lines #3 \\n  <|endoftext|>lines are a good way to help people get around the world. They can be used for many things, such as helping with travel and getting jobs in other countries. \\n    \n",
       "3  should homosexuality be criminalized?  \\n <|endoftext|>homosexuality is a choice, not natural. it's unnatural because nature doesn't allow homosexuality to exist naturally.  \\n  \\n  i see a new united states.  \\n  <|endoftext|>a new united states is a good idea. I will be arguing that it would not work and my opponent must argue why the United States should have one.  \\n  \\n  the legalization of drugs \\n  <|endoftext|>the legalization is a good idea. it will help the economy and people who are legalizing marijuana. \\n                                                                                                                                                                                                                                                                                                                                                                                                                                                                                                                                                                                                                                                                                                                                                                                                                                                                                         \n",
       "4  is freedom more important than security  \\n <|endoftext|>security is a good thing. It keeps us safe from the criminals who break into our homes and steal things, but it also prevents crime by keeping people in their houses for long periods of time without being caught or even charged with crimes.  \\n  \\n  god exists  \\n  <|endoftext|>god is a god of war. He has the power to create anything he wants, and if you don't believe me then watch this video: http://www2-youtube.com... I will be arguing that God does not exist in reality.  \\n  \\n  president bush was a good president  \\n  <|endoftext|>a good president. I will be waiting for your response in the next round, and i hope you can help me out with my homework! :) thanks for debating with us! :D http://www2.  \\n  \\n  resolved: guns should be prohibited.  \\n  <|endoftext|>guns are not a good way to protect yourself. They can be used for protection from criminals, but they also have the potential of being dangerous and potentially deadly.  \\n  \\n  winter is better than summer. \\n  <|endoftext|>winter's family says they are 'hoping' to see her again. \\n                                                                                                                                                                                                                                                                        \n",
       "\n",
       "                                                                                                                                                                                                                                                                                                                                                                                                                                                                                                                                                                                                                                                                                                                                                                                                                                                       pplm-uncond  \\\n",
       "0  capital punishment  \\n <|endoftext|>capital punishment is a form of punishment that is not only cruel but also ineffective.  \\n  \\n  quebec should pursue independence from canada \\n  <|endoftext|>independence are not a threat to the stability of the EU. The EU is a union of states, not a single state. \\n                                                                                                                                                                                                                                                                                                                                                                                                                                                                                                                                                 \n",
       "1  a minority as president!  \\n <|endoftext|>a minority of people are not racist. I am not saying that all black people are racist, but that a majority of black people are.  \\n  \\n  gun rights should not be taken away. \\n  <|endoftext|>gun rights is a good idea. I think it would be a good idea to have a gun in school. \\n                                                                                                                                                                                                                                                                                                                                                                                                                                                                                                                                   \n",
       "2  cannabis should be legalised  \\n <|endoftext|>cannabis should be legalised because it is a plant that is used to treat cancer and other illnesses.  \\n  \\n  should euthanasia be legalized?  \\n  <|endoftext|>euthanasia is a form of euthanasia. Euthanasia is the act of killing someone who is in a state of pain.  \\n  \\n  love marrige is good than parents happiness  \\n  <|endoftext|>parents happiness is not the same as the happiness of their children. The children of single parents are more likely to be bullied and to be more likely to be in a bad school.  \\n  \\n  prostitution should be legalized  \\n  <|endoftext|>prostitution is a form of slavery. It is a form of exploitation.  \\n  \\n  worst pick up lines #3 \\n  <|endoftext|>lines are not a good source of information. They are biased and biased sources are not reliable. \\n    \n",
       "3  should homosexuality be criminalized?  \\n <|endoftext|>homosexuality is a sin, and should be punished by death. I will be arguing that homosexuality is a sin, and should be punished by death.  \\n  \\n  i see a new united states.  \\n  <|endoftext|>a new united states is a good idea. I think it will be a good idea.  \\n  \\n  the legalization of drugs \\n  <|endoftext|>the legalization of marijuana would be a good thing for the United States. I will be arguing that marijuana should be legalized in the United States. \\n                                                                                                                                                                                                                                                                                                                            \n",
       "4  is freedom more important than security  \\n <|endoftext|>security is a good thing. It keeps people safe. It keeps people from getting hurt.  \\n  \\n  god exists  \\n  <|endoftext|>god is a troll. He is a troll. He is a troll.  \\n  \\n  president bush was a good president  \\n  <|endoftext|>a good president. I'm not sure why you forfeited. I guess I'll just say that I'm glad you're not a troll.  \\n  \\n  resolved: guns should be prohibited.  \\n  <|endoftext|>guns are not a good weapon for self defense. They are not meant to be used for self defense.  \\n  \\n  winter is better than summer. \\n  <|endoftext|>winter. I am sorry for the delay in posting my argument. I have been very busy lately. \\n                                                                                                                                           \n",
       "\n",
       "                                                                                                                                                                                                                                                                                                                                                                                                                                                                                                                                                                                                                                                                                                                        gt  \n",
       "0  capital punishment  \\n I will take the position that capital punishment is not a morally acceptable manner of punishment .  \\n  \\n  quebec should pursue independence from canada \\n  In the short term Quebec 's economic situation is indeed likely to get worse after the independence . \\n                                                                                                                                                                                                                                                                                                                                                                                                                           \n",
       "1  a minority as president!  \\n There are different versions of a democracy representative and direct we are a representative democracy in America and thus we can limit debate to this Representative democracy is people vote on representatives .  \\n  \\n  gun rights should not be taken away. \\n  Please do not USE the second-amendment to say why we have the right to bear arms . \\n                                                                                                                                                                                                                                                                                                                                \n",
       "2  cannabis should be legalised  \\n I will be arguing that Cannabis should be legalized in general , for many beneficial and medial reasons .  \\n  \\n  should euthanasia be legalized?  \\n  No one should be able to tell us how to live or what we should do .  \\n  \\n  love marrige is good than parents happiness  \\n  Today in this worl where everyone rushes for hus or her love parents are left behind nd theur happiness is not a factor fir children .  \\n  \\n  prostitution should be legalized  \\n  Why on earth should be legalize it knowing the major consequences , especially to children who have no choice .  \\n  \\n  worst pick up lines #3 \\n  nan \\n                                                  \n",
       "3  should homosexuality be criminalized?  \\n I guess sending people to jail for decades for smoking a plant was n't enough .  \\n  \\n  i see a new united states.  \\n  In order for Pro to affirm the resolution , he must prove there is a new United States .  \\n  \\n  the legalization of drugs \\n  Round 1- Acceptance Round 2- Main Arguments Round 3- Rebuttal and Conclusion Con- Against Legalization of Drugs Pro- For Legalization of Drugs Definition of drugs in this debate- All currently illegal substances that are snorted , injected , smoked , etc . \\n                                                                                                                                                   \n",
       "4  is freedom more important than security  \\n No Freedom is worthless if you wake up the slave of another country , or if you never wake up at all but die because you were foolish enough not to do what was needed to be done .  \\n  \\n  god exists  \\n  nan  \\n  \\n  president bush was a good president  \\n  I disagree and the next contentions will tell why Bush was in fact a horrble president .  \\n  \\n  resolved: guns should be prohibited.  \\n  Now , with these facts presented , I pose a question to my opponent and the people who are readind this .  \\n  \\n  winter is better than summer. \\n  Contention 1 : Growing Season I will be conducting this debate with the utilitarian point of view . \\n   "
      ]
     },
     "execution_count": 75,
     "metadata": {},
     "output_type": "execute_result"
    }
   ],
   "source": [
    "sample_df[['user', 'user_ideology', 'pplm-auto', 'pplm-manual', 'pplm-uncond', 'gt']].head()"
   ]
  },
  {
   "cell_type": "code",
   "execution_count": null,
   "metadata": {},
   "outputs": [],
   "source": []
  }
 ],
 "metadata": {
  "kernelspec": {
   "display_name": "Python 3",
   "language": "python",
   "name": "python3"
  },
  "language_info": {
   "codemirror_mode": {
    "name": "ipython",
    "version": 3
   },
   "file_extension": ".py",
   "mimetype": "text/x-python",
   "name": "python",
   "nbconvert_exporter": "python",
   "pygments_lexer": "ipython3",
   "version": "3.6.8"
  }
 },
 "nbformat": 4,
 "nbformat_minor": 4
}
