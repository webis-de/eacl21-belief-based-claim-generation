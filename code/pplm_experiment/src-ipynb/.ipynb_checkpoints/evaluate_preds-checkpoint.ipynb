{
 "cells": [
  {
   "cell_type": "code",
   "execution_count": 68,
   "metadata": {},
   "outputs": [
    {
     "name": "stdout",
     "output_type": "stream",
     "text": [
      "The autoreload extension is already loaded. To reload it, use:\n",
      "  %reload_ext autoreload\n",
      "The history saving thread hit an unexpected error (OperationalError('unable to open database file',)).History will not be written to the database.\n"
     ]
    }
   ],
   "source": [
    "%load_ext autoreload"
   ]
  },
  {
   "cell_type": "code",
   "execution_count": 2,
   "metadata": {},
   "outputs": [],
   "source": [
    "import sys\n",
    "\n",
    "sys.path.insert(0, \"/workspace/believe-based-argumentation-generation/src-py/\")"
   ]
  },
  {
   "cell_type": "code",
   "execution_count": 3,
   "metadata": {},
   "outputs": [
    {
     "name": "stderr",
     "output_type": "stream",
     "text": [
      "[nltk_data] Downloading package wordnet to /root/nltk_data...\n",
      "[nltk_data]   Package wordnet is already up-to-date!\n"
     ]
    }
   ],
   "source": [
    "%autoreload\n",
    "\n",
    "from evaluation import *\n",
    "from text_to_beliefs import *\n",
    "import utils\n",
    "import numpy as np\n",
    "\n",
    "import pandas as pd\n",
    "\n",
    "from rouge import Rouge \n",
    "from matplotlib import pyplot as plt\n",
    "from tabulate import tabulate\n",
    "\n",
    "from scipy import stats\n",
    "\n",
    "\n",
    "pd.set_option('display.max_colwidth', 0)\n",
    "pd.set_option('display.max_row', 0)"
   ]
  },
  {
   "cell_type": "code",
   "execution_count": 4,
   "metadata": {},
   "outputs": [],
   "source": [
    "from distinct_n import  distinct_n_corpus_level"
   ]
  },
  {
   "cell_type": "markdown",
   "metadata": {},
   "source": [
    "------------------------------------"
   ]
  },
  {
   "cell_type": "markdown",
   "metadata": {},
   "source": [
    "### Evaluate predictions:"
   ]
  },
  {
   "cell_type": "code",
   "execution_count": 5,
   "metadata": {},
   "outputs": [],
   "source": [
    "models_path = '/workspace/ceph_data/belief-based-argumentation-generation/models'\n",
    "\n",
    "\n",
    "#for evaluation model\n",
    "liwc_dict_path = '/workspace/ceph_data/belief-based-argumentation-generation/data/LIWC2015_English_Flat.dic.txt'\n",
    "tfidf_model_path = '/workspace/ceph_data/belief-based-argumentation-generation/models/cons_vs_lib_tfidf.pkl'\n",
    "belief_model_path = '/workspace/ceph_data/belief-based-argumentation-generation/models/cons_vs_lib_classifier.pkl'"
   ]
  },
  {
   "cell_type": "code",
   "execution_count": 6,
   "metadata": {},
   "outputs": [],
   "source": [
    "general_sents = [\n",
    "    'In this debate , I will be arguing that',\n",
    "    'The first round is for acceptance',\n",
    "    'last round are for',\n",
    "    'I will be arguing that',\n",
    "    'The goal of this debate',\n",
    "    'Round 1 : Acceptance Round 2 : Opening Argument Round 3 : Rebuttals Round 4',\n",
    "    'The first round is for acceptance only',\n",
    "    \n",
    "]"
   ]
  },
  {
   "cell_type": "code",
   "execution_count": 7,
   "metadata": {},
   "outputs": [],
   "source": [
    "def eval_table(gt_answers, approaches_preds, approachs_names, printit=True):\n",
    "    approaches_bleus1 = []\n",
    "    approaches_bleus2 = []\n",
    "    approaches_bleus3 = []\n",
    "    approaches_meteors = []\n",
    "    approaches_rouge_1 = []\n",
    "    approaches_rouge_2 = []\n",
    "    approaches_rouge_3 = []\n",
    "    approaches_rouge_l = []\n",
    "    approaches_rouge_w = []\n",
    "    \n",
    "    rouge = Rouge(metrics = ['rouge-n', 'rouge-l', 'rouge-w'], max_n=4, apply_avg=True)\n",
    "    \n",
    "    for app_preds in approaches_preds:\n",
    "        approaches_bleus1.append(round(eval_bleu(gt_answers, app_preds, weights=(1, 0, 0, 0)),3))\n",
    "        approaches_bleus2.append(round(eval_bleu(gt_answers, app_preds, weights=(0, 1, 0, 0)),3))\n",
    "        approaches_bleus3.append(round(eval_bleu(gt_answers, app_preds, weights=(0, 0, 1, 0)),3))\n",
    "        approaches_meteors.append(round(eval_meteor(gt_answers, app_preds), 3))\n",
    "\n",
    "        r_scores = rouge.get_scores(app_preds, gt_answers)\n",
    "        approaches_rouge_1.append(round(r_scores['rouge-1']['f'],3))\n",
    "        approaches_rouge_2.append(round(r_scores['rouge-2']['f'],3))\n",
    "        approaches_rouge_3.append(round(r_scores['rouge-3']['f'],3))\n",
    "        approaches_rouge_l.append(round(r_scores['rouge-l']['f'],3))\n",
    "        approaches_rouge_w.append(round(r_scores['rouge-w']['f'],3))\n",
    "\n",
    "    \n",
    "    table_data = [\n",
    "        [name, approaches_bleus1[i], approaches_bleus2[i], approaches_bleus3[i], approaches_meteors[i], approaches_rouge_1[i], approaches_rouge_2[i], approaches_rouge_3[i], approaches_rouge_l[i], approaches_rouge_w[i]]\n",
    "            for i, name in enumerate(approachs_names)\n",
    "    ]\n",
    "    \n",
    "    if printit:\n",
    "        print(tabulate(table_data, headers=['#', 'BLEU', 'BLEU-2', 'BLEU-3', 'METEOR', 'R-1', 'R-2', 'R-3', 'R-l', 'R-w']))\n",
    "    \n",
    "    return table_data\n",
    "\n",
    "def eval_beliefs_v2(df, tgt_clm, clms, approaches_names, majority_class, printit=True):\n",
    "    \n",
    "    f1_scores  = []\n",
    "    acc_scores = []\n",
    "    \n",
    "    for clm in clms:\n",
    "        \n",
    "        df = df_text_to_belief(df, liwc_dict_path, tfidf_model_path, belief_model_path, \n",
    "                               clm+'_belief_preds', txt_clm=clm)\n",
    "        \n",
    "        f1_scores.append(round(f1_score(df[tgt_clm].tolist(), df[clm+'_belief_preds'].tolist(), average='macro'), 3))\n",
    "        acc_scores.append(round(accuracy_score(df[tgt_clm].tolist(), df[clm+'_belief_preds'].tolist()), 3))\n",
    "\n",
    "    #Attach majority score\n",
    "    df['majority_belief'] = [majority_class] * len(df)\n",
    "    #f1_scores.append(round(f1_score(df[tgt_clm].tolist(), df['majority_belief'].tolist(), average='macro'), 3))\n",
    "    #acc_scores.append(round(accuracy_score(df[tgt_clm].tolist(), df['majority_belief'].tolist()), 3))\n",
    "        \n",
    "    table_data = [\n",
    "        [name, acc_scores[i], f1_scores[i]]\n",
    "            for i, name in enumerate(approaches_names)\n",
    "    ]\n",
    "    \n",
    "    if printit:\n",
    "        print(tabulate(table_data, headers=['#', 'ACC', 'F1-SCORE']))\n",
    "    \n",
    "    return table_data, df\n",
    "\n",
    "\n",
    "def eval_beliefs(df, clms, approachs_names,  printit=True):\n",
    "    gt_beliefs = df.user_belief.tolist()\n",
    "\n",
    "    f1_scores  = []\n",
    "    acc_scores = []\n",
    "    \n",
    "    for clm in clms:\n",
    "        clm_vals = df[clm].tolist()\n",
    "        acc, f1, _ = user_ideology_from_text(clm_vals, gt_beliefs, \n",
    "                                             models_path + '/text_to_idology_model_left_right_no_other.pkl')\n",
    "        f1_scores.append(round(f1, 3))\n",
    "        acc_scores.append(round(acc, 3))\n",
    "\n",
    "\n",
    "    table_data = [\n",
    "        [name, acc_scores[i], f1_scores[i]]\n",
    "            for i, name in enumerate(approachs_names)\n",
    "    ]\n",
    "    \n",
    "    if printit:\n",
    "        print(tabulate(table_data, headers=['#', 'ACC', 'F1-SCORE']))\n",
    "    \n",
    "    return table_data\n",
    "\n",
    "def eval_morals(df, gt_clm, clms, approachs_names,  printit=True):\n",
    "\n",
    "    apps_errors = []\n",
    "    \n",
    "    gt_texts = df[gt_clm].tolist()\n",
    "    \n",
    "    for clm in clms:\n",
    "        gen_texts = df[clm].tolist()\n",
    "        app_error = eval_moral_similarity(gt_texts, gen_texts)\n",
    "        apps_errors. append(app_error)\n",
    "\n",
    "    table_data = [\n",
    "        [name, apps_errors[i]]\n",
    "            for i, name in enumerate(approachs_names)\n",
    "    ]\n",
    "    \n",
    "    if printit:\n",
    "        print(tabulate(table_data, headers=['#', 'ERROR']))\n",
    "    \n",
    "    return table_data\n",
    "\n",
    "\n",
    "def eval_distinct(approaches_preds, approaches_names,  printit=True):\n",
    "    distinct_1s = []\n",
    "    distinct_2s = []\n",
    "    for approach_preds in approaches_preds:\n",
    "        approaches_preds = [x.split(' ') for x in approach_preds]\n",
    "        approaches_preds = [[item for sublist in approaches_preds for item in sublist]]\n",
    "        distinct_1 = round(distinct_n_corpus_level(approaches_preds, 1), 3)\n",
    "        distinct_2 = round(distinct_n_corpus_level(approaches_preds, 2), 3)\n",
    "        distinct_1s.append(distinct_1)\n",
    "        distinct_2s.append(distinct_2)\n",
    "        \n",
    "    \n",
    "    table_data = [\n",
    "    [name, distinct_1s[i], distinct_2s[i]]\n",
    "        for i, name in enumerate(approaches_names)\n",
    "    ]\n",
    "    \n",
    "    if printit:\n",
    "        print(tabulate(table_data, headers=['#', 'DISTINCT-1', 'DISTINCT-2']))\n",
    "    \n",
    "    return table_data"
   ]
  },
  {
   "cell_type": "code",
   "execution_count": 8,
   "metadata": {},
   "outputs": [],
   "source": [
    "#Get user's big-issues vectors\n",
    "users_info = pd.read_pickle('/workspace/ceph_data/belief-based-argumentation-generation/experiments/experiment_8/preprocessed_data/users.pkl')\n",
    "users_bi   = pd.Series(users_info.big_issues.values,index=users_info.user).to_dict()"
   ]
  },
  {
   "cell_type": "code",
   "execution_count": 9,
   "metadata": {},
   "outputs": [],
   "source": [
    "data  = pd.read_csv('/workspace/ceph_data/belief-based-argumentation-generation/experiments/experiment_8/preprocessed_data/test_df.csv')\n",
    "#pplm_preds = pd.read_csv('/workspace/ceph_data/belief-based-argumentation-generation/experiments/pplm_experiment/output/test_preds.csv')\n",
    "pplm_preds_manual = pd.read_csv('/workspace/ceph_data/belief-based-argumentation-generation/experiments/pplm_experiment/output/pplm_manual_bi_preds.csv')\n",
    "pplm_preds = pd.read_csv('/workspace/ceph_data/belief-based-argumentation-generation/experiments/pplm_experiment/output/pplm_auto_top_10_bi_preds.csv')\n",
    "seq2seq_preds_35 = pd.read_csv('/workspace/ceph_data/belief-based-argumentation-generation/experiments/experiment_8/output/persona_based_test_preds.csv')\n",
    "#bart_preds = pd.read_csv('/workspace/ceph_data/belief-based-argumentation-generation//experiments/bart_experiment/output/test_preds_df.csv')"
   ]
  },
  {
   "cell_type": "code",
   "execution_count": 10,
   "metadata": {},
   "outputs": [],
   "source": [
    "pplm_preds = pplm_preds.drop_duplicates(['user', 'topic'])\n",
    "seq2seq_preds_35 = seq2seq_preds_35.drop_duplicates(['user', 'topic'])\n",
    "pplm_preds_manual = pplm_preds_manual.drop_duplicates(['user', 'topic'])"
   ]
  },
  {
   "cell_type": "code",
   "execution_count": 11,
   "metadata": {},
   "outputs": [],
   "source": [
    "#data_topics = [x[0] for x in seq2seq_preds_35.topic.value_counts().to_dict().items() if x[1] > 1]\n",
    "#filter out rows rows on topics with one answer\n",
    "#pplm_preds = pplm_preds[pplm_preds.topic.isin(data_topics)]\n",
    "#seq2seq_preds_35 = seq2seq_preds_35[seq2seq_preds_35.topic.isin(data_topics)]"
   ]
  },
  {
   "cell_type": "code",
   "execution_count": 12,
   "metadata": {},
   "outputs": [
    {
     "data": {
      "image/png": "[encoded data removed]",
      "text/plain": [
       "<Figure size 432x288 with 1 Axes>"
      ]
     },
     "metadata": {
      "needs_background": "light"
     },
     "output_type": "display_data"
    }
   ],
   "source": [
    "plt.hist(seq2seq_preds_35.topic.value_counts().to_dict().values(), bins=range(1, 10, 1))\n",
    "plt.show()"
   ]
  },
  {
   "cell_type": "code",
   "execution_count": 13,
   "metadata": {},
   "outputs": [],
   "source": [
    "#bow_based_preds = pd.read_csv('/workspace/ceph_data/belief-based-argumentation-generation/experiments/pplm_experiment/output/pplm_preds_bi_new_bows_25_0.2_2.0.csv')\n",
    "#pplm_preds['user_bi_bow_based_pred_claim'] = bow_based_preds['user_bi_bow_based_pred_claim'].tolist()"
   ]
  },
  {
   "cell_type": "code",
   "execution_count": 14,
   "metadata": {},
   "outputs": [],
   "source": [
    "# pplm_preds_10 = pd.read_csv('/workspace/ceph_data/belief-based-argumentation-generation/experiments/pplm_experiment/output/pplm_preds_user_bow_top_10.csv')\n",
    "# pplm_preds_50 = pd.read_csv('/workspace/ceph_data/belief-based-argumentation-generation/experiments/pplm_experiment/output/pplm_preds_user_bow_top_50.csv')\n",
    "# pplm_preds_100 = pd.read_csv('/workspace/ceph_data/belief-based-argumentation-generation/experiments/pplm_experiment/output/pplm_preds_user_bow_top_100.csv')\n",
    "# pplm_preds['user_bow_based_pred_claim_10'] = pplm_preds_10['user_bow_based_pred_claim'].tolist()\n",
    "# pplm_preds['user_bow_based_pred_claim_50'] = pplm_preds_50['user_bow_based_pred_claim'].tolist()\n",
    "# pplm_preds['user_bow_based_pred_claim_100'] = pplm_preds_100['user_bow_based_pred_claim'].tolist()"
   ]
  },
  {
   "cell_type": "code",
   "execution_count": 15,
   "metadata": {},
   "outputs": [],
   "source": [
    "data['vis_bi'] = data.user.apply(lambda x: utils.desc_user_from_vec(users_bi[x]))\n",
    "data['vis_bi_len'] = data.vis_bi.apply(lambda x: len(x))\n",
    "# data = data[data.vis_bi_len < 5]"
   ]
  },
  {
   "cell_type": "code",
   "execution_count": 16,
   "metadata": {},
   "outputs": [],
   "source": [
    "pplm_preds['vis_bi'] = pplm_preds.user.apply(lambda x: utils.desc_user_from_vec(users_bi[x]))\n",
    "pplm_preds['vis_bi_len'] = pplm_preds.vis_bi.apply(lambda x: len(x))\n",
    "pplm_preds['topic_len'] = pplm_preds.topic.apply(lambda x: len(x.split()))\n",
    "#pplm_preds = pplm_preds[pplm_preds.topic_len < 5]"
   ]
  },
  {
   "cell_type": "code",
   "execution_count": 17,
   "metadata": {},
   "outputs": [],
   "source": [
    "seq2seq_preds_35['vis_bi'] = seq2seq_preds_35.user.apply(lambda x: utils.desc_user_from_vec(users_bi[x]))\n",
    "seq2seq_preds_35['vis_bi_len'] = seq2seq_preds_35.vis_bi.apply(lambda x: len(x))\n",
    "seq2seq_preds_35['topic_len'] = seq2seq_preds_35.topic.apply(lambda x: len(x.split()))\n",
    "#seq2seq_preds_35 = seq2seq_preds_35[seq2seq_preds_35.topic_len < 5]\n",
    "#seq2seq_preds_35 = seq2seq_preds_35[seq2seq_preds_35.vis_bi_len < 15]"
   ]
  },
  {
   "cell_type": "code",
   "execution_count": 18,
   "metadata": {},
   "outputs": [],
   "source": [
    "def text_contain_general_statements(text):\n",
    "    for x in general_sents:\n",
    "        if x.lower() in text.lower():\n",
    "            return True\n",
    "            break\n",
    "    return False"
   ]
  },
  {
   "cell_type": "code",
   "execution_count": 19,
   "metadata": {},
   "outputs": [
    {
     "name": "stdout",
     "output_type": "stream",
     "text": [
      "pplm: 148\n",
      "seq2seq: 1194\n",
      "gt: 41\n"
     ]
    }
   ],
   "source": [
    "print('pplm:', len([x for x in pplm_preds.user_bi_bow_based_pred_claim.tolist() \n",
    "     if text_contain_general_statements(x)]))\n",
    "print('seq2seq:', len([x for x in seq2seq_preds_35.big_issues_preds.tolist() \n",
    "     if text_contain_general_statements(x)]))\n",
    "print('gt:', len([x for x in seq2seq_preds_35.top_claim.tolist() \n",
    "     if text_contain_general_statements(str(x))]))"
   ]
  },
  {
   "cell_type": "code",
   "execution_count": 20,
   "metadata": {},
   "outputs": [
    {
     "data": {
      "image/png": "[encoded data removed]",
      "text/plain": [
       "<Figure size 432x288 with 1 Axes>"
      ]
     },
     "metadata": {
      "needs_background": "light"
     },
     "output_type": "display_data"
    }
   ],
   "source": [
    "plt.hist(pplm_preds.vis_bi_len.tolist())\n",
    "plt.show()"
   ]
  },
  {
   "cell_type": "code",
   "execution_count": 21,
   "metadata": {},
   "outputs": [
    {
     "data": {
      "image/png": "[encoded data removed]",
      "text/plain": [
       "<Figure size 432x288 with 1 Axes>"
      ]
     },
     "metadata": {
      "needs_background": "light"
     },
     "output_type": "display_data"
    }
   ],
   "source": [
    "plt.hist([len(x.split(' ')) for x in pplm_preds.user_bi_bow_based_pred_claim.tolist()])\n",
    "plt.hist([len(x.split(' ')) for x in seq2seq_preds_35.big_issues_preds.tolist()])\n",
    "plt.show()"
   ]
  },
  {
   "cell_type": "code",
   "execution_count": 22,
   "metadata": {
    "scrolled": true
   },
   "outputs": [
    {
     "data": {
      "text/html": [
       "<div>\n",
       "<style scoped>\n",
       "    .dataframe tbody tr th:only-of-type {\n",
       "        vertical-align: middle;\n",
       "    }\n",
       "\n",
       "    .dataframe tbody tr th {\n",
       "        vertical-align: top;\n",
       "    }\n",
       "\n",
       "    .dataframe thead th {\n",
       "        text-align: right;\n",
       "    }\n",
       "</style>\n",
       "<table border=\"1\" class=\"dataframe\">\n",
       "  <thead>\n",
       "    <tr style=\"text-align: right;\">\n",
       "      <th></th>\n",
       "      <th>topic</th>\n",
       "      <th>vis_bi</th>\n",
       "      <th>user_bi_bow_based_pred_claim</th>\n",
       "    </tr>\n",
       "  </thead>\n",
       "  <tbody>\n",
       "    <tr>\n",
       "      <td>0</td>\n",
       "      <td>should animals be treated equally to humans?</td>\n",
       "      <td>{'Abortion': 1, 'Affirmative Action': 1, 'Animal Rights': 1, 'Environmental Protection': 3, 'Gay Marriage': 1, 'Global Warming Exists': 3, 'Gun Rights': 3, 'Homeschooling': 3, 'Internet Censorship': 1, 'Iran-Iraq War': 1, 'Legalized Prostitution': 3, 'Medicaid &amp; Medicare': 3, 'Minimum Wage': 3, 'Occupy Movement': 1, 'Smoking Ban': 3, 'Social Programs': 3, 'Social Security': 3}</td>\n",
       "      <td>&lt;|endoftext|&gt;animals.com is a website that promotes the idea of animal welfare and how it should be done in the world.</td>\n",
       "    </tr>\n",
       "    <tr>\n",
       "      <td>1</td>\n",
       "      <td>cheese itz are better than ritz</td>\n",
       "      <td>{'Abortion': 3, 'Affirmative Action': 3, 'Animal Rights': 1, 'Barack Obama': 3, 'Border Fence': 3, 'Capitalism': 3, 'Civil Unions': 1, 'Death Penalty': 3, 'Drug Legalization': 1, 'Electoral College': 3, 'Environmental Protection': 1, 'Estate Tax': 1, 'European Union': 1, 'Euthanasia': 3, 'Federal Reserve': 1, 'Flat Tax': 3, 'Free Trade': 1, 'Gay Marriage': 1, 'Global Warming Exists': 1, 'Globalization': 1, 'Gold Standard': 3, 'Gun Rights': 3, 'Homeschooling': 1, 'Internet Censorship': 3, 'Iran-Iraq War': 3, 'Labor Union': 1, 'Legalized Prostitution': 3, 'Medicaid &amp; Medicare': 1, 'Medical Marijuana': 3, 'Military Intervention': 3, 'Minimum Wage': 1, 'National Health Care': 1, 'National Retail Sales Tax': 1, 'Occupy Movement': 1, 'Progressive Tax': 1, 'Racial Profiling': 3, 'Redistribution': 3, 'Smoking Ban': 1, 'Social Programs': 1, 'Social Security': 1, 'Socialism': 1, 'Stimulus Spending': 1, 'Term Limits': 1, 'Torture': 3, 'United Nations': 1, 'War in Afghanistan': 3, 'War on Terror': 1, 'Welfare': 1}</td>\n",
       "      <td>&lt;|endoftext|&gt;ritz plan is too expensive to be implemented. It will cost $1 billion more than the current system and it would take a decade or so for that to happen, according to an analysis by The Washington Post.</td>\n",
       "    </tr>\n",
       "    <tr>\n",
       "      <td>2</td>\n",
       "      <td>can genetically modified foods solve world hunger?</td>\n",
       "      <td>{'Abortion': 1, 'Animal Rights': 3, 'Border Fence': 1, 'Civil Unions': 3, 'Death Penalty': 1, 'Drug Legalization': 1, 'Euthanasia': 1, 'Gay Marriage': 1, 'Minimum Wage': 3, 'Redistribution': 1, 'Smoking Ban': 3}</td>\n",
       "      <td>&lt;|endoftext|&gt;can genetically modified foods help fight cancer. http://www Cancercancer cancer cancer cancer cancer cancer cancer cancer cancer cancer cancer cancer cancer cancer cancer cancer cancer cancer cancer cancer cancer cancer cancer cancer cancer cancer cancer cancer cancer cancer cancer cancer cancer cancer cancer cancer cancer cancer cancer cancer cancer cancer cancer cancer cancer cancer cancer cancer cancer cancer cancer cancer cancer cancer cancer cancer cancer cancer cancer cancer cancer cancer cancer cancer cancer cancer cancer cancer cancer cancer cancer cancer cancer cancer cancer cancer cancer cancer cancer cancer cancer cancer cancer cancer cancer cancer cancer cancer</td>\n",
       "    </tr>\n",
       "    <tr>\n",
       "      <td>3</td>\n",
       "      <td>has multiculturalism failed in europe?</td>\n",
       "      <td>{'Abortion': 1, 'Animal Rights': 3, 'Border Fence': 1, 'Civil Unions': 3, 'Death Penalty': 1, 'Drug Legalization': 1, 'Euthanasia': 1, 'Gay Marriage': 1, 'Minimum Wage': 3, 'Redistribution': 1, 'Smoking Ban': 3}</td>\n",
       "      <td>&lt;|endoftext|&gt;multiculturalism is a good thing. It allows people to be able express their own cultural identity and not have it imposed on them by the government or other groups of society, which can lead some individuals into self-harm.</td>\n",
       "    </tr>\n",
       "    <tr>\n",
       "      <td>4</td>\n",
       "      <td>should students bring their own toilet paper?</td>\n",
       "      <td>{'Abortion': 3, 'Animal Rights': 3, 'Death Penalty': 3}</td>\n",
       "      <td>&lt;|endoftext|&gt;their own toilet paper. They are not allowed to use it in public places, and they should be punished for their actions! I am against this because it is a violation of the first amendment right to free speech.</td>\n",
       "    </tr>\n",
       "    <tr>\n",
       "      <td>5</td>\n",
       "      <td>should testing tobacco on animals be banned?</td>\n",
       "      <td>{'Abortion': 3, 'Animal Rights': 3, 'Death Penalty': 3}</td>\n",
       "      <td>&lt;|endoftext|&gt;tobacco is a very bad choice for you. It can cause cancer, heart disease and other diseases.</td>\n",
       "    </tr>\n",
       "    <tr>\n",
       "      <td>6</td>\n",
       "      <td>should phys-ed be mandatory?</td>\n",
       "      <td>{'Abortion': 3, 'Affirmative Action': 1, 'Animal Rights': 3, 'Barack Obama': 1, 'Capitalism': 1, 'Civil Unions': 3, 'Death Penalty': 3, 'Drug Legalization': 1, 'Environmental Protection': 3, 'Euthanasia': 3, 'Federal Reserve': 3, 'Gay Marriage': 3, 'Global Warming Exists': 1, 'Gun Rights': 3, 'Internet Censorship': 3, 'Iran-Iraq War': 3, 'Legalized Prostitution': 3, 'Medicaid &amp; Medicare': 3, 'Medical Marijuana': 3, 'Military Intervention': 1, 'Minimum Wage': 3, 'National Health Care': 3, 'National Retail Sales Tax': 1, 'Racial Profiling': 1, 'Smoking Ban': 1, 'Social Security': 3, 'Torture': 1, 'United Nations': 3, 'War in Afghanistan': 3, 'War on Terror': 3, 'Welfare': 3}</td>\n",
       "      <td>&lt;|endoftext|&gt;phys-ed says that the average person is more likely to be a victim of crime than an offender.</td>\n",
       "    </tr>\n",
       "    <tr>\n",
       "      <td>7</td>\n",
       "      <td>will global warming really harm us?</td>\n",
       "      <td>{'Abortion': 1, 'Affirmative Action': 1, 'Animal Rights': 1, 'Barack Obama': 1, 'Border Fence': 3, 'Capitalism': 3, 'Drug Legalization': 3, 'Electoral College': 3, 'Environmental Protection': 3, 'Estate Tax': 1, 'European Union': 1, 'Euthanasia': 1, 'Federal Reserve': 3, 'Flat Tax': 3, 'Free Trade': 3, 'Gay Marriage': 1, 'Global Warming Exists': 3, 'Globalization': 1, 'Gold Standard': 1, 'Gun Rights': 3, 'Homeschooling': 3, 'Internet Censorship': 1, 'Labor Union': 3, 'Legalized Prostitution': 1, 'Medicaid &amp; Medicare': 1, 'Medical Marijuana': 3, 'Military Intervention': 3, 'Minimum Wage': 1, 'National Health Care': 1, 'National Retail Sales Tax': 1, 'Occupy Movement': 1, 'Progressive Tax': 1, 'Redistribution': 1, 'Smoking Ban': 1, 'Social Programs': 3, 'Social Security': 1, 'Socialism': 1, 'Stimulus Spending': 1, 'Term Limits': 3, 'United Nations': 1, 'War on Terror': 1, 'Welfare': 1}</td>\n",
       "      <td>&lt;|endoftext|&gt;global warming is not a threat to human health. Global temperature data show that the average global surface temperatures have been rising for about 150 years, and this trend continues today [1]. The increase in CO2 levels has also increased the mean sea level by 0.</td>\n",
       "    </tr>\n",
       "    <tr>\n",
       "      <td>8</td>\n",
       "      <td>gay marriage should be legalized</td>\n",
       "      <td>{'Abortion': 1, 'Affirmative Action': 1, 'Animal Rights': 1, 'Barack Obama': 1, 'Border Fence': 3, 'Capitalism': 3, 'Drug Legalization': 3, 'Electoral College': 3, 'Environmental Protection': 3, 'Estate Tax': 1, 'European Union': 1, 'Euthanasia': 1, 'Federal Reserve': 3, 'Flat Tax': 3, 'Free Trade': 3, 'Gay Marriage': 1, 'Global Warming Exists': 3, 'Globalization': 1, 'Gold Standard': 1, 'Gun Rights': 3, 'Homeschooling': 3, 'Internet Censorship': 1, 'Labor Union': 3, 'Legalized Prostitution': 1, 'Medicaid &amp; Medicare': 1, 'Medical Marijuana': 3, 'Military Intervention': 3, 'Minimum Wage': 1, 'National Health Care': 1, 'National Retail Sales Tax': 1, 'Occupy Movement': 1, 'Progressive Tax': 1, 'Redistribution': 1, 'Smoking Ban': 1, 'Social Programs': 3, 'Social Security': 1, 'Socialism': 1, 'Stimulus Spending': 1, 'Term Limits': 3, 'United Nations': 1, 'War on Terror': 1, 'Welfare': 1}</td>\n",
       "      <td>&lt;|endoftext|&gt;gay marriage is not a right. It's illegal and immoral to do so, but it should be legal because of the benefits that come with legalizing gay marriages in America.</td>\n",
       "    </tr>\n",
       "    <tr>\n",
       "      <td>9</td>\n",
       "      <td>are windows computers better than mac computers?</td>\n",
       "      <td>{'Abortion': 1, 'Affirmative Action': 1, 'Animal Rights': 1, 'Barack Obama': 1, 'Border Fence': 3, 'Capitalism': 3, 'Drug Legalization': 3, 'Electoral College': 3, 'Environmental Protection': 3, 'Estate Tax': 1, 'European Union': 1, 'Euthanasia': 1, 'Federal Reserve': 3, 'Flat Tax': 3, 'Free Trade': 3, 'Gay Marriage': 1, 'Global Warming Exists': 3, 'Globalization': 1, 'Gold Standard': 1, 'Gun Rights': 3, 'Homeschooling': 3, 'Internet Censorship': 1, 'Labor Union': 3, 'Legalized Prostitution': 1, 'Medicaid &amp; Medicare': 1, 'Medical Marijuana': 3, 'Military Intervention': 3, 'Minimum Wage': 1, 'National Health Care': 1, 'National Retail Sales Tax': 1, 'Occupy Movement': 1, 'Progressive Tax': 1, 'Redistribution': 1, 'Smoking Ban': 1, 'Social Programs': 3, 'Social Security': 1, 'Socialism': 1, 'Stimulus Spending': 1, 'Term Limits': 3, 'United Nations': 1, 'War on Terror': 1, 'Welfare': 1}</td>\n",
       "      <td>&lt;|endoftext|&gt;windows computers are not a good solution to the problem of crime. Crime rates have been on an increase in recent years, and many people believe that this is because more windows were added to houses.</td>\n",
       "    </tr>\n",
       "    <tr>\n",
       "      <td>10</td>\n",
       "      <td>should girls play boys' sports?</td>\n",
       "      <td>{'Abortion': 1, 'Animal Rights': 3, 'Barack Obama': 1, 'Border Fence': 3, 'Drug Legalization': 1, 'Electoral College': 1, 'Environmental Protection': 3, 'Estate Tax': 1, 'European Union': 1, 'Euthanasia': 1, 'Federal Reserve': 1, 'Flat Tax': 1, 'Free Trade': 3, 'Gay Marriage': 1, 'Global Warming Exists': 1, 'Globalization': 1, 'Gold Standard': 1, 'Gun Rights': 3, 'Homeschooling': 1, 'Internet Censorship': 1, 'Iran-Iraq War': 1, 'Labor Union': 1, 'Legalized Prostitution': 1, 'Medicaid &amp; Medicare': 1, 'Medical Marijuana': 1, 'Military Intervention': 1, 'Minimum Wage': 1, 'National Health Care': 1, 'National Retail Sales Tax': 1, 'Torture': 1, 'War in Afghanistan': 1}</td>\n",
       "      <td>&lt;|endoftext|&gt;boys' sports are not the best. They have a lot of bad effects on children's health and they can cause them to be violent, aggressive or even kill themselves.</td>\n",
       "    </tr>\n",
       "    <tr>\n",
       "      <td>11</td>\n",
       "      <td>should schools start later in the morning?</td>\n",
       "      <td>{'Abortion': 1, 'Animal Rights': 3, 'Barack Obama': 1, 'Border Fence': 3, 'Drug Legalization': 1, 'Electoral College': 1, 'Environmental Protection': 3, 'Estate Tax': 1, 'European Union': 1, 'Euthanasia': 1, 'Federal Reserve': 1, 'Flat Tax': 1, 'Free Trade': 3, 'Gay Marriage': 1, 'Global Warming Exists': 1, 'Globalization': 1, 'Gold Standard': 1, 'Gun Rights': 3, 'Homeschooling': 1, 'Internet Censorship': 1, 'Iran-Iraq War': 1, 'Labor Union': 1, 'Legalized Prostitution': 1, 'Medicaid &amp; Medicare': 1, 'Medical Marijuana': 1, 'Military Intervention': 1, 'Minimum Wage': 1, 'National Health Care': 1, 'National Retail Sales Tax': 1, 'Torture': 1, 'War in Afghanistan': 1}</td>\n",
       "      <td>&lt;|endoftext|&gt;the morning reported that the number of illegal immigrants in Arizona has increased since Trump's immigration ban was implemented.</td>\n",
       "    </tr>\n",
       "    <tr>\n",
       "      <td>12</td>\n",
       "      <td>does homework help students learn?</td>\n",
       "      <td>{'Affirmative Action': 1, 'Barack Obama': 1, 'Border Fence': 1, 'Capitalism': 3, 'Death Penalty': 3, 'Drug Legalization': 3, 'Electoral College': 3, 'Environmental Protection': 3, 'Estate Tax': 1, 'European Union': 1, 'Euthanasia': 3, 'Federal Reserve': 1, 'Flat Tax': 3, 'Free Trade': 3, 'Global Warming Exists': 3, 'Globalization': 1, 'Gold Standard': 3, 'Gun Rights': 3, 'Homeschooling': 3, 'Internet Censorship': 1, 'Iran-Iraq War': 1, 'Legalized Prostitution': 3, 'Medicaid &amp; Medicare': 1, 'Medical Marijuana': 3, 'Military Intervention': 1, 'Minimum Wage': 1, 'National Health Care': 1, 'National Retail Sales Tax': 1, 'Occupy Movement': 1, 'Progressive Tax': 1, 'Racial Profiling': 3, 'Redistribution': 1, 'Smoking Ban': 1, 'Social Programs': 1, 'Social Security': 1, 'Socialism': 1, 'Stimulus Spending': 1, 'Term Limits': 3, 'Torture': 1, 'United Nations': 1, 'War in Afghanistan': 1, 'War on Terror': 1, 'Welfare': 1}</td>\n",
       "      <td>&lt;|endoftext|&gt;homework is a form of child abuse. It causes physical harm to the children involved, and it can also cause psychological damage.</td>\n",
       "    </tr>\n",
       "    <tr>\n",
       "      <td>13</td>\n",
       "      <td>should music with bad language be banned</td>\n",
       "      <td>{'Affirmative Action': 1, 'Barack Obama': 1, 'Border Fence': 1, 'Capitalism': 3, 'Death Penalty': 3, 'Drug Legalization': 3, 'Electoral College': 3, 'Environmental Protection': 3, 'Estate Tax': 1, 'European Union': 1, 'Euthanasia': 3, 'Federal Reserve': 1, 'Flat Tax': 3, 'Free Trade': 3, 'Global Warming Exists': 3, 'Globalization': 1, 'Gold Standard': 3, 'Gun Rights': 3, 'Homeschooling': 3, 'Internet Censorship': 1, 'Iran-Iraq War': 1, 'Legalized Prostitution': 3, 'Medicaid &amp; Medicare': 1, 'Medical Marijuana': 3, 'Military Intervention': 1, 'Minimum Wage': 1, 'National Health Care': 1, 'National Retail Sales Tax': 1, 'Occupy Movement': 1, 'Progressive Tax': 1, 'Racial Profiling': 3, 'Redistribution': 1, 'Smoking Ban': 1, 'Social Programs': 1, 'Social Security': 1, 'Socialism': 1, 'Stimulus Spending': 1, 'Term Limits': 3, 'Torture': 1, 'United Nations': 1, 'War in Afghanistan': 1, 'War on Terror': 1, 'Welfare': 1}</td>\n",
       "      <td>&lt;|endoftext|&gt;bad language is a problem for the United States. It has been proven to be harmful and should not exist in our country, especially when it comes into contact with other countries such as Mexico or Canada.</td>\n",
       "    </tr>\n",
       "    <tr>\n",
       "      <td>14</td>\n",
       "      <td>gay marriage should be legalized</td>\n",
       "      <td>{'Affirmative Action': 1, 'Barack Obama': 1, 'Border Fence': 1, 'Capitalism': 3, 'Death Penalty': 3, 'Drug Legalization': 3, 'Electoral College': 3, 'Environmental Protection': 3, 'Estate Tax': 1, 'European Union': 1, 'Euthanasia': 3, 'Federal Reserve': 1, 'Flat Tax': 3, 'Free Trade': 3, 'Global Warming Exists': 3, 'Globalization': 1, 'Gold Standard': 3, 'Gun Rights': 3, 'Homeschooling': 3, 'Internet Censorship': 1, 'Iran-Iraq War': 1, 'Legalized Prostitution': 3, 'Medicaid &amp; Medicare': 1, 'Medical Marijuana': 3, 'Military Intervention': 1, 'Minimum Wage': 1, 'National Health Care': 1, 'National Retail Sales Tax': 1, 'Occupy Movement': 1, 'Progressive Tax': 1, 'Racial Profiling': 3, 'Redistribution': 1, 'Smoking Ban': 1, 'Social Programs': 1, 'Social Security': 1, 'Socialism': 1, 'Stimulus Spending': 1, 'Term Limits': 3, 'Torture': 1, 'United Nations': 1, 'War in Afghanistan': 1, 'War on Terror': 1, 'Welfare': 1}</td>\n",
       "      <td>&lt;|endoftext|&gt;gay marriage is not a right. It's illegal and it should be banned because of the fact that gay people are just as human as straight men or women, they have rights too! They can't get married if their partner isn't legal.</td>\n",
       "    </tr>\n",
       "    <tr>\n",
       "      <td>15</td>\n",
       "      <td>are windows computers better than mac computers?</td>\n",
       "      <td>{'Affirmative Action': 1, 'Barack Obama': 1, 'Border Fence': 1, 'Capitalism': 3, 'Death Penalty': 3, 'Drug Legalization': 3, 'Electoral College': 3, 'Environmental Protection': 3, 'Estate Tax': 1, 'European Union': 1, 'Euthanasia': 3, 'Federal Reserve': 1, 'Flat Tax': 3, 'Free Trade': 3, 'Global Warming Exists': 3, 'Globalization': 1, 'Gold Standard': 3, 'Gun Rights': 3, 'Homeschooling': 3, 'Internet Censorship': 1, 'Iran-Iraq War': 1, 'Legalized Prostitution': 3, 'Medicaid &amp; Medicare': 1, 'Medical Marijuana': 3, 'Military Intervention': 1, 'Minimum Wage': 1, 'National Health Care': 1, 'National Retail Sales Tax': 1, 'Occupy Movement': 1, 'Progressive Tax': 1, 'Racial Profiling': 3, 'Redistribution': 1, 'Smoking Ban': 1, 'Social Programs': 1, 'Social Security': 1, 'Socialism': 1, 'Stimulus Spending': 1, 'Term Limits': 3, 'Torture': 1, 'United Nations': 1, 'War in Afghanistan': 1, 'War on Terror': 1, 'Welfare': 1}</td>\n",
       "      <td>&lt;|endoftext|&gt;windows computers are not a good solution to the problem of crime. Crime rates have been on an increase in recent years, and many people believe that this is because more windows were added to their homes.</td>\n",
       "    </tr>\n",
       "    <tr>\n",
       "      <td>16</td>\n",
       "      <td>are atheists being persecuted in america?</td>\n",
       "      <td>{'Affirmative Action': 1, 'Barack Obama': 1, 'Border Fence': 1, 'Capitalism': 3, 'Death Penalty': 3, 'Drug Legalization': 3, 'Electoral College': 3, 'Environmental Protection': 3, 'Estate Tax': 1, 'European Union': 1, 'Euthanasia': 3, 'Federal Reserve': 1, 'Flat Tax': 3, 'Free Trade': 3, 'Global Warming Exists': 3, 'Globalization': 1, 'Gold Standard': 3, 'Gun Rights': 3, 'Homeschooling': 3, 'Internet Censorship': 1, 'Iran-Iraq War': 1, 'Legalized Prostitution': 3, 'Medicaid &amp; Medicare': 1, 'Medical Marijuana': 3, 'Military Intervention': 1, 'Minimum Wage': 1, 'National Health Care': 1, 'National Retail Sales Tax': 1, 'Occupy Movement': 1, 'Progressive Tax': 1, 'Racial Profiling': 3, 'Redistribution': 1, 'Smoking Ban': 1, 'Social Programs': 1, 'Social Security': 1, 'Socialism': 1, 'Stimulus Spending': 1, 'Term Limits': 3, 'Torture': 1, 'United Nations': 1, 'War in Afghanistan': 1, 'War on Terror': 1, 'Welfare': 1}</td>\n",
       "      <td>&lt;|endoftext|&gt;atheists are people who believe that the universe is a machine. They think it's all made up and they don't know why, but I'm here to tell you why this isn't true! The Universe has always existed, so there was no time before it.</td>\n",
       "    </tr>\n",
       "    <tr>\n",
       "      <td>17</td>\n",
       "      <td>prostitution should be legalized</td>\n",
       "      <td>{'Affirmative Action': 1, 'Barack Obama': 1, 'Border Fence': 1, 'Capitalism': 3, 'Death Penalty': 3, 'Drug Legalization': 3, 'Electoral College': 3, 'Environmental Protection': 3, 'Estate Tax': 1, 'European Union': 1, 'Euthanasia': 3, 'Federal Reserve': 1, 'Flat Tax': 3, 'Free Trade': 3, 'Global Warming Exists': 3, 'Globalization': 1, 'Gold Standard': 3, 'Gun Rights': 3, 'Homeschooling': 3, 'Internet Censorship': 1, 'Iran-Iraq War': 1, 'Legalized Prostitution': 3, 'Medicaid &amp; Medicare': 1, 'Medical Marijuana': 3, 'Military Intervention': 1, 'Minimum Wage': 1, 'National Health Care': 1, 'National Retail Sales Tax': 1, 'Occupy Movement': 1, 'Progressive Tax': 1, 'Racial Profiling': 3, 'Redistribution': 1, 'Smoking Ban': 1, 'Social Programs': 1, 'Social Security': 1, 'Socialism': 1, 'Stimulus Spending': 1, 'Term Limits': 3, 'Torture': 1, 'United Nations': 1, 'War in Afghanistan': 1, 'War on Terror': 1, 'Welfare': 1}</td>\n",
       "      <td>&lt;|endoftext|&gt;prostitution is a form of slavery. It's illegal in the U States, but it still happens all over the world and I think that we should legalize prostitution because if you do not legalize this then people will be forced to work for money.</td>\n",
       "    </tr>\n",
       "    <tr>\n",
       "      <td>18</td>\n",
       "      <td>are atheists more moral than christians?</td>\n",
       "      <td>{'Affirmative Action': 1, 'Barack Obama': 1, 'Border Fence': 1, 'Capitalism': 3, 'Death Penalty': 3, 'Drug Legalization': 3, 'Electoral College': 3, 'Environmental Protection': 3, 'Estate Tax': 1, 'European Union': 1, 'Euthanasia': 3, 'Federal Reserve': 1, 'Flat Tax': 3, 'Free Trade': 3, 'Global Warming Exists': 3, 'Globalization': 1, 'Gold Standard': 3, 'Gun Rights': 3, 'Homeschooling': 3, 'Internet Censorship': 1, 'Iran-Iraq War': 1, 'Legalized Prostitution': 3, 'Medicaid &amp; Medicare': 1, 'Medical Marijuana': 3, 'Military Intervention': 1, 'Minimum Wage': 1, 'National Health Care': 1, 'National Retail Sales Tax': 1, 'Occupy Movement': 1, 'Progressive Tax': 1, 'Racial Profiling': 3, 'Redistribution': 1, 'Smoking Ban': 1, 'Social Programs': 1, 'Social Security': 1, 'Socialism': 1, 'Stimulus Spending': 1, 'Term Limits': 3, 'Torture': 1, 'United Nations': 1, 'War in Afghanistan': 1, 'War on Terror': 1, 'Welfare': 1}</td>\n",
       "      <td>&lt;|endoftext|&gt;christians are not the only people who believe in a literal interpretation of Genesis.</td>\n",
       "    </tr>\n",
       "    <tr>\n",
       "      <td>19</td>\n",
       "      <td>gay marriage should be legalized</td>\n",
       "      <td>{'Abortion': 1, 'Animal Rights': 3, 'Barack Obama': 1, 'Death Penalty': 1, 'Drug Legalization': 1, 'Environmental Protection': 3, 'Estate Tax': 1, 'Euthanasia': 1, 'Gay Marriage': 1, 'Global Warming Exists': 3, 'Gun Rights': 1, 'Homeschooling': 3, 'Internet Censorship': 3, 'Iran-Iraq War': 1, 'Medical Marijuana': 1, 'Military Intervention': 3, 'Minimum Wage': 1, 'Smoking Ban': 3, 'Social Programs': 1, 'Socialism': 1, 'Torture': 1, 'United Nations': 3, 'War in Afghanistan': 1, 'War on Terror': 3}</td>\n",
       "      <td>&lt;|endoftext|&gt;gay marriage bans are not a violation of religious freedom. The Supreme Court has ruled that banning gay marriages violates the First Amendment rights to free expression and religion, which is protected by the 14th amendment.</td>\n",
       "    </tr>\n",
       "    <tr>\n",
       "      <td>20</td>\n",
       "      <td>is contemporary art real art?</td>\n",
       "      <td>{'Abortion': 3, 'Gay Marriage': 3}</td>\n",
       "      <td>&lt;|endoftext|&gt;contemporary art real art is not a thing that can be taught in school.</td>\n",
       "    </tr>\n",
       "    <tr>\n",
       "      <td>21</td>\n",
       "      <td>dose chicken make you fat?</td>\n",
       "      <td>{'Affirmative Action': 3, 'Animal Rights': 3, 'Barack Obama': 3, 'Border Fence': 1, 'Death Penalty': 1, 'Drug Legalization': 1, 'Electoral College': 3, 'Estate Tax': 1, 'Flat Tax': 1, 'Free Trade': 3, 'Gay Marriage': 3, 'Gun Rights': 1, 'Minimum Wage': 1, 'National Health Care': 3, 'National Retail Sales Tax': 1, 'Progressive Tax': 1, 'Smoking Ban': 3, 'Social Programs': 3, 'Social Security': 3, 'Socialism': 3, 'Torture': 1, 'United Nations': 3}</td>\n",
       "      <td>&lt;|endoftext|&gt;dose chicken is a good source of protein. It has been proven to be healthy and healthy for you.</td>\n",
       "    </tr>\n",
       "    <tr>\n",
       "      <td>22</td>\n",
       "      <td>is comedy an actual art form?</td>\n",
       "      <td>{'Affirmative Action': 3, 'Animal Rights': 3, 'Barack Obama': 3, 'Border Fence': 1, 'Death Penalty': 1, 'Drug Legalization': 1, 'Electoral College': 3, 'Estate Tax': 1, 'Flat Tax': 1, 'Free Trade': 3, 'Gay Marriage': 3, 'Gun Rights': 1, 'Minimum Wage': 1, 'National Health Care': 3, 'National Retail Sales Tax': 1, 'Progressive Tax': 1, 'Smoking Ban': 3, 'Social Programs': 3, 'Social Security': 3, 'Socialism': 3, 'Torture': 1, 'United Nations': 3}</td>\n",
       "      <td>&lt;|endoftext|&gt;an actual art form is not a sport. It's actually an artistic form.</td>\n",
       "    </tr>\n",
       "    <tr>\n",
       "      <td>23</td>\n",
       "      <td>should cloning be allowed</td>\n",
       "      <td>{'Affirmative Action': 3, 'Animal Rights': 3, 'Barack Obama': 3, 'Border Fence': 1, 'Death Penalty': 1, 'Drug Legalization': 1, 'Electoral College': 3, 'Estate Tax': 1, 'Flat Tax': 1, 'Free Trade': 3, 'Gay Marriage': 3, 'Gun Rights': 1, 'Minimum Wage': 1, 'National Health Care': 3, 'National Retail Sales Tax': 1, 'Progressive Tax': 1, 'Smoking Ban': 3, 'Social Programs': 3, 'Social Security': 3, 'Socialism': 3, 'Torture': 1, 'United Nations': 3}</td>\n",
       "      <td>&lt;|endoftext|&gt;should cloning be allowed? I think it should not because of the health risks.</td>\n",
       "    </tr>\n",
       "    <tr>\n",
       "      <td>24</td>\n",
       "      <td>should the u.s. deport justin bieber?</td>\n",
       "      <td>{'Death Penalty': 3, 'Drug Legalization': 3, 'Euthanasia': 3, 'Flat Tax': 3, 'Gay Marriage': 3, 'Global Warming Exists': 3, 'Gold Standard': 1}</td>\n",
       "      <td>&lt;|endoftext|&gt;the u.s. deport justin bieber is a criminal and should be deported illegal immigrants are not criminals they have the right to live in this country illegally so why do we need them? Illegal aliens come here legally but if you want us all illegals go back home illegal immigrant illegal immigration illegal immigration illegal Immigration illegalillegalIllegal Immigrants illegalImmigrant Illegally Immoral Illegal immalien immoral Illegal ILLEGAL IMMIGRANTS illegal Illogical illogical immor</td>\n",
       "    </tr>\n",
       "  </tbody>\n",
       "</table>\n",
       "</div>"
      ],
      "text/plain": [
       "                                                 topic  \\\n",
       "0   should animals be treated equally to humans?         \n",
       "1   cheese itz are better than ritz                      \n",
       "2   can genetically modified foods solve world hunger?   \n",
       "3   has multiculturalism failed in europe?               \n",
       "4   should students bring their own toilet paper?        \n",
       "5   should testing tobacco on animals be banned?         \n",
       "6   should phys-ed be mandatory?                         \n",
       "7   will global warming really harm us?                  \n",
       "8   gay marriage should be legalized                     \n",
       "9   are windows computers better than mac computers?     \n",
       "10  should girls play boys' sports?                      \n",
       "11  should schools start later in the morning?           \n",
       "12  does homework help students learn?                   \n",
       "13  should music with bad language be banned             \n",
       "14  gay marriage should be legalized                     \n",
       "15  are windows computers better than mac computers?     \n",
       "16  are atheists being persecuted in america?            \n",
       "17  prostitution should be legalized                     \n",
       "18  are atheists more moral than christians?             \n",
       "19  gay marriage should be legalized                     \n",
       "20  is contemporary art real art?                        \n",
       "21  dose chicken make you fat?                           \n",
       "22  is comedy an actual art form?                        \n",
       "23  should cloning be allowed                            \n",
       "24  should the u.s. deport justin bieber?                \n",
       "\n",
       "                                                                                                                                                                                                                                                                                                                                                                                                                                                                                                                                                                                                                                                                                                                                                                                                                                                                                                                                                                                                                                                       vis_bi  \\\n",
       "0   {'Abortion': 1, 'Affirmative Action': 1, 'Animal Rights': 1, 'Environmental Protection': 3, 'Gay Marriage': 1, 'Global Warming Exists': 3, 'Gun Rights': 3, 'Homeschooling': 3, 'Internet Censorship': 1, 'Iran-Iraq War': 1, 'Legalized Prostitution': 3, 'Medicaid & Medicare': 3, 'Minimum Wage': 3, 'Occupy Movement': 1, 'Smoking Ban': 3, 'Social Programs': 3, 'Social Security': 3}                                                                                                                                                                                                                                                                                                                                                                                                                                                                                                                                                                                                                                                                 \n",
       "1   {'Abortion': 3, 'Affirmative Action': 3, 'Animal Rights': 1, 'Barack Obama': 3, 'Border Fence': 3, 'Capitalism': 3, 'Civil Unions': 1, 'Death Penalty': 3, 'Drug Legalization': 1, 'Electoral College': 3, 'Environmental Protection': 1, 'Estate Tax': 1, 'European Union': 1, 'Euthanasia': 3, 'Federal Reserve': 1, 'Flat Tax': 3, 'Free Trade': 1, 'Gay Marriage': 1, 'Global Warming Exists': 1, 'Globalization': 1, 'Gold Standard': 3, 'Gun Rights': 3, 'Homeschooling': 1, 'Internet Censorship': 3, 'Iran-Iraq War': 3, 'Labor Union': 1, 'Legalized Prostitution': 3, 'Medicaid & Medicare': 1, 'Medical Marijuana': 3, 'Military Intervention': 3, 'Minimum Wage': 1, 'National Health Care': 1, 'National Retail Sales Tax': 1, 'Occupy Movement': 1, 'Progressive Tax': 1, 'Racial Profiling': 3, 'Redistribution': 3, 'Smoking Ban': 1, 'Social Programs': 1, 'Social Security': 1, 'Socialism': 1, 'Stimulus Spending': 1, 'Term Limits': 1, 'Torture': 3, 'United Nations': 1, 'War in Afghanistan': 3, 'War on Terror': 1, 'Welfare': 1}   \n",
       "2   {'Abortion': 1, 'Animal Rights': 3, 'Border Fence': 1, 'Civil Unions': 3, 'Death Penalty': 1, 'Drug Legalization': 1, 'Euthanasia': 1, 'Gay Marriage': 1, 'Minimum Wage': 3, 'Redistribution': 1, 'Smoking Ban': 3}                                                                                                                                                                                                                                                                                                                                                                                                                                                                                                                                                                                                                                                                                                                                                                                                                                         \n",
       "3   {'Abortion': 1, 'Animal Rights': 3, 'Border Fence': 1, 'Civil Unions': 3, 'Death Penalty': 1, 'Drug Legalization': 1, 'Euthanasia': 1, 'Gay Marriage': 1, 'Minimum Wage': 3, 'Redistribution': 1, 'Smoking Ban': 3}                                                                                                                                                                                                                                                                                                                                                                                                                                                                                                                                                                                                                                                                                                                                                                                                                                         \n",
       "4   {'Abortion': 3, 'Animal Rights': 3, 'Death Penalty': 3}                                                                                                                                                                                                                                                                                                                                                                                                                                                                                                                                                                                                                                                                                                                                                                                                                                                                                                                                                                                                     \n",
       "5   {'Abortion': 3, 'Animal Rights': 3, 'Death Penalty': 3}                                                                                                                                                                                                                                                                                                                                                                                                                                                                                                                                                                                                                                                                                                                                                                                                                                                                                                                                                                                                     \n",
       "6   {'Abortion': 3, 'Affirmative Action': 1, 'Animal Rights': 3, 'Barack Obama': 1, 'Capitalism': 1, 'Civil Unions': 3, 'Death Penalty': 3, 'Drug Legalization': 1, 'Environmental Protection': 3, 'Euthanasia': 3, 'Federal Reserve': 3, 'Gay Marriage': 3, 'Global Warming Exists': 1, 'Gun Rights': 3, 'Internet Censorship': 3, 'Iran-Iraq War': 3, 'Legalized Prostitution': 3, 'Medicaid & Medicare': 3, 'Medical Marijuana': 3, 'Military Intervention': 1, 'Minimum Wage': 3, 'National Health Care': 3, 'National Retail Sales Tax': 1, 'Racial Profiling': 1, 'Smoking Ban': 1, 'Social Security': 3, 'Torture': 1, 'United Nations': 3, 'War in Afghanistan': 3, 'War on Terror': 3, 'Welfare': 3}                                                                                                                                                                                                                                                                                                                                                   \n",
       "7   {'Abortion': 1, 'Affirmative Action': 1, 'Animal Rights': 1, 'Barack Obama': 1, 'Border Fence': 3, 'Capitalism': 3, 'Drug Legalization': 3, 'Electoral College': 3, 'Environmental Protection': 3, 'Estate Tax': 1, 'European Union': 1, 'Euthanasia': 1, 'Federal Reserve': 3, 'Flat Tax': 3, 'Free Trade': 3, 'Gay Marriage': 1, 'Global Warming Exists': 3, 'Globalization': 1, 'Gold Standard': 1, 'Gun Rights': 3, 'Homeschooling': 3, 'Internet Censorship': 1, 'Labor Union': 3, 'Legalized Prostitution': 1, 'Medicaid & Medicare': 1, 'Medical Marijuana': 3, 'Military Intervention': 3, 'Minimum Wage': 1, 'National Health Care': 1, 'National Retail Sales Tax': 1, 'Occupy Movement': 1, 'Progressive Tax': 1, 'Redistribution': 1, 'Smoking Ban': 1, 'Social Programs': 3, 'Social Security': 1, 'Socialism': 1, 'Stimulus Spending': 1, 'Term Limits': 3, 'United Nations': 1, 'War on Terror': 1, 'Welfare': 1}                                                                                                                            \n",
       "8   {'Abortion': 1, 'Affirmative Action': 1, 'Animal Rights': 1, 'Barack Obama': 1, 'Border Fence': 3, 'Capitalism': 3, 'Drug Legalization': 3, 'Electoral College': 3, 'Environmental Protection': 3, 'Estate Tax': 1, 'European Union': 1, 'Euthanasia': 1, 'Federal Reserve': 3, 'Flat Tax': 3, 'Free Trade': 3, 'Gay Marriage': 1, 'Global Warming Exists': 3, 'Globalization': 1, 'Gold Standard': 1, 'Gun Rights': 3, 'Homeschooling': 3, 'Internet Censorship': 1, 'Labor Union': 3, 'Legalized Prostitution': 1, 'Medicaid & Medicare': 1, 'Medical Marijuana': 3, 'Military Intervention': 3, 'Minimum Wage': 1, 'National Health Care': 1, 'National Retail Sales Tax': 1, 'Occupy Movement': 1, 'Progressive Tax': 1, 'Redistribution': 1, 'Smoking Ban': 1, 'Social Programs': 3, 'Social Security': 1, 'Socialism': 1, 'Stimulus Spending': 1, 'Term Limits': 3, 'United Nations': 1, 'War on Terror': 1, 'Welfare': 1}                                                                                                                            \n",
       "9   {'Abortion': 1, 'Affirmative Action': 1, 'Animal Rights': 1, 'Barack Obama': 1, 'Border Fence': 3, 'Capitalism': 3, 'Drug Legalization': 3, 'Electoral College': 3, 'Environmental Protection': 3, 'Estate Tax': 1, 'European Union': 1, 'Euthanasia': 1, 'Federal Reserve': 3, 'Flat Tax': 3, 'Free Trade': 3, 'Gay Marriage': 1, 'Global Warming Exists': 3, 'Globalization': 1, 'Gold Standard': 1, 'Gun Rights': 3, 'Homeschooling': 3, 'Internet Censorship': 1, 'Labor Union': 3, 'Legalized Prostitution': 1, 'Medicaid & Medicare': 1, 'Medical Marijuana': 3, 'Military Intervention': 3, 'Minimum Wage': 1, 'National Health Care': 1, 'National Retail Sales Tax': 1, 'Occupy Movement': 1, 'Progressive Tax': 1, 'Redistribution': 1, 'Smoking Ban': 1, 'Social Programs': 3, 'Social Security': 1, 'Socialism': 1, 'Stimulus Spending': 1, 'Term Limits': 3, 'United Nations': 1, 'War on Terror': 1, 'Welfare': 1}                                                                                                                            \n",
       "10  {'Abortion': 1, 'Animal Rights': 3, 'Barack Obama': 1, 'Border Fence': 3, 'Drug Legalization': 1, 'Electoral College': 1, 'Environmental Protection': 3, 'Estate Tax': 1, 'European Union': 1, 'Euthanasia': 1, 'Federal Reserve': 1, 'Flat Tax': 1, 'Free Trade': 3, 'Gay Marriage': 1, 'Global Warming Exists': 1, 'Globalization': 1, 'Gold Standard': 1, 'Gun Rights': 3, 'Homeschooling': 1, 'Internet Censorship': 1, 'Iran-Iraq War': 1, 'Labor Union': 1, 'Legalized Prostitution': 1, 'Medicaid & Medicare': 1, 'Medical Marijuana': 1, 'Military Intervention': 1, 'Minimum Wage': 1, 'National Health Care': 1, 'National Retail Sales Tax': 1, 'Torture': 1, 'War in Afghanistan': 1}                                                                                                                                                                                                                                                                                                                                                           \n",
       "11  {'Abortion': 1, 'Animal Rights': 3, 'Barack Obama': 1, 'Border Fence': 3, 'Drug Legalization': 1, 'Electoral College': 1, 'Environmental Protection': 3, 'Estate Tax': 1, 'European Union': 1, 'Euthanasia': 1, 'Federal Reserve': 1, 'Flat Tax': 1, 'Free Trade': 3, 'Gay Marriage': 1, 'Global Warming Exists': 1, 'Globalization': 1, 'Gold Standard': 1, 'Gun Rights': 3, 'Homeschooling': 1, 'Internet Censorship': 1, 'Iran-Iraq War': 1, 'Labor Union': 1, 'Legalized Prostitution': 1, 'Medicaid & Medicare': 1, 'Medical Marijuana': 1, 'Military Intervention': 1, 'Minimum Wage': 1, 'National Health Care': 1, 'National Retail Sales Tax': 1, 'Torture': 1, 'War in Afghanistan': 1}                                                                                                                                                                                                                                                                                                                                                           \n",
       "12  {'Affirmative Action': 1, 'Barack Obama': 1, 'Border Fence': 1, 'Capitalism': 3, 'Death Penalty': 3, 'Drug Legalization': 3, 'Electoral College': 3, 'Environmental Protection': 3, 'Estate Tax': 1, 'European Union': 1, 'Euthanasia': 3, 'Federal Reserve': 1, 'Flat Tax': 3, 'Free Trade': 3, 'Global Warming Exists': 3, 'Globalization': 1, 'Gold Standard': 3, 'Gun Rights': 3, 'Homeschooling': 3, 'Internet Censorship': 1, 'Iran-Iraq War': 1, 'Legalized Prostitution': 3, 'Medicaid & Medicare': 1, 'Medical Marijuana': 3, 'Military Intervention': 1, 'Minimum Wage': 1, 'National Health Care': 1, 'National Retail Sales Tax': 1, 'Occupy Movement': 1, 'Progressive Tax': 1, 'Racial Profiling': 3, 'Redistribution': 1, 'Smoking Ban': 1, 'Social Programs': 1, 'Social Security': 1, 'Socialism': 1, 'Stimulus Spending': 1, 'Term Limits': 3, 'Torture': 1, 'United Nations': 1, 'War in Afghanistan': 1, 'War on Terror': 1, 'Welfare': 1}                                                                                              \n",
       "13  {'Affirmative Action': 1, 'Barack Obama': 1, 'Border Fence': 1, 'Capitalism': 3, 'Death Penalty': 3, 'Drug Legalization': 3, 'Electoral College': 3, 'Environmental Protection': 3, 'Estate Tax': 1, 'European Union': 1, 'Euthanasia': 3, 'Federal Reserve': 1, 'Flat Tax': 3, 'Free Trade': 3, 'Global Warming Exists': 3, 'Globalization': 1, 'Gold Standard': 3, 'Gun Rights': 3, 'Homeschooling': 3, 'Internet Censorship': 1, 'Iran-Iraq War': 1, 'Legalized Prostitution': 3, 'Medicaid & Medicare': 1, 'Medical Marijuana': 3, 'Military Intervention': 1, 'Minimum Wage': 1, 'National Health Care': 1, 'National Retail Sales Tax': 1, 'Occupy Movement': 1, 'Progressive Tax': 1, 'Racial Profiling': 3, 'Redistribution': 1, 'Smoking Ban': 1, 'Social Programs': 1, 'Social Security': 1, 'Socialism': 1, 'Stimulus Spending': 1, 'Term Limits': 3, 'Torture': 1, 'United Nations': 1, 'War in Afghanistan': 1, 'War on Terror': 1, 'Welfare': 1}                                                                                              \n",
       "14  {'Affirmative Action': 1, 'Barack Obama': 1, 'Border Fence': 1, 'Capitalism': 3, 'Death Penalty': 3, 'Drug Legalization': 3, 'Electoral College': 3, 'Environmental Protection': 3, 'Estate Tax': 1, 'European Union': 1, 'Euthanasia': 3, 'Federal Reserve': 1, 'Flat Tax': 3, 'Free Trade': 3, 'Global Warming Exists': 3, 'Globalization': 1, 'Gold Standard': 3, 'Gun Rights': 3, 'Homeschooling': 3, 'Internet Censorship': 1, 'Iran-Iraq War': 1, 'Legalized Prostitution': 3, 'Medicaid & Medicare': 1, 'Medical Marijuana': 3, 'Military Intervention': 1, 'Minimum Wage': 1, 'National Health Care': 1, 'National Retail Sales Tax': 1, 'Occupy Movement': 1, 'Progressive Tax': 1, 'Racial Profiling': 3, 'Redistribution': 1, 'Smoking Ban': 1, 'Social Programs': 1, 'Social Security': 1, 'Socialism': 1, 'Stimulus Spending': 1, 'Term Limits': 3, 'Torture': 1, 'United Nations': 1, 'War in Afghanistan': 1, 'War on Terror': 1, 'Welfare': 1}                                                                                              \n",
       "15  {'Affirmative Action': 1, 'Barack Obama': 1, 'Border Fence': 1, 'Capitalism': 3, 'Death Penalty': 3, 'Drug Legalization': 3, 'Electoral College': 3, 'Environmental Protection': 3, 'Estate Tax': 1, 'European Union': 1, 'Euthanasia': 3, 'Federal Reserve': 1, 'Flat Tax': 3, 'Free Trade': 3, 'Global Warming Exists': 3, 'Globalization': 1, 'Gold Standard': 3, 'Gun Rights': 3, 'Homeschooling': 3, 'Internet Censorship': 1, 'Iran-Iraq War': 1, 'Legalized Prostitution': 3, 'Medicaid & Medicare': 1, 'Medical Marijuana': 3, 'Military Intervention': 1, 'Minimum Wage': 1, 'National Health Care': 1, 'National Retail Sales Tax': 1, 'Occupy Movement': 1, 'Progressive Tax': 1, 'Racial Profiling': 3, 'Redistribution': 1, 'Smoking Ban': 1, 'Social Programs': 1, 'Social Security': 1, 'Socialism': 1, 'Stimulus Spending': 1, 'Term Limits': 3, 'Torture': 1, 'United Nations': 1, 'War in Afghanistan': 1, 'War on Terror': 1, 'Welfare': 1}                                                                                              \n",
       "16  {'Affirmative Action': 1, 'Barack Obama': 1, 'Border Fence': 1, 'Capitalism': 3, 'Death Penalty': 3, 'Drug Legalization': 3, 'Electoral College': 3, 'Environmental Protection': 3, 'Estate Tax': 1, 'European Union': 1, 'Euthanasia': 3, 'Federal Reserve': 1, 'Flat Tax': 3, 'Free Trade': 3, 'Global Warming Exists': 3, 'Globalization': 1, 'Gold Standard': 3, 'Gun Rights': 3, 'Homeschooling': 3, 'Internet Censorship': 1, 'Iran-Iraq War': 1, 'Legalized Prostitution': 3, 'Medicaid & Medicare': 1, 'Medical Marijuana': 3, 'Military Intervention': 1, 'Minimum Wage': 1, 'National Health Care': 1, 'National Retail Sales Tax': 1, 'Occupy Movement': 1, 'Progressive Tax': 1, 'Racial Profiling': 3, 'Redistribution': 1, 'Smoking Ban': 1, 'Social Programs': 1, 'Social Security': 1, 'Socialism': 1, 'Stimulus Spending': 1, 'Term Limits': 3, 'Torture': 1, 'United Nations': 1, 'War in Afghanistan': 1, 'War on Terror': 1, 'Welfare': 1}                                                                                              \n",
       "17  {'Affirmative Action': 1, 'Barack Obama': 1, 'Border Fence': 1, 'Capitalism': 3, 'Death Penalty': 3, 'Drug Legalization': 3, 'Electoral College': 3, 'Environmental Protection': 3, 'Estate Tax': 1, 'European Union': 1, 'Euthanasia': 3, 'Federal Reserve': 1, 'Flat Tax': 3, 'Free Trade': 3, 'Global Warming Exists': 3, 'Globalization': 1, 'Gold Standard': 3, 'Gun Rights': 3, 'Homeschooling': 3, 'Internet Censorship': 1, 'Iran-Iraq War': 1, 'Legalized Prostitution': 3, 'Medicaid & Medicare': 1, 'Medical Marijuana': 3, 'Military Intervention': 1, 'Minimum Wage': 1, 'National Health Care': 1, 'National Retail Sales Tax': 1, 'Occupy Movement': 1, 'Progressive Tax': 1, 'Racial Profiling': 3, 'Redistribution': 1, 'Smoking Ban': 1, 'Social Programs': 1, 'Social Security': 1, 'Socialism': 1, 'Stimulus Spending': 1, 'Term Limits': 3, 'Torture': 1, 'United Nations': 1, 'War in Afghanistan': 1, 'War on Terror': 1, 'Welfare': 1}                                                                                              \n",
       "18  {'Affirmative Action': 1, 'Barack Obama': 1, 'Border Fence': 1, 'Capitalism': 3, 'Death Penalty': 3, 'Drug Legalization': 3, 'Electoral College': 3, 'Environmental Protection': 3, 'Estate Tax': 1, 'European Union': 1, 'Euthanasia': 3, 'Federal Reserve': 1, 'Flat Tax': 3, 'Free Trade': 3, 'Global Warming Exists': 3, 'Globalization': 1, 'Gold Standard': 3, 'Gun Rights': 3, 'Homeschooling': 3, 'Internet Censorship': 1, 'Iran-Iraq War': 1, 'Legalized Prostitution': 3, 'Medicaid & Medicare': 1, 'Medical Marijuana': 3, 'Military Intervention': 1, 'Minimum Wage': 1, 'National Health Care': 1, 'National Retail Sales Tax': 1, 'Occupy Movement': 1, 'Progressive Tax': 1, 'Racial Profiling': 3, 'Redistribution': 1, 'Smoking Ban': 1, 'Social Programs': 1, 'Social Security': 1, 'Socialism': 1, 'Stimulus Spending': 1, 'Term Limits': 3, 'Torture': 1, 'United Nations': 1, 'War in Afghanistan': 1, 'War on Terror': 1, 'Welfare': 1}                                                                                              \n",
       "19  {'Abortion': 1, 'Animal Rights': 3, 'Barack Obama': 1, 'Death Penalty': 1, 'Drug Legalization': 1, 'Environmental Protection': 3, 'Estate Tax': 1, 'Euthanasia': 1, 'Gay Marriage': 1, 'Global Warming Exists': 3, 'Gun Rights': 1, 'Homeschooling': 3, 'Internet Censorship': 3, 'Iran-Iraq War': 1, 'Medical Marijuana': 1, 'Military Intervention': 3, 'Minimum Wage': 1, 'Smoking Ban': 3, 'Social Programs': 1, 'Socialism': 1, 'Torture': 1, 'United Nations': 3, 'War in Afghanistan': 1, 'War on Terror': 3}                                                                                                                                                                                                                                                                                                                                                                                                                                                                                                                                        \n",
       "20  {'Abortion': 3, 'Gay Marriage': 3}                                                                                                                                                                                                                                                                                                                                                                                                                                                                                                                                                                                                                                                                                                                                                                                                                                                                                                                                                                                                                          \n",
       "21  {'Affirmative Action': 3, 'Animal Rights': 3, 'Barack Obama': 3, 'Border Fence': 1, 'Death Penalty': 1, 'Drug Legalization': 1, 'Electoral College': 3, 'Estate Tax': 1, 'Flat Tax': 1, 'Free Trade': 3, 'Gay Marriage': 3, 'Gun Rights': 1, 'Minimum Wage': 1, 'National Health Care': 3, 'National Retail Sales Tax': 1, 'Progressive Tax': 1, 'Smoking Ban': 3, 'Social Programs': 3, 'Social Security': 3, 'Socialism': 3, 'Torture': 1, 'United Nations': 3}                                                                                                                                                                                                                                                                                                                                                                                                                                                                                                                                                                                           \n",
       "22  {'Affirmative Action': 3, 'Animal Rights': 3, 'Barack Obama': 3, 'Border Fence': 1, 'Death Penalty': 1, 'Drug Legalization': 1, 'Electoral College': 3, 'Estate Tax': 1, 'Flat Tax': 1, 'Free Trade': 3, 'Gay Marriage': 3, 'Gun Rights': 1, 'Minimum Wage': 1, 'National Health Care': 3, 'National Retail Sales Tax': 1, 'Progressive Tax': 1, 'Smoking Ban': 3, 'Social Programs': 3, 'Social Security': 3, 'Socialism': 3, 'Torture': 1, 'United Nations': 3}                                                                                                                                                                                                                                                                                                                                                                                                                                                                                                                                                                                           \n",
       "23  {'Affirmative Action': 3, 'Animal Rights': 3, 'Barack Obama': 3, 'Border Fence': 1, 'Death Penalty': 1, 'Drug Legalization': 1, 'Electoral College': 3, 'Estate Tax': 1, 'Flat Tax': 1, 'Free Trade': 3, 'Gay Marriage': 3, 'Gun Rights': 1, 'Minimum Wage': 1, 'National Health Care': 3, 'National Retail Sales Tax': 1, 'Progressive Tax': 1, 'Smoking Ban': 3, 'Social Programs': 3, 'Social Security': 3, 'Socialism': 3, 'Torture': 1, 'United Nations': 3}                                                                                                                                                                                                                                                                                                                                                                                                                                                                                                                                                                                           \n",
       "24  {'Death Penalty': 3, 'Drug Legalization': 3, 'Euthanasia': 3, 'Flat Tax': 3, 'Gay Marriage': 3, 'Global Warming Exists': 3, 'Gold Standard': 1}                                                                                                                                                                                                                                                                                                                                                                                                                                                                                                                                                                                                                                                                                                                                                                                                                                                                                                             \n",
       "\n",
       "                                                                                                                                                                                                                                                                                                                                                                                                                                                                                                                                                                                                                                                                                               user_bi_bow_based_pred_claim  \n",
       "0   <|endoftext|>animals.com is a website that promotes the idea of animal welfare and how it should be done in the world.                                                                                                                                                                                                                                                                                                                                                                                                                                                                                                                                                                                                   \n",
       "1   <|endoftext|>ritz plan is too expensive to be implemented. It will cost $1 billion more than the current system and it would take a decade or so for that to happen, according to an analysis by The Washington Post.                                                                                                                                                                                                                                                                                                                                                                                                                                                                                                    \n",
       "2   <|endoftext|>can genetically modified foods help fight cancer. http://www Cancercancer cancer cancer cancer cancer cancer cancer cancer cancer cancer cancer cancer cancer cancer cancer cancer cancer cancer cancer cancer cancer cancer cancer cancer cancer cancer cancer cancer cancer cancer cancer cancer cancer cancer cancer cancer cancer cancer cancer cancer cancer cancer cancer cancer cancer cancer cancer cancer cancer cancer cancer cancer cancer cancer cancer cancer cancer cancer cancer cancer cancer cancer cancer cancer cancer cancer cancer cancer cancer cancer cancer cancer cancer cancer cancer cancer cancer cancer cancer cancer cancer cancer cancer cancer cancer cancer cancer cancer  \n",
       "3   <|endoftext|>multiculturalism is a good thing. It allows people to be able express their own cultural identity and not have it imposed on them by the government or other groups of society, which can lead some individuals into self-harm.                                                                                                                                                                                                                                                                                                                                                                                                                                                                             \n",
       "4   <|endoftext|>their own toilet paper. They are not allowed to use it in public places, and they should be punished for their actions! I am against this because it is a violation of the first amendment right to free speech.                                                                                                                                                                                                                                                                                                                                                                                                                                                                                            \n",
       "5   <|endoftext|>tobacco is a very bad choice for you. It can cause cancer, heart disease and other diseases.                                                                                                                                                                                                                                                                                                                                                                                                                                                                                                                                                                                                                \n",
       "6   <|endoftext|>phys-ed says that the average person is more likely to be a victim of crime than an offender.                                                                                                                                                                                                                                                                                                                                                                                                                                                                                                                                                                                                               \n",
       "7   <|endoftext|>global warming is not a threat to human health. Global temperature data show that the average global surface temperatures have been rising for about 150 years, and this trend continues today [1]. The increase in CO2 levels has also increased the mean sea level by 0.                                                                                                                                                                                                                                                                                                                                                                                                                                  \n",
       "8   <|endoftext|>gay marriage is not a right. It's illegal and immoral to do so, but it should be legal because of the benefits that come with legalizing gay marriages in America.                                                                                                                                                                                                                                                                                                                                                                                                                                                                                                                                          \n",
       "9   <|endoftext|>windows computers are not a good solution to the problem of crime. Crime rates have been on an increase in recent years, and many people believe that this is because more windows were added to houses.                                                                                                                                                                                                                                                                                                                                                                                                                                                                                                    \n",
       "10  <|endoftext|>boys' sports are not the best. They have a lot of bad effects on children's health and they can cause them to be violent, aggressive or even kill themselves.                                                                                                                                                                                                                                                                                                                                                                                                                                                                                                                                               \n",
       "11  <|endoftext|>the morning reported that the number of illegal immigrants in Arizona has increased since Trump's immigration ban was implemented.                                                                                                                                                                                                                                                                                                                                                                                                                                                                                                                                                                          \n",
       "12  <|endoftext|>homework is a form of child abuse. It causes physical harm to the children involved, and it can also cause psychological damage.                                                                                                                                                                                                                                                                                                                                                                                                                                                                                                                                                                            \n",
       "13  <|endoftext|>bad language is a problem for the United States. It has been proven to be harmful and should not exist in our country, especially when it comes into contact with other countries such as Mexico or Canada.                                                                                                                                                                                                                                                                                                                                                                                                                                                                                                 \n",
       "14  <|endoftext|>gay marriage is not a right. It's illegal and it should be banned because of the fact that gay people are just as human as straight men or women, they have rights too! They can't get married if their partner isn't legal.                                                                                                                                                                                                                                                                                                                                                                                                                                                                                \n",
       "15  <|endoftext|>windows computers are not a good solution to the problem of crime. Crime rates have been on an increase in recent years, and many people believe that this is because more windows were added to their homes.                                                                                                                                                                                                                                                                                                                                                                                                                                                                                               \n",
       "16  <|endoftext|>atheists are people who believe that the universe is a machine. They think it's all made up and they don't know why, but I'm here to tell you why this isn't true! The Universe has always existed, so there was no time before it.                                                                                                                                                                                                                                                                                                                                                                                                                                                                         \n",
       "17  <|endoftext|>prostitution is a form of slavery. It's illegal in the U States, but it still happens all over the world and I think that we should legalize prostitution because if you do not legalize this then people will be forced to work for money.                                                                                                                                                                                                                                                                                                                                                                                                                                                                 \n",
       "18  <|endoftext|>christians are not the only people who believe in a literal interpretation of Genesis.                                                                                                                                                                                                                                                                                                                                                                                                                                                                                                                                                                                                                      \n",
       "19  <|endoftext|>gay marriage bans are not a violation of religious freedom. The Supreme Court has ruled that banning gay marriages violates the First Amendment rights to free expression and religion, which is protected by the 14th amendment.                                                                                                                                                                                                                                                                                                                                                                                                                                                                           \n",
       "20  <|endoftext|>contemporary art real art is not a thing that can be taught in school.                                                                                                                                                                                                                                                                                                                                                                                                                                                                                                                                                                                                                                      \n",
       "21  <|endoftext|>dose chicken is a good source of protein. It has been proven to be healthy and healthy for you.                                                                                                                                                                                                                                                                                                                                                                                                                                                                                                                                                                                                             \n",
       "22  <|endoftext|>an actual art form is not a sport. It's actually an artistic form.                                                                                                                                                                                                                                                                                                                                                                                                                                                                                                                                                                                                                                          \n",
       "23  <|endoftext|>should cloning be allowed? I think it should not because of the health risks.                                                                                                                                                                                                                                                                                                                                                                                                                                                                                                                                                                                                                               \n",
       "24  <|endoftext|>the u.s. deport justin bieber is a criminal and should be deported illegal immigrants are not criminals they have the right to live in this country illegally so why do we need them? Illegal aliens come here legally but if you want us all illegals go back home illegal immigrant illegal immigration illegal immigration illegal Immigration illegalillegalIllegal Immigrants illegalImmigrant Illegally Immoral Illegal immalien immoral Illegal ILLEGAL IMMIGRANTS illegal Illogical illogical immor                                                                                                                                                                                                 "
      ]
     },
     "execution_count": 22,
     "metadata": {},
     "output_type": "execute_result"
    }
   ],
   "source": [
    "pplm_preds[['topic', 'vis_bi', 'user_bi_bow_based_pred_claim']].head(n=25)"
   ]
  },
  {
   "cell_type": "markdown",
   "metadata": {},
   "source": [
    "### pplm eval:"
   ]
  },
  {
   "cell_type": "code",
   "execution_count": 51,
   "metadata": {},
   "outputs": [
    {
     "name": "stdout",
     "output_type": "stream",
     "text": [
      "#               BLEU    BLEU-2    BLEU-3    METEOR    R-1    R-2    R-3    R-l    R-w\n",
      "------------  ------  --------  --------  --------  -----  -----  -----  -----  -----\n",
      "uncoditioned   9.614     1.258     0.258     0.083  0.147  0.024  0.006  0.117  0.117\n",
      "bi_bow        12.861     1.034     0.182     0.111  0.173  0.019  0.004  0.116  0.116\n"
     ]
    }
   ],
   "source": [
    "gt_answers = [str(x) for x in pplm_preds.top_claim.tolist()]\n",
    "topics = pplm_preds.topic.tolist()\n",
    "uncond_preds   = [x[1].replace('<|endoftext|>', '') for x in enumerate(pplm_preds.uncond_pred_claim.tolist())]\n",
    "bi_bow_preds   = [x[1].replace('<|endoftext|>', '') for x in enumerate(pplm_preds.user_bi_bow_based_pred_claim.tolist())]\n",
    "\n",
    "results = eval_table(gt_answers, [uncond_preds, bi_bow_preds], ['uncoditioned', 'bi_bow'])"
   ]
  },
  {
   "cell_type": "code",
   "execution_count": 63,
   "metadata": {},
   "outputs": [
    {
     "name": "stdout",
     "output_type": "stream",
     "text": [
      "#               DISTINCT-1    DISTINCT-2\n",
      "------------  ------------  ------------\n",
      "uncoditioned         0.049         0.16\n",
      "bi_bow               0.057         0.274\n"
     ]
    }
   ],
   "source": [
    "results = eval_distinct([uncond_preds, bi_bow_preds], ['uncoditioned', 'bi_bow'])"
   ]
  },
  {
   "cell_type": "markdown",
   "metadata": {},
   "source": [
    "### seq2seq eval:"
   ]
  },
  {
   "cell_type": "code",
   "execution_count": 224,
   "metadata": {
    "scrolled": true
   },
   "outputs": [
    {
     "data": {
      "text/html": [
       "<div>\n",
       "<style scoped>\n",
       "    .dataframe tbody tr th:only-of-type {\n",
       "        vertical-align: middle;\n",
       "    }\n",
       "\n",
       "    .dataframe tbody tr th {\n",
       "        vertical-align: top;\n",
       "    }\n",
       "\n",
       "    .dataframe thead th {\n",
       "        text-align: right;\n",
       "    }\n",
       "</style>\n",
       "<table border=\"1\" class=\"dataframe\">\n",
       "  <thead>\n",
       "    <tr style=\"text-align: right;\">\n",
       "      <th></th>\n",
       "      <th>topic</th>\n",
       "      <th>top_claim</th>\n",
       "      <th>baseline_preds</th>\n",
       "      <th>big_issues_preds</th>\n",
       "    </tr>\n",
       "  </thead>\n",
       "  <tbody>\n",
       "    <tr>\n",
       "      <th>0</th>\n",
       "      <td>should animals be treated equally to humans?</td>\n",
       "      <td>If you think all animals are nice kind furry animals , you must have missed those articles about sea otters .</td>\n",
       "      <td>&lt;claim&gt; If a person wants to take care of others , then they should have the right to do what they want , and if they do n't like it , they are the ones who are . &lt;/claim&gt;</td>\n",
       "      <td>&lt;claim&gt; I believe that animals should be treated equally , and that we should not be able to do what they are doing . ' &lt;/claim&gt; ) '' Animals do not belong to animals . &lt;/claim&gt;</td>\n",
       "    </tr>\n",
       "    <tr>\n",
       "      <th>1</th>\n",
       "      <td>cheese itz are better than ritz</td>\n",
       "      <td>I shall give you warning now that the right honorable Jacob Rees-Mogg , particularly in aid of and by Sixtus Dominic Boniface Christopher Rees-Mogg shall not tolerate these intolerable hate crimes against Ritz .</td>\n",
       "      <td>&lt;claim&gt; The point of this debate is to discuss whether or not it is better to be considered a `` better '' than an actual type of candy , but that is not true . &lt;/claim&gt;</td>\n",
       "      <td>&lt;claim&gt; The only thing that can be made is that you have to have participated in AT LEAST ONE debate , and I would like to thank my opponent for creating this debate . &lt;/claim&gt;</td>\n",
       "    </tr>\n",
       "    <tr>\n",
       "      <th>2</th>\n",
       "      <td>can genetically modified foods solve world hunger?</td>\n",
       "      <td>It is moral wrong In my opinion it is wrong to use gmos because it may cause the new plants to out compete other plants and posing make them extinct .</td>\n",
       "      <td>&lt;claim&gt; The `` Natural Selection '' is a “ organic ” that has been proven to be genetically modified , and that it is not possible that humans are genetically identical to humans . &lt;/claim&gt;</td>\n",
       "      <td>&lt;claim&gt; If we are genetically genetically advanced , we would be able to do what we want , and we should not allow it to be modified as it is not as harmful . &lt;/claim&gt;</td>\n",
       "    </tr>\n",
       "    <tr>\n",
       "      <th>3</th>\n",
       "      <td>has multiculturalism failed in europe?</td>\n",
       "      <td>Yes it has Multiculturalism has failed in Europe because there are conflicts between different races and religions .</td>\n",
       "      <td>&lt;claim&gt; I will be arguing that the United States of America should not be allowed in order to uphold the status quo , and that it is a violation of freedom of speech . &lt;/claim&gt;</td>\n",
       "      <td>&lt;claim&gt; The idea that the government has a right to do what is right and wrong is that it is not a good thing to happen , but that does n't mean it 's bad . &lt;/claim&gt;</td>\n",
       "    </tr>\n",
       "    <tr>\n",
       "      <th>4</th>\n",
       "      <td>should students bring their own toilet paper?</td>\n",
       "      <td>The school provides enough toilet paper for whoever but if everyone brings their own toilet paper it 's going to use a lot more trees .</td>\n",
       "      <td>&lt;claim&gt; I would like to thank my opponent for creating this debate , and I look forward to an interesting debate . &lt;/claim&gt; is //www.youtube.com ... ... .. ... What is the best . &lt;/claim&gt;</td>\n",
       "      <td>&lt;claim&gt; I think that students should be allowed to own their own own decisions because they do n't want to be able to do what they want , and they should n't have to go to school . &lt;/claim&gt;</td>\n",
       "    </tr>\n",
       "    <tr>\n",
       "      <th>5</th>\n",
       "      <td>should testing tobacco on animals be banned?</td>\n",
       "      <td>I understand that testing on animals is making sure it 's safe but they do n't deserve this .</td>\n",
       "      <td>&lt;claim&gt; If a human has a right to life , then it should be legal to determine whether or not they want to be able to do what they do with their property . &lt;/claim&gt;</td>\n",
       "      <td>&lt;claim&gt; If the animal is going to be safe , then it would be better for the animals to live in a safe environment , but that does n't mean it should be illegal . &lt;/claim&gt;</td>\n",
       "    </tr>\n",
       "    <tr>\n",
       "      <th>6</th>\n",
       "      <td>should phys-ed be mandatory?</td>\n",
       "      <td>Not only this , but sports are only necessary for those who wish to pursue it as a career .</td>\n",
       "      <td>&lt;claim&gt; I will be arguing that the railways should not be renationalised , CON will argue that it should remain in the United States , while my opponent must argue against the resolution . &lt;/claim&gt;</td>\n",
       "      <td>&lt;claim&gt; In this debate , I will be arguing that the railways should be abolished , and my opponent will argue that it should not be made in the United States of America . &lt;/claim&gt;</td>\n",
       "    </tr>\n",
       "    <tr>\n",
       "      <th>7</th>\n",
       "      <td>will global warming really harm us?</td>\n",
       "      <td>GW is expected to mostly effect the north , change in the south is slower and in some cases reversing .</td>\n",
       "      <td>&lt;claim&gt; Global warming is the biggest cause of global warming in the world , and the greenhouse effect of the Earth is caused by the natural world and has a cause for its existence . &lt;/claim&gt;</td>\n",
       "      <td>&lt;claim&gt; The global ecological system is collapsing The biosphere of the Earth has a cause of production , and the effect of global warming has been shown to be caused by the greenhouse effect . &lt;/claim&gt;</td>\n",
       "    </tr>\n",
       "    <tr>\n",
       "      <th>8</th>\n",
       "      <td>gay marriage should be legalized</td>\n",
       "      <td>I am just putting my `` no '' on here so it gets counted ... Now I need a way to blast through the rest of the words ... well , let 's think how .</td>\n",
       "      <td>&lt;claim&gt; Gay marriage should be legal because it is a violation of constitutional rights and the right to bear arms , and therefore should not be allowed in the United States of America . &lt;/claim&gt;</td>\n",
       "      <td>&lt;claim&gt; Gay Marriage should not be legalized because it is a violation of the law and the right to bear arms , and that marriage is not a good thing and should be legal . &lt;/claim&gt;</td>\n",
       "    </tr>\n",
       "    <tr>\n",
       "      <th>9</th>\n",
       "      <td>are windows computers better than mac computers?</td>\n",
       "      <td>If Mac cut prices , they would skyrocket and become compatible enough and beat windows in their last domain , offices .</td>\n",
       "      <td>&lt;claim&gt; Since Mac 's OS is better than Mac OS , I will be arguing that Mac computers are superior to PCs . &lt;/claim&gt; is Acceptance R2 : Opening statements R3 : Rebuttals R4 : Closing statements &lt;/claim&gt;</td>\n",
       "      <td>&lt;claim&gt; The only reason why PC computers are better is because they are more likely to be better than computer computers and computers , but computers can not be used as a computer . &lt;/claim&gt;</td>\n",
       "    </tr>\n",
       "    <tr>\n",
       "      <th>10</th>\n",
       "      <td>should girls play boys' sports?</td>\n",
       "      <td>No they should n't Why should girls be able to play boy sports and boys are n't allowed to play girl sports .</td>\n",
       "      <td>&lt;claim&gt; The reason why this debate is about whether or not girls should be allowed to play a video game , but that is not the case for the sake of the debate . &lt;/claim&gt;</td>\n",
       "      <td>&lt;claim&gt; Yes , there is no reason why girls should not be allowed to play football because they do n't want to be able to do what they want , but they are not the same . &lt;/claim&gt;</td>\n",
       "    </tr>\n",
       "    <tr>\n",
       "      <th>11</th>\n",
       "      <td>should schools start later in the morning?</td>\n",
       "      <td>Other research shows that a later school day leads to a better mood in teens and better grades .</td>\n",
       "      <td>&lt;claim&gt; I believe that school should not be allowed in schools because of the fact that it is in the best interest of a child 's life , and is a good thing . &lt;/claim&gt;</td>\n",
       "      <td>&lt;claim&gt; I believe that school should not be allowed in schools because there is no reason to think that it is not a good thing to happen , but it would be a great thing . &lt;/claim&gt;</td>\n",
       "    </tr>\n",
       "    <tr>\n",
       "      <th>12</th>\n",
       "      <td>does homework help students learn?</td>\n",
       "      <td>I realize this is probably more directed to kids K through 12 , but it still applies .</td>\n",
       "      <td>&lt;claim&gt; Homework is a waste of time , because it helps students learn what to do with their homework , which is why homework is necessary for students to learn how to work . &lt;/claim&gt;</td>\n",
       "      <td>&lt;claim&gt; I think that homework should not be taught in schools because it is not a good thing to do , but it does n't mean that it should be allowed to work . &lt;/claim&gt;</td>\n",
       "    </tr>\n",
       "    <tr>\n",
       "      <th>13</th>\n",
       "      <td>should music with bad language be banned</td>\n",
       "      <td>We do n't need the government to nanny us all , tell us what to say , eat , listen to , etc .</td>\n",
       "      <td>&lt;claim&gt; Art is a great form of music , and it is not a good thing to listen to music and music as a whole , but it does n't make it sound . &lt;/claim&gt;</td>\n",
       "      <td>&lt;claim&gt; I think that music should not be banned because it is not a good thing , but it does n't mean that it should be allowed to listen to music and music . &lt;/claim&gt;</td>\n",
       "    </tr>\n",
       "    <tr>\n",
       "      <th>14</th>\n",
       "      <td>gay marriage should be legalized</td>\n",
       "      <td>Government Controlled Marriage is Fascism The government should not be able to recognize or `` legalize '' any type of marriage .</td>\n",
       "      <td>&lt;claim&gt; Gay marriage should be legal because it is a violation of constitutional rights and the right to bear arms , and therefore should not be allowed in the United States of America . &lt;/claim&gt;</td>\n",
       "      <td>&lt;claim&gt; Gay Marriage should be legalized in the United States , while my opponent will argue that gay marriage should not be legal , and con will be arguing that it is not . &lt;/claim&gt;</td>\n",
       "    </tr>\n",
       "    <tr>\n",
       "      <th>15</th>\n",
       "      <td>are windows computers better than mac computers?</td>\n",
       "      <td>If you compare the best Mac to a low-end Windows of course the Mac is going to be faster .</td>\n",
       "      <td>&lt;claim&gt; Since Mac 's OS is better than Mac OS , I will be arguing that Mac computers are superior to PCs . &lt;/claim&gt; is Acceptance R2 : Opening statements R3 : Rebuttals R4 : Closing statements &lt;/claim&gt;</td>\n",
       "      <td>&lt;claim&gt; The only reason why PC computers are better is because they are more likely to be better than computer computers and computers , but computers can not be used as a computer . &lt;/claim&gt;</td>\n",
       "    </tr>\n",
       "    <tr>\n",
       "      <th>16</th>\n",
       "      <td>are atheists being persecuted in america?</td>\n",
       "      <td>There are still some extremely radical groups who are trying to persecute them , but generally , atheists are accepted .</td>\n",
       "      <td>&lt;claim&gt; If you believe that you are a Christian , you should be able to live in your life , and you have to say that they are not the same as you . &lt;/claim&gt;</td>\n",
       "      <td>&lt;claim&gt; If the definition of Atheism is `` the Lack of the Belief in a God '' , I will be arguing that it is not a good thing to do with it . &lt;/claim&gt;</td>\n",
       "    </tr>\n",
       "    <tr>\n",
       "      <th>17</th>\n",
       "      <td>prostitution should be legalized</td>\n",
       "      <td>The government should not have any right to decide who can have sex with who .</td>\n",
       "      <td>&lt;claim&gt; The reason why prostitution should be legal is because there is no reason to legalize prostitution , but it is a waste of money , and it does n't make it legal . &lt;/claim&gt;</td>\n",
       "      <td>&lt;claim&gt; The reason why prostitution should not be legal is because it is not the government 's choice to decide whether or not they should be allowed to do what they want to . &lt;/claim&gt;</td>\n",
       "    </tr>\n",
       "    <tr>\n",
       "      <th>18</th>\n",
       "      <td>are atheists more moral than christians?</td>\n",
       "      <td>It all depends on the individual people involved No group is inherently more moral or non-moral .</td>\n",
       "      <td>&lt;claim&gt; If you are a Christian , you have to prove that atheists are more likely to be superior to their beliefs than they are in the same way that they do n't . &lt;/claim&gt;</td>\n",
       "      <td>&lt;claim&gt; If you believe that atheists are better than theists , then they should be able to convince them that they do n't have a right to do what they want to believe . &lt;/claim&gt;</td>\n",
       "    </tr>\n",
       "    <tr>\n",
       "      <th>19</th>\n",
       "      <td>gay marriage should be legalized</td>\n",
       "      <td>What I mean is 1+1 does not equal 1 and 0+0 does not equal 1 .</td>\n",
       "      <td>&lt;claim&gt; Gay marriage should be legal because it is a violation of constitutional rights and the right to bear arms , and therefore should not be allowed in the United States of America . &lt;/claim&gt;</td>\n",
       "      <td>&lt;claim&gt; The reason why gay marriage should not be legal is because it does n't mean that it is not a good thing , but it 's not the same as a marriage . &lt;/claim&gt;</td>\n",
       "    </tr>\n",
       "    <tr>\n",
       "      <th>20</th>\n",
       "      <td>is contemporary art real art?</td>\n",
       "      <td>This world changes every day and it is no surprise that art changes with it .</td>\n",
       "      <td>&lt;claim&gt; Yes , art is a great form of art , and it is not a good thing to be in today 's world , but it does n't mean it 's art . &lt;/claim&gt;</td>\n",
       "      <td>&lt;claim&gt; Art is a form of art that can not be considered art , but it is not a art for the art and it 's a waste of time and time for it . &lt;/claim&gt;</td>\n",
       "    </tr>\n",
       "    <tr>\n",
       "      <th>21</th>\n",
       "      <td>dose chicken make you fat?</td>\n",
       "      <td>It helps to build muscle , aids your cell structure to become stronger , they make your body be able to move , it helps you to do exercise for a longer period without getting tired or the need to have a break .</td>\n",
       "      <td>&lt;claim&gt; The intent of this debate is to determine whether or not the chicken meets the egg , or whether it should be done in the first place , as well as possible . &lt;/claim&gt;</td>\n",
       "      <td>&lt;claim&gt; I will be arguing for the statement that milk is not a good thing , and my opponent will argue that it is a waste of time and the chicken is an egg . &lt;/claim&gt;</td>\n",
       "    </tr>\n",
       "    <tr>\n",
       "      <th>22</th>\n",
       "      <td>is comedy an actual art form?</td>\n",
       "      <td>No one should say no to this topic because comedy is also a type of genre you have on tele .</td>\n",
       "      <td>&lt;claim&gt; If the first round is for acceptance , then you can not use any of these videos in the last round , but no new arguments can be made in round 2 . &lt;/claim&gt;</td>\n",
       "      <td>&lt;claim&gt; If a movie is a piece of art , then it is not an art . ' '' it does n't matter if you do n't like it or not , it 's not art . &lt;/claim&gt;</td>\n",
       "    </tr>\n",
       "    <tr>\n",
       "      <th>23</th>\n",
       "      <td>should cloning be allowed</td>\n",
       "      <td>I believe it will benefit our society and bring women into the picture of hopefully being known for their kindness and brains rather than other things ... .</td>\n",
       "      <td>&lt;claim&gt; If you think that cloning should be banned , I would like to point out that this is not a debate on whether or not cloning is a good thing to do . &lt;/claim&gt;</td>\n",
       "      <td>&lt;claim&gt; If you think that cloning should be banned , I will be arguing that it should not be legalized , and my opponent will argue why it is a waste of time . &lt;/claim&gt;</td>\n",
       "    </tr>\n",
       "    <tr>\n",
       "      <th>24</th>\n",
       "      <td>should the u.s. deport justin bieber?</td>\n",
       "      <td>I think people hate him so much because he is so cocky which is n't reason enough to have him deported .</td>\n",
       "      <td>&lt;claim&gt; The United States should have the right to decide what they want to do with their own bodies , and if they do n't want them to go to jail , they should be punished . &lt;/claim&gt;</td>\n",
       "      <td>&lt;claim&gt; The United States Federal Government should have the right to decide whether or not the government should be involved in the status quo , and I will be arguing that it is not . &lt;/claim&gt;</td>\n",
       "    </tr>\n",
       "  </tbody>\n",
       "</table>\n",
       "</div>"
      ],
      "text/plain": [
       "                                                 topic  \\\n",
       "0         should animals be treated equally to humans?   \n",
       "1                      cheese itz are better than ritz   \n",
       "2   can genetically modified foods solve world hunger?   \n",
       "3               has multiculturalism failed in europe?   \n",
       "4        should students bring their own toilet paper?   \n",
       "5         should testing tobacco on animals be banned?   \n",
       "6                         should phys-ed be mandatory?   \n",
       "7                  will global warming really harm us?   \n",
       "8                     gay marriage should be legalized   \n",
       "9     are windows computers better than mac computers?   \n",
       "10                     should girls play boys' sports?   \n",
       "11          should schools start later in the morning?   \n",
       "12                  does homework help students learn?   \n",
       "13            should music with bad language be banned   \n",
       "14                    gay marriage should be legalized   \n",
       "15    are windows computers better than mac computers?   \n",
       "16           are atheists being persecuted in america?   \n",
       "17                    prostitution should be legalized   \n",
       "18            are atheists more moral than christians?   \n",
       "19                    gay marriage should be legalized   \n",
       "20                       is contemporary art real art?   \n",
       "21                          dose chicken make you fat?   \n",
       "22                       is comedy an actual art form?   \n",
       "23                           should cloning be allowed   \n",
       "24               should the u.s. deport justin bieber?   \n",
       "\n",
       "                                                                                                                                                                                                              top_claim  \\\n",
       "0                                                                                                         If you think all animals are nice kind furry animals , you must have missed those articles about sea otters .   \n",
       "1   I shall give you warning now that the right honorable Jacob Rees-Mogg , particularly in aid of and by Sixtus Dominic Boniface Christopher Rees-Mogg shall not tolerate these intolerable hate crimes against Ritz .   \n",
       "2                                                                It is moral wrong In my opinion it is wrong to use gmos because it may cause the new plants to out compete other plants and posing make them extinct .   \n",
       "3                                                                                                  Yes it has Multiculturalism has failed in Europe because there are conflicts between different races and religions .   \n",
       "4                                                                               The school provides enough toilet paper for whoever but if everyone brings their own toilet paper it 's going to use a lot more trees .   \n",
       "5                                                                                                                         I understand that testing on animals is making sure it 's safe but they do n't deserve this .   \n",
       "6                                                                                                                           Not only this , but sports are only necessary for those who wish to pursue it as a career .   \n",
       "7                                                                                                               GW is expected to mostly effect the north , change in the south is slower and in some cases reversing .   \n",
       "8                                                                    I am just putting my `` no '' on here so it gets counted ... Now I need a way to blast through the rest of the words ... well , let 's think how .   \n",
       "9                                                                                               If Mac cut prices , they would skyrocket and become compatible enough and beat windows in their last domain , offices .   \n",
       "10                                                                                                        No they should n't Why should girls be able to play boy sports and boys are n't allowed to play girl sports .   \n",
       "11                                                                                                                     Other research shows that a later school day leads to a better mood in teens and better grades .   \n",
       "12                                                                                                                               I realize this is probably more directed to kids K through 12 , but it still applies .   \n",
       "13                                                                                                                        We do n't need the government to nanny us all , tell us what to say , eat , listen to , etc .   \n",
       "14                                                                                    Government Controlled Marriage is Fascism The government should not be able to recognize or `` legalize '' any type of marriage .   \n",
       "15                                                                                                                           If you compare the best Mac to a low-end Windows of course the Mac is going to be faster .   \n",
       "16                                                                                             There are still some extremely radical groups who are trying to persecute them , but generally , atheists are accepted .   \n",
       "17                                                                                                                                       The government should not have any right to decide who can have sex with who .   \n",
       "18                                                                                                                    It all depends on the individual people involved No group is inherently more moral or non-moral .   \n",
       "19                                                                                                                                                       What I mean is 1+1 does not equal 1 and 0+0 does not equal 1 .   \n",
       "20                                                                                                                                        This world changes every day and it is no surprise that art changes with it .   \n",
       "21   It helps to build muscle , aids your cell structure to become stronger , they make your body be able to move , it helps you to do exercise for a longer period without getting tired or the need to have a break .   \n",
       "22                                                                                                                         No one should say no to this topic because comedy is also a type of genre you have on tele .   \n",
       "23                                                         I believe it will benefit our society and bring women into the picture of hopefully being known for their kindness and brains rather than other things ... .   \n",
       "24                                                                                                             I think people hate him so much because he is so cocky which is n't reason enough to have him deported .   \n",
       "\n",
       "                                                                                                                                                                                               baseline_preds  \\\n",
       "0                                 <claim> If a person wants to take care of others , then they should have the right to do what they want , and if they do n't like it , they are the ones who are . </claim>   \n",
       "1                                   <claim> The point of this debate is to discuss whether or not it is better to be considered a `` better '' than an actual type of candy , but that is not true . </claim>   \n",
       "2               <claim> The `` Natural Selection '' is a “ organic ” that has been proven to be genetically modified , and that it is not possible that humans are genetically identical to humans . </claim>   \n",
       "3                            <claim> I will be arguing that the United States of America should not be allowed in order to uphold the status quo , and that it is a violation of freedom of speech . </claim>   \n",
       "4                 <claim> I would like to thank my opponent for creating this debate , and I look forward to an interesting debate . </claim> is //www.youtube.com ... ... .. ... What is the best . </claim>   \n",
       "5                                         <claim> If a human has a right to life , then it should be legal to determine whether or not they want to be able to do what they do with their property . </claim>   \n",
       "6       <claim> I will be arguing that the railways should not be renationalised , CON will argue that it should remain in the United States , while my opponent must argue against the resolution . </claim>   \n",
       "7             <claim> Global warming is the biggest cause of global warming in the world , and the greenhouse effect of the Earth is caused by the natural world and has a cause for its existence . </claim>   \n",
       "8         <claim> Gay marriage should be legal because it is a violation of constitutional rights and the right to bear arms , and therefore should not be allowed in the United States of America . </claim>   \n",
       "9   <claim> Since Mac 's OS is better than Mac OS , I will be arguing that Mac computers are superior to PCs . </claim> is Acceptance R2 : Opening statements R3 : Rebuttals R4 : Closing statements </claim>   \n",
       "10                                   <claim> The reason why this debate is about whether or not girls should be allowed to play a video game , but that is not the case for the sake of the debate . </claim>   \n",
       "11                                     <claim> I believe that school should not be allowed in schools because of the fact that it is in the best interest of a child 's life , and is a good thing . </claim>   \n",
       "12                     <claim> Homework is a waste of time , because it helps students learn what to do with their homework , which is why homework is necessary for students to learn how to work . </claim>   \n",
       "13                                                       <claim> Art is a great form of music , and it is not a good thing to listen to music and music as a whole , but it does n't make it sound . </claim>   \n",
       "14        <claim> Gay marriage should be legal because it is a violation of constitutional rights and the right to bear arms , and therefore should not be allowed in the United States of America . </claim>   \n",
       "15  <claim> Since Mac 's OS is better than Mac OS , I will be arguing that Mac computers are superior to PCs . </claim> is Acceptance R2 : Opening statements R3 : Rebuttals R4 : Closing statements </claim>   \n",
       "16                                               <claim> If you believe that you are a Christian , you should be able to live in your life , and you have to say that they are not the same as you . </claim>   \n",
       "17                         <claim> The reason why prostitution should be legal is because there is no reason to legalize prostitution , but it is a waste of money , and it does n't make it legal . </claim>   \n",
       "18                                 <claim> If you are a Christian , you have to prove that atheists are more likely to be superior to their beliefs than they are in the same way that they do n't . </claim>   \n",
       "19        <claim> Gay marriage should be legal because it is a violation of constitutional rights and the right to bear arms , and therefore should not be allowed in the United States of America . </claim>   \n",
       "20                                                                  <claim> Yes , art is a great form of art , and it is not a good thing to be in today 's world , but it does n't mean it 's art . </claim>   \n",
       "21                              <claim> The intent of this debate is to determine whether or not the chicken meets the egg , or whether it should be done in the first place , as well as possible . </claim>   \n",
       "22                                         <claim> If the first round is for acceptance , then you can not use any of these videos in the last round , but no new arguments can be made in round 2 . </claim>   \n",
       "23                                        <claim> If you think that cloning should be banned , I would like to point out that this is not a debate on whether or not cloning is a good thing to do . </claim>   \n",
       "24                     <claim> The United States should have the right to decide what they want to do with their own bodies , and if they do n't want them to go to jail , they should be punished . </claim>   \n",
       "\n",
       "                                                                                                                                                                                              big_issues_preds  \n",
       "0                            <claim> I believe that animals should be treated equally , and that we should not be able to do what they are doing . ' </claim> ) '' Animals do not belong to animals . </claim>  \n",
       "1                             <claim> The only thing that can be made is that you have to have participated in AT LEAST ONE debate , and I would like to thank my opponent for creating this debate . </claim>  \n",
       "2                                      <claim> If we are genetically genetically advanced , we would be able to do what we want , and we should not allow it to be modified as it is not as harmful . </claim>  \n",
       "3                                        <claim> The idea that the government has a right to do what is right and wrong is that it is not a good thing to happen , but that does n't mean it 's bad . </claim>  \n",
       "4                <claim> I think that students should be allowed to own their own own decisions because they do n't want to be able to do what they want , and they should n't have to go to school . </claim>  \n",
       "5                                   <claim> If the animal is going to be safe , then it would be better for the animals to live in a safe environment , but that does n't mean it should be illegal . </claim>  \n",
       "6                          <claim> In this debate , I will be arguing that the railways should be abolished , and my opponent will argue that it should not be made in the United States of America . </claim>  \n",
       "7   <claim> The global ecological system is collapsing The biosphere of the Earth has a cause of production , and the effect of global warming has been shown to be caused by the greenhouse effect . </claim>  \n",
       "8                          <claim> Gay Marriage should not be legalized because it is a violation of the law and the right to bear arms , and that marriage is not a good thing and should be legal . </claim>  \n",
       "9              <claim> The only reason why PC computers are better is because they are more likely to be better than computer computers and computers , but computers can not be used as a computer . </claim>  \n",
       "10                           <claim> Yes , there is no reason why girls should not be allowed to play football because they do n't want to be able to do what they want , but they are not the same . </claim>  \n",
       "11                         <claim> I believe that school should not be allowed in schools because there is no reason to think that it is not a good thing to happen , but it would be a great thing . </claim>  \n",
       "12                                      <claim> I think that homework should not be taught in schools because it is not a good thing to do , but it does n't mean that it should be allowed to work . </claim>  \n",
       "13                                     <claim> I think that music should not be banned because it is not a good thing , but it does n't mean that it should be allowed to listen to music and music . </claim>  \n",
       "14                      <claim> Gay Marriage should be legalized in the United States , while my opponent will argue that gay marriage should not be legal , and con will be arguing that it is not . </claim>  \n",
       "15             <claim> The only reason why PC computers are better is because they are more likely to be better than computer computers and computers , but computers can not be used as a computer . </claim>  \n",
       "16                                                      <claim> If the definition of Atheism is `` the Lack of the Belief in a God '' , I will be arguing that it is not a good thing to do with it . </claim>  \n",
       "17                    <claim> The reason why prostitution should not be legal is because it is not the government 's choice to decide whether or not they should be allowed to do what they want to . </claim>  \n",
       "18                           <claim> If you believe that atheists are better than theists , then they should be able to convince them that they do n't have a right to do what they want to believe . </claim>  \n",
       "19                                           <claim> The reason why gay marriage should not be legal is because it does n't mean that it is not a good thing , but it 's not the same as a marriage . </claim>  \n",
       "20                                                          <claim> Art is a form of art that can not be considered art , but it is not a art for the art and it 's a waste of time and time for it . </claim>  \n",
       "21                                      <claim> I will be arguing for the statement that milk is not a good thing , and my opponent will argue that it is a waste of time and the chicken is an egg . </claim>  \n",
       "22                                                              <claim> If a movie is a piece of art , then it is not an art . ' '' it does n't matter if you do n't like it or not , it 's not art . </claim>  \n",
       "23                                    <claim> If you think that cloning should be banned , I will be arguing that it should not be legalized , and my opponent will argue why it is a waste of time . </claim>  \n",
       "24           <claim> The United States Federal Government should have the right to decide whether or not the government should be involved in the status quo , and I will be arguing that it is not . </claim>  "
      ]
     },
     "execution_count": 224,
     "metadata": {},
     "output_type": "execute_result"
    }
   ],
   "source": [
    "seq2seq_preds_35[['topic', 'top_claim', 'baseline_preds', 'big_issues_preds']].head(n=25)"
   ]
  },
  {
   "cell_type": "code",
   "execution_count": 56,
   "metadata": {},
   "outputs": [
    {
     "name": "stdout",
     "output_type": "stream",
     "text": [
      "seq2seq 35:\n",
      "#             BLEU    BLEU-2    BLEU-3    METEOR    R-1    R-2    R-3    R-l    R-w\n",
      "----------  ------  --------  --------  --------  -----  -----  -----  -----  -----\n",
      "baseline    18.248     2.206     0.437     0.158  0.187  0.029  0.007  0.135  0.135\n",
      "big_issues  18.388     2.256     0.456     0.158  0.189  0.029  0.007  0.137  0.137\n"
     ]
    }
   ],
   "source": [
    "gt_answers = [str(x) for x in seq2seq_preds_35.top_claim.tolist()]\n",
    "baseline_preds   = [x.replace('<claim>', '').replace('</claim>', '') for x in seq2seq_preds_35.baseline_preds.tolist()]\n",
    "bi_preds         = [x.replace('<claim>', '').replace('</claim>', '') for x in seq2seq_preds_35.big_issues_preds.tolist()]\n",
    "\n",
    "print('seq2seq 35:')\n",
    "results = eval_table(gt_answers, [baseline_preds, bi_preds], ['baseline', 'big_issues'])"
   ]
  },
  {
   "cell_type": "code",
   "execution_count": 39,
   "metadata": {},
   "outputs": [
    {
     "name": "stdout",
     "output_type": "stream",
     "text": [
      "#             DISTINCT-1    DISTINCT-2\n",
      "----------  ------------  ------------\n",
      "baseline           0.012         0.052\n",
      "big_issues         0.012         0.054\n"
     ]
    }
   ],
   "source": [
    "results = eval_distinct([baseline_preds, bi_preds], ['baseline', 'big_issues'])"
   ]
  },
  {
   "cell_type": "markdown",
   "metadata": {},
   "source": [
    "### Significance Test:"
   ]
  },
  {
   "cell_type": "code",
   "execution_count": 40,
   "metadata": {},
   "outputs": [],
   "source": [
    "def check_sig(v1s, v2s, alpha=0.05):\n",
    "    from scipy import stats\n",
    "\n",
    "    diff = list(map(lambda x1 , x2: x1 - x2, v1s, v2s))\n",
    "    is_normal = stats.shapiro(diff)[1] > alpha\n",
    "    \n",
    "    ttest = stats.ttest_rel(v1s, v2s) if is_normal else stats.wilcoxon(v1s, v2s)\n",
    "    if ttest.statistic >=0:\n",
    "        if (ttest.pvalue/2) <= alpha:\n",
    "            return True\n",
    "        else:\n",
    "            return False\n",
    "    else:\n",
    "        return False"
   ]
  },
  {
   "cell_type": "code",
   "execution_count": 41,
   "metadata": {},
   "outputs": [],
   "source": [
    "list_of_indxs = np.array_split(pplm_preds.index, 10)\n",
    "list_of_pplm_dfs = [pplm_preds.loc[idx] for idx in list_of_indxs]\n",
    "list_of_seq2seq_dfs = [seq2seq_preds_35.loc[idx] for idx in list_of_indxs]"
   ]
  },
  {
   "cell_type": "markdown",
   "metadata": {},
   "source": [
    "#### BLEU & METEOR:"
   ]
  },
  {
   "cell_type": "code",
   "execution_count": 42,
   "metadata": {
    "scrolled": true
   },
   "outputs": [],
   "source": [
    "list_of_pplm_table_scores = []\n",
    "for df in list_of_pplm_dfs:\n",
    "    gt_answers = [str(x) for x in df.top_claim.tolist()]\n",
    "    topics = df.topic.tolist()\n",
    "    uncond_preds   = [x.replace('<|endoftext|>', '') for x in df.uncond_pred_claim.tolist()]\n",
    "    bi_bow_preds   = [x.replace('<|endoftext|>', '') for x in df.user_bi_bow_based_pred_claim.tolist()]\n",
    "    results_table  = eval_table(gt_answers, [uncond_preds, bi_bow_preds], ['uncoditioned','bi_bow'], printit=False)\n",
    "    list_of_pplm_table_scores.append(results_table)"
   ]
  },
  {
   "cell_type": "code",
   "execution_count": 43,
   "metadata": {},
   "outputs": [],
   "source": [
    "list_of_seq2seq_table_scores = []\n",
    "for df in list_of_seq2seq_dfs:\n",
    "    gt_answers = [str(x) for x in df.top_claim.tolist()]\n",
    "    baseline_preds   = df.baseline_preds.tolist()\n",
    "    bi_preds         = df.big_issues_preds.tolist()\n",
    "    results_table    = eval_table(gt_answers, [baseline_preds, bi_preds], ['baseline', 'big_issues'], printit=False)\n",
    "    list_of_seq2seq_table_scores.append(results_table)"
   ]
  },
  {
   "cell_type": "code",
   "execution_count": 46,
   "metadata": {},
   "outputs": [
    {
     "name": "stdout",
     "output_type": "stream",
     "text": [
      "bleu-1: pvalue for bi_bow vs unconditioned is True\n",
      "bleu-2: pvalue for bi_bow vs unconditioned is False\n",
      "bleu-3: pvalue for bi_bow vs unconditioned is False\n",
      "meteor: pvalue for bi_bow vs unconditioned is True\n"
     ]
    }
   ],
   "source": [
    "for i, measure in enumerate(['bleu-1', 'bleu-2', 'bleu-3', 'meteor']):\n",
    "    m_scores1 = [x[0][i+1] for x in list_of_pplm_table_scores]\n",
    "    m_scores2 = [x[1][i+1] for x in list_of_pplm_table_scores]\n",
    "    print('{}: pvalue for bi_bow vs unconditioned is {}'.format(measure, \n",
    "                                                                check_sig(m_scores2, m_scores1, alpha=0.05)))"
   ]
  },
  {
   "cell_type": "code",
   "execution_count": 47,
   "metadata": {},
   "outputs": [
    {
     "name": "stdout",
     "output_type": "stream",
     "text": [
      "bleu-1: pvalue for big_issues vs unconditioned is True\n",
      "bleu-2: pvalue for big_issues vs unconditioned is True\n",
      "meteor: pvalue for big_issues vs unconditioned is False\n"
     ]
    }
   ],
   "source": [
    "for i, measure in enumerate(['bleu-1', 'bleu-2', 'meteor']):\n",
    "    m_scores1 = [x[0][i+1] for x in list_of_seq2seq_table_scores]\n",
    "    m_scores2 = [x[1][i+1] for x in list_of_seq2seq_table_scores]\n",
    "    print('{}: pvalue for big_issues vs unconditioned is {}'.format(measure, \n",
    "                                                                check_sig(m_scores2, m_scores1, alpha=0.05)))"
   ]
  },
  {
   "cell_type": "code",
   "execution_count": 36,
   "metadata": {},
   "outputs": [
    {
     "name": "stdout",
     "output_type": "stream",
     "text": [
      "bleu-1: pvalue for pplm vs seq2seq is True\n",
      "bleu-2: pvalue for pplm vs seq2seq is True\n",
      "meteor: pvalue for pplm vs seq2seq is False\n"
     ]
    }
   ],
   "source": [
    "for i, measure in enumerate(['bleu-1', 'bleu-2', 'meteor']):\n",
    "    m_scores1 = [x[1][i+1] for x in list_of_pplm_table_scores]\n",
    "    m_scores2 = [x[1][i+1] for x in list_of_seq2seq_table_scores]\n",
    "    print('{}: pvalue for pplm vs seq2seq is {}'.format(measure, \n",
    "                                                        check_sig(m_scores1, m_scores2, alpha=0.05)))"
   ]
  },
  {
   "cell_type": "markdown",
   "metadata": {},
   "source": [
    "#### Distinct-1 and 2:"
   ]
  },
  {
   "cell_type": "code",
   "execution_count": 48,
   "metadata": {},
   "outputs": [],
   "source": [
    "list_of_pplm_table_scores = []\n",
    "for df in list_of_pplm_dfs:\n",
    "    gt_answers = [str(x) for x in df.top_claim.tolist()]\n",
    "    topics = df.topic.tolist()\n",
    "    uncond_preds   = [x.replace('<|endoftext|>', '') for x in df.uncond_pred_claim.tolist()]\n",
    "    bi_bow_preds   = [x.replace('<|endoftext|>', '') for x in df.user_bi_bow_based_pred_claim.tolist()]\n",
    "    results_table  = eval_distinct([uncond_preds, bi_bow_preds], ['uncoditioned','bi_bow'], printit=False)\n",
    "    list_of_pplm_table_scores.append(results_table)"
   ]
  },
  {
   "cell_type": "code",
   "execution_count": 50,
   "metadata": {},
   "outputs": [],
   "source": [
    "list_of_seq2seq_table_scores = []\n",
    "for df in list_of_seq2seq_dfs:\n",
    "    gt_answers = [str(x) for x in df.top_claim.tolist()]\n",
    "    baseline_preds   = df.baseline_preds.tolist()\n",
    "    bi_preds         = df.big_issues_preds.tolist()\n",
    "    results_table    = eval_distinct([baseline_preds, bi_preds], ['baseline', 'big_issues'], printit=False)\n",
    "    list_of_seq2seq_table_scores.append(results_table)"
   ]
  },
  {
   "cell_type": "code",
   "execution_count": 53,
   "metadata": {},
   "outputs": [
    {
     "name": "stdout",
     "output_type": "stream",
     "text": [
      "distinct-1: pvalue for pplm cond vs uncond is True\n",
      "distinct-2: pvalue for pplm cond vs uncond is True\n"
     ]
    }
   ],
   "source": [
    "for i, measure in enumerate(['distinct-1', 'distinct-2']):\n",
    "    m_scores1 = [x[0][i+1] for x in list_of_pplm_table_scores]\n",
    "    m_scores2 = [x[1][i+1] for x in list_of_pplm_table_scores]\n",
    "    print('{}: pvalue for pplm cond vs uncond is {}'.format(measure, \n",
    "                                                        check_sig(m_scores2, m_scores1, alpha=0.05)))"
   ]
  },
  {
   "cell_type": "code",
   "execution_count": 54,
   "metadata": {},
   "outputs": [
    {
     "name": "stdout",
     "output_type": "stream",
     "text": [
      "distinct-1: pvalue for seq2seq cond vs uncond is False\n",
      "distinct-2: pvalue for seq2seq cond vs uncond is False\n"
     ]
    }
   ],
   "source": [
    "for i, measure in enumerate(['distinct-1', 'distinct-2']):\n",
    "    m_scores1 = [x[0][i+1] for x in list_of_seq2seq_table_scores]\n",
    "    m_scores2 = [x[1][i+1] for x in list_of_seq2seq_table_scores]\n",
    "    print('{}: pvalue for seq2seq cond vs uncond is {}'.format(measure, \n",
    "                                                        check_sig(m_scores2, m_scores1, alpha=0.05)))"
   ]
  },
  {
   "cell_type": "markdown",
   "metadata": {},
   "source": [
    "### Create sample for manual evaluation:"
   ]
  },
  {
   "cell_type": "code",
   "execution_count": 51,
   "metadata": {},
   "outputs": [],
   "source": [
    "topic_bi_pairs = pickle.load(open('/workspace/ceph_data/belief-based-argumentation-generation/data/test_big_issues_topic_10_each_lvl.pkl', 'rb'))\n",
    "top_10_bi = ['Abortion', 'Death Penalty', 'Gay Marriage', 'Drug Legalization', 'Global Warming Exists', 'Environmental Protection', 'Medical Marijuana', 'Smoking Ban', 'Minimum Wage', 'Border Fence']\n",
    "\n",
    "def merge_two_clms(c1, c2):\n",
    "    l1 = c1.split('\\n')\n",
    "    l2 = c2.split('\\n')\n",
    "    output= []\n",
    "    for x in zip(l1, l2):\n",
    "        output.append(x[0] + ' \\n ' + x[1] + ' \\n ')\n",
    "    return ' \\n '.join(output)\n",
    "\n",
    "def filter_out_big_issues(row, min_rel=1):\n",
    "    output_row = {}\n",
    "    for bi in row['vis_bi'].items():\n",
    "        if (row['topic'], bi[0]) in topic_bi_pairs and topic_bi_pairs[(row['topic'], bi[0])] > min_rel:\n",
    "            output_row[bi[0]] = bi[1]\n",
    "    return output_row\n",
    "\n",
    "def user_has_stance_on_bi(bi, bi_vec):\n",
    "    return bi in bi_vec"
   ]
  },
  {
   "cell_type": "code",
   "execution_count": 52,
   "metadata": {},
   "outputs": [],
   "source": [
    "pplm_preds['seq2seq_big_issues']  = seq2seq_preds_35['big_issues_preds'].tolist()\n",
    "pplm_preds['user_bi_bow_based_pred_claim_manual']  = pplm_preds_manual['user_bi_bow_based_pred_claim'].tolist()\n",
    "pplm_preds['filtered_vis_bi']     = pplm_preds.apply(lambda row: filter_out_big_issues(row, min_rel=2), axis=1)\n",
    "pplm_preds['filtered_vis_bi_no_answer'] = pplm_preds.filtered_vis_bi.apply(lambda x: {y[0]: '?' for y in x.items()})\n",
    "pplm_preds['filtered_vis_bi_len'] = pplm_preds.filtered_vis_bi.apply(lambda x: len(x.items()))"
   ]
  },
  {
   "cell_type": "code",
   "execution_count": 53,
   "metadata": {},
   "outputs": [],
   "source": [
    "all_dfs=[pplm_preds[(pplm_preds.topic==x[0][0]) & (list(pplm_preds.filtered_vis_bi.apply(lambda v: x[0][1] in v)))] for x in list(topic_bi_pairs.items())]"
   ]
  },
  {
   "cell_type": "markdown",
   "metadata": {},
   "source": [
    "How many pairs with no arguments?"
   ]
  },
  {
   "cell_type": "code",
   "execution_count": 54,
   "metadata": {},
   "outputs": [
    {
     "data": {
      "text/plain": [
       "21"
      ]
     },
     "execution_count": 54,
     "metadata": {},
     "output_type": "execute_result"
    }
   ],
   "source": [
    "num_cases_per_pair = [(x[0], len(x[1])) for x in zip(topic_bi_pairs.items(), all_dfs)]\n",
    "len([x for x in num_cases_per_pair if x[1] == 0])"
   ]
  },
  {
   "cell_type": "code",
   "execution_count": 55,
   "metadata": {},
   "outputs": [
    {
     "name": "stderr",
     "output_type": "stream",
     "text": [
      "/opt/conda/lib/python3.6/site-packages/ipykernel_launcher.py:3: SettingWithCopyWarning: \n",
      "A value is trying to be set on a copy of a slice from a DataFrame.\n",
      "Try using .loc[row_indexer,col_indexer] = value instead\n",
      "\n",
      "See the caveats in the documentation: http://pandas.pydata.org/pandas-docs/stable/user_guide/indexing.html#returning-a-view-versus-a-copy\n",
      "  This is separate from the ipykernel package so we can avoid doing imports until\n"
     ]
    }
   ],
   "source": [
    "#filter in from each df only user's stance on the corrsponding big-issue\n",
    "for pair in enumerate(topic_bi_pairs.keys()):\n",
    "    all_dfs[pair[0]]['bi_stance'] = all_dfs[pair[0]]['filtered_vis_bi'].apply(lambda x: {pair[1][1]: x[pair[1][1]]})\n"
   ]
  },
  {
   "cell_type": "code",
   "execution_count": 56,
   "metadata": {
    "scrolled": true
   },
   "outputs": [],
   "source": [
    "sample_df = pd.concat([x.sample(10) if len(x) > 9 else x for x in all_dfs])\n",
    "sample_df['rel_lvl'] = sample_df.apply(lambda row: topic_bi_pairs[(row['topic'], list(row['bi_stance'].keys())[0])] , axis=1)\n",
    "#sample_df[sample_df.rel_lvl==4][['topic', 'bi_stance', 'user_bi_bow', 'rel_lvl', 'uncond_pred_claim', 'user_bi_bow_based_pred_claim', 'top_claim']].head(n=30)\n",
    "\n",
    "#balance the sample\n",
    "sample_df_lvl3 = sample_df[sample_df['rel_lvl'] == 3].sample(30)\n",
    "sample_df_lvl4 = sample_df[sample_df['rel_lvl'] == 4].sample(30)\n",
    "sample_df = pd.concat([sample_df_lvl3 , sample_df_lvl4])"
   ]
  },
  {
   "cell_type": "code",
   "execution_count": 57,
   "metadata": {},
   "outputs": [],
   "source": [
    "lvls = []\n",
    "for idx, row in sample_df.iterrows():\n",
    "    for bi in row['bi_stance'].keys():\n",
    "        lvls.append(topic_bi_pairs[(row['topic'], bi)])"
   ]
  },
  {
   "cell_type": "code",
   "execution_count": 58,
   "metadata": {},
   "outputs": [
    {
     "data": {
      "text/plain": [
       "60"
      ]
     },
     "execution_count": 58,
     "metadata": {},
     "output_type": "execute_result"
    }
   ],
   "source": [
    "len(lvls)"
   ]
  },
  {
   "cell_type": "code",
   "execution_count": 59,
   "metadata": {},
   "outputs": [
    {
     "data": {
      "image/png": "[encoded data removed]",
      "text/plain": [
       "<Figure size 432x288 with 1 Axes>"
      ]
     },
     "metadata": {
      "needs_background": "light"
     },
     "output_type": "display_data"
    }
   ],
   "source": [
    "plt.hist(lvls)\n",
    "plt.show()"
   ]
  },
  {
   "cell_type": "code",
   "execution_count": 60,
   "metadata": {},
   "outputs": [],
   "source": [
    "from nltk import sent_tokenize\n",
    "sample_df['gt_claim'] = sample_df.apply(lambda row: sent_tokenize(row['opinion_txt'])[0] if pd.isnull(row['top_claim']) else row['top_claim'], axis=1)\n",
    "sample_df['user_bi_bow_based_pred_claim'] = sample_df['user_bi_bow_based_pred_claim'].apply(lambda x: x.replace('<|endoftext|>', '').replace('=', ''))\n",
    "sample_df['user_bi_bow_based_pred_claim_manual'] = sample_df['user_bi_bow_based_pred_claim_manual'].apply(lambda x: x.replace('<|endoftext|>', '').replace('=', ''))\n",
    "sample_df['uncond_pred_claim'] = sample_df['uncond_pred_claim'].apply(lambda x: x.replace('<|endoftext|>', '').replace('=', ''))\n"
   ]
  },
  {
   "cell_type": "code",
   "execution_count": 61,
   "metadata": {},
   "outputs": [],
   "source": [
    "#pplm_uncond_df = sample_df[['bi_stance', 'topic', 'rel_lvl', 'user_bi_bow_based_pred_claim', 'uncond_pred_claim', 'corrected_top_claim']]\n",
    "#pplm_uncond_df = pplm_uncond_df.drop_duplicates(subset=['topic', 'uncond_pred_claim'])"
   ]
  },
  {
   "cell_type": "code",
   "execution_count": 62,
   "metadata": {},
   "outputs": [],
   "source": [
    "sample_df['gt_stance']    = sample_df.bi_stance.apply(lambda x: list(x.values())[0])\n",
    "sample_df['gt_big_issue'] = sample_df.bi_stance.apply(lambda x: list(x.keys())[0])\n",
    "sample_df = sample_df[['gt_big_issue', 'gt_stance', 'topic', 'rel_lvl', 'user_bi_bow_based_pred_claim', 'user_bi_bow_based_pred_claim_manual', 'uncond_pred_claim', 'gt_claim', 'seq2seq_big_issues']]\n",
    "sample_df.columns = ['gt_big_issue', 'gt_stance', 'topic', 'rel_lvl', 'approach_auto', 'approach_manual', 'uncond_baseline', 'gt_claim', 'seq2seq-_pproach']\n",
    "\n",
    "sample_df.to_pickle('./sample_for_evaluation.pkl')\n",
    "sample_df.to_csv('./sample_for_evaluation_only_3_and_4_lvls_manual_and_auto.csv')\n",
    "#pplm_uncond_df[['bi_stance', 'topic', 'rel_lvl', 'user_bi_bow_based_pred_claim', 'uncond_pred_claim', 'corrected_top_claim']].to_csv('./pplm_uncond_sample_for_evaluation.csv')"
   ]
  },
  {
   "cell_type": "code",
   "execution_count": 63,
   "metadata": {},
   "outputs": [
    {
     "name": "stderr",
     "output_type": "stream",
     "text": [
      "/opt/conda/lib/python3.6/site-packages/ipykernel_launcher.py:10: SettingWithCopyWarning: \n",
      "A value is trying to be set on a copy of a slice from a DataFrame.\n",
      "Try using .loc[row_indexer,col_indexer] = value instead\n",
      "\n",
      "See the caveats in the documentation: http://pandas.pydata.org/pandas-docs/stable/user_guide/indexing.html#returning-a-view-versus-a-copy\n",
      "  # Remove the CWD from sys.path while we load stuff.\n"
     ]
    }
   ],
   "source": [
    "dfs =[sample_df[['gt_big_issue', 'gt_stance', 'topic', 'rel_lvl', 'approach_auto']],\n",
    "      sample_df[['gt_big_issue', 'gt_stance', 'topic', 'rel_lvl', 'approach_manual']],\n",
    "      sample_df[['gt_big_issue', 'gt_stance', 'topic', 'rel_lvl', 'uncond_baseline']],\n",
    "      sample_df[['gt_big_issue', 'gt_stance', 'topic', 'rel_lvl', 'gt_claim']]\n",
    "]\n",
    "\n",
    "approaches = ['pplm-auto', 'pplm-manual', 'pplm-uncond', 'gt']\n",
    "for idx, df in enumerate(dfs):\n",
    "    df.columns = ['gt_big_issue', 'gt_stance', 'topic', 'rel_lvl', 'claim']\n",
    "    df['approach'] = [approaches[idx]] * len(df)\n",
    "\n",
    "crowd_sourcing_df = pd.concat(dfs)\n",
    "crowd_sourcing_df.reset_index(inplace = True) \n",
    "crowd_sourcing_df.to_csv('./crowd_sourcing.csv')"
   ]
  },
  {
   "cell_type": "code",
   "execution_count": 64,
   "metadata": {},
   "outputs": [],
   "source": [
    "crowd_sourcing_map = crowd_sourcing_df.groupby(['gt_big_issue', 'claim']).agg({'index': list}).reset_index()\n",
    "crowd_sourcing_map.to_pickle('./crowd_sourcing_map_of_similar_claims.pkl')"
   ]
  },
  {
   "cell_type": "code",
   "execution_count": 65,
   "metadata": {},
   "outputs": [],
   "source": [
    "similar_cases = [x for x in crowd_sourcing_map['index'].tolist() if len(x) > 1]"
   ]
  },
  {
   "cell_type": "code",
   "execution_count": 66,
   "metadata": {},
   "outputs": [],
   "source": [
    "crowd_sourcing_unique_df = crowd_sourcing_df.drop_duplicates(['gt_big_issue', 'claim'])\n",
    "crowd_sourcing_unique_df.to_csv('./crowd_sourcing_unique_cases.csv')"
   ]
  },
  {
   "cell_type": "code",
   "execution_count": 67,
   "metadata": {},
   "outputs": [
    {
     "data": {
      "text/html": [
       "<div>\n",
       "<style scoped>\n",
       "    .dataframe tbody tr th:only-of-type {\n",
       "        vertical-align: middle;\n",
       "    }\n",
       "\n",
       "    .dataframe tbody tr th {\n",
       "        vertical-align: top;\n",
       "    }\n",
       "\n",
       "    .dataframe thead th {\n",
       "        text-align: right;\n",
       "    }\n",
       "</style>\n",
       "<table border=\"1\" class=\"dataframe\">\n",
       "  <thead>\n",
       "    <tr style=\"text-align: right;\">\n",
       "      <th></th>\n",
       "      <th>index</th>\n",
       "      <th>gt_big_issue</th>\n",
       "      <th>gt_stance</th>\n",
       "      <th>topic</th>\n",
       "      <th>rel_lvl</th>\n",
       "      <th>claim</th>\n",
       "      <th>approach</th>\n",
       "    </tr>\n",
       "  </thead>\n",
       "  <tbody>\n",
       "    <tr>\n",
       "      <td>0</td>\n",
       "      <td>1098</td>\n",
       "      <td>Gay Marriage</td>\n",
       "      <td>3</td>\n",
       "      <td>same-sex marriage: yes or no?</td>\n",
       "      <td>3</td>\n",
       "      <td>same-sex marriage is not a right. It's illegal in many states, and it should be banned everywhere else.</td>\n",
       "      <td>pplm-auto</td>\n",
       "    </tr>\n",
       "    <tr>\n",
       "      <td>1</td>\n",
       "      <td>159</td>\n",
       "      <td>Gay Marriage</td>\n",
       "      <td>3</td>\n",
       "      <td>same-sex marriage: yes or no?</td>\n",
       "      <td>3</td>\n",
       "      <td>same-sex marriage is not a right. It's illegal in all 50 states, and it should be banned everywhere else.</td>\n",
       "      <td>pplm-auto</td>\n",
       "    </tr>\n",
       "    <tr>\n",
       "      <td>2</td>\n",
       "      <td>502</td>\n",
       "      <td>Gay Marriage</td>\n",
       "      <td>3</td>\n",
       "      <td>same-sex marriage: yes or no?</td>\n",
       "      <td>3</td>\n",
       "      <td>same-sex marriage bans are not a violation of religious freedom. The Supreme Court has ruled that the right to marry is an individual's fundamental rights, and therefore does NOT apply equally to same sex couples as heterosexuals.</td>\n",
       "      <td>pplm-auto</td>\n",
       "    </tr>\n",
       "    <tr>\n",
       "      <td>3</td>\n",
       "      <td>961</td>\n",
       "      <td>Abortion</td>\n",
       "      <td>1</td>\n",
       "      <td>should gender-selective abortion be legal?</td>\n",
       "      <td>3</td>\n",
       "      <td>gender-selective abortion is a form of murder. It's not just killing babies, it kills women who are raped and murdered.</td>\n",
       "      <td>pplm-auto</td>\n",
       "    </tr>\n",
       "    <tr>\n",
       "      <td>4</td>\n",
       "      <td>4995</td>\n",
       "      <td>Environmental Protection</td>\n",
       "      <td>3</td>\n",
       "      <td>whaling</td>\n",
       "      <td>3</td>\n",
       "      <td>whaling is a very important part of the economy. It provides jobs and income for many people in developing countries, as well as providing food to those who are hungry.</td>\n",
       "      <td>pplm-auto</td>\n",
       "    </tr>\n",
       "  </tbody>\n",
       "</table>\n",
       "</div>"
      ],
      "text/plain": [
       "   index              gt_big_issue  gt_stance  \\\n",
       "0  1098   Gay Marriage              3           \n",
       "1  159    Gay Marriage              3           \n",
       "2  502    Gay Marriage              3           \n",
       "3  961    Abortion                  1           \n",
       "4  4995   Environmental Protection  3           \n",
       "\n",
       "                                        topic  rel_lvl  \\\n",
       "0  same-sex marriage: yes or no?               3         \n",
       "1  same-sex marriage: yes or no?               3         \n",
       "2  same-sex marriage: yes or no?               3         \n",
       "3  should gender-selective abortion be legal?  3         \n",
       "4  whaling                                     3         \n",
       "\n",
       "                                                                                                                                                                                                                                    claim  \\\n",
       "0  same-sex marriage is not a right. It's illegal in many states, and it should be banned everywhere else.                                                                                                                                  \n",
       "1  same-sex marriage is not a right. It's illegal in all 50 states, and it should be banned everywhere else.                                                                                                                                \n",
       "2  same-sex marriage bans are not a violation of religious freedom. The Supreme Court has ruled that the right to marry is an individual's fundamental rights, and therefore does NOT apply equally to same sex couples as heterosexuals.   \n",
       "3  gender-selective abortion is a form of murder. It's not just killing babies, it kills women who are raped and murdered.                                                                                                                  \n",
       "4  whaling is a very important part of the economy. It provides jobs and income for many people in developing countries, as well as providing food to those who are hungry.                                                                 \n",
       "\n",
       "    approach  \n",
       "0  pplm-auto  \n",
       "1  pplm-auto  \n",
       "2  pplm-auto  \n",
       "3  pplm-auto  \n",
       "4  pplm-auto  "
      ]
     },
     "execution_count": 67,
     "metadata": {},
     "output_type": "execute_result"
    }
   ],
   "source": [
    "crowd_sourcing_unique_df.head()"
   ]
  },
  {
   "cell_type": "markdown",
   "metadata": {},
   "source": [
    "-------------------------------"
   ]
  },
  {
   "cell_type": "code",
   "execution_count": 205,
   "metadata": {},
   "outputs": [],
   "source": [
    "#first filter-in only cases where at least 5 of the big-issues are in the top 10 big-issues..\n",
    "#pplm_preds['num_top_10_bi'] = pplm_preds.vis_bi.apply(lambda vis_bi:sum([1 for x in vis_bi.keys() if x in top_10_bi]))\n",
    "#filtered_pplm_preds = pplm_preds[pplm_preds.num_top_10_bi >= 1]"
   ]
  },
  {
   "cell_type": "code",
   "execution_count": 99,
   "metadata": {},
   "outputs": [
    {
     "name": "stdout",
     "output_type": "stream",
     "text": [
      "Conservative    155\n",
      "Liberal         107\n",
      "Name: user_ideology, dtype: int64\n"
     ]
    }
   ],
   "source": [
    "#filtered_pplm_preds = pplm_preds[pplm_preds.filtered_vis_bi_len > -1]\n",
    "filtered_pplm_preds = filtered_pplm_preds[filtered_pplm_preds.user_ideology.isin(['Conservative', 'Liberal'])]\n",
    "\n",
    "user_with_alot_of_answers = [x[0] for x in filtered_pplm_preds.user.value_counts().to_dict().items() if x[1] > 1]\n",
    "filtered_pplm_preds = filtered_pplm_preds[filtered_pplm_preds.user.isin(user_with_alot_of_answers)]\n",
    "\n",
    "grouped_filtered_df = filtered_pplm_preds.groupby(['user']).agg({\n",
    "                                                    'user_ideology': lambda x: x.iloc[0],\n",
    "                                                    'vis_bi': lambda x: x.iloc[0],\n",
    "                                                    'topic':  lambda x: ' \\n '.join(map(str, x)), \n",
    "                                                    'top_claim':  lambda x: ' \\n '.join(map(str, x)), \n",
    "                                                    'user_bi_bow_based_pred_claim': lambda x: ' \\n '.join(map(str, x)),\n",
    "                                                    'uncond_pred_claim': lambda x: ' \\n '.join(map(str, x)),\n",
    "                                                    'seq2seq_big_issues': lambda x: ' \\n '.join(map(str, x))\n",
    "})\n",
    "\n",
    "\n",
    "grouped_filtered_df['topic_and_model_arguments'] = grouped_filtered_df.apply(lambda row: merge_two_clms(row['topic'], \n",
    "                                                                      row['user_bi_bow_based_pred_claim']),axis=1)\n",
    "\n",
    "grouped_filtered_df['topic_and_baseline_arguments'] = grouped_filtered_df.apply(lambda row: merge_two_clms(row['topic'], \n",
    "                                                                      row['uncond_pred_claim']),axis=1)\n",
    "\n",
    "\n",
    "grouped_filtered_df['topic_and_top_claim'] = grouped_filtered_df.apply(lambda row: merge_two_clms(row['topic'], \n",
    "                                                                      row['top_claim']),axis=1)\n",
    "\n",
    "print(grouped_filtered_df.user_ideology.value_counts())\n",
    "# grouped_filtered_df['seq2seq_big_issues'] = grouped_filtered_df.apply(lambda row: merge_two_clms(row['topic'], \n",
    "#                                                                       row['seq2seq_big_issues']),axis=1)\n",
    "\n",
    "\n",
    "cons_df = grouped_filtered_df[grouped_filtered_df.user_ideology == 'Conservative'].sample(50)\n",
    "libs_df = grouped_filtered_df[grouped_filtered_df.user_ideology == 'Liberal'].sample(50)\n",
    "\n",
    "sample_df = pd.concat([cons_df, libs_df])\n",
    "sample_df = sample_df.sample(frac=1).reset_index(drop=True)\n",
    "sample_df[['vis_bi', 'user_ideology', 'topic_and_model_arguments', 'topic_and_baseline_arguments']].to_csv('./sample_for_evaluation_grouped.csv')"
   ]
  },
  {
   "cell_type": "code",
   "execution_count": null,
   "metadata": {},
   "outputs": [],
   "source": []
  }
 ],
 "metadata": {
  "kernelspec": {
   "display_name": "Python 3",
   "language": "python",
   "name": "python3"
  },
  "language_info": {
   "codemirror_mode": {
    "name": "ipython",
    "version": 3
   },
   "file_extension": ".py",
   "mimetype": "text/x-python",
   "name": "python",
   "nbconvert_exporter": "python",
   "pygments_lexer": "ipython3",
   "version": "3.7.2"
  }
 },
 "nbformat": 4,
 "nbformat_minor": 4
}
