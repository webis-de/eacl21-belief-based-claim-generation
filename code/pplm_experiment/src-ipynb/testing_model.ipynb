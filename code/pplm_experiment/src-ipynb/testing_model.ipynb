{
 "cells": [
  {
   "cell_type": "code",
   "execution_count": 1,
   "metadata": {},
   "outputs": [],
   "source": [
    "%load_ext autoreload"
   ]
  },
  {
   "cell_type": "code",
   "execution_count": 2,
   "metadata": {},
   "outputs": [],
   "source": [
    "import sys\n",
    "import os\n",
    "import pandas as pd\n",
    "os.environ['CUDA_VISIBLE_DEVICES'] = '0'\n",
    "\n",
    "pd.set_option('display.max_colwidth', None)\n",
    "sys.path.insert(0, \"../src-py/\")"
   ]
  },
  {
   "cell_type": "code",
   "execution_count": 3,
   "metadata": {},
   "outputs": [],
   "source": [
    "%autoreload\n",
    "\n",
    "from run_pplm_discrim_train import *\n",
    "from bow_based_claim_generation import *\n",
    "from run_pplm import *\n",
    "\n",
    "from transformers import GPT2Tokenizer\n",
    "from transformers.file_utils import cached_path\n",
    "from transformers.modeling_gpt2 import GPT2LMHeadModel"
   ]
  },
  {
   "cell_type": "code",
   "execution_count": 4,
   "metadata": {},
   "outputs": [],
   "source": [
    "pretrained_argsme_model_path = '/workspace/ceph_data/belief-based-argumentation-generation/experiments/pplm_experiment/output/models/argsme_ft_new'"
   ]
  },
  {
   "cell_type": "code",
   "execution_count": 5,
   "metadata": {},
   "outputs": [],
   "source": [
    "ft_model, ft_tokenizer = get_model(pretrained_argsme_model_path)"
   ]
  },
  {
   "cell_type": "code",
   "execution_count": 6,
   "metadata": {},
   "outputs": [],
   "source": [
    "stance_words = {\n",
    "    'pro': ['nice', 'good'],\n",
    "    'con': ['worse', 'bad'],\n",
    "}"
   ]
  },
  {
   "cell_type": "code",
   "execution_count": 7,
   "metadata": {},
   "outputs": [],
   "source": [
    "topic = 'Preventing discrimination in sport'\n",
    "frames= ['sport', 'right', 'empowerment']\n",
    "stance= 'con'\n",
    "length= 30"
   ]
  },
  {
   "cell_type": "code",
   "execution_count": 8,
   "metadata": {},
   "outputs": [
    {
     "name": "stdout",
     "output_type": "stream",
     "text": [
      "Generate preds for:  Preventing discrimination in sport\n"
     ]
    },
    {
     "data": {
      "text/plain": [
       "\"<|endoftext|>Preventing discrimination in sport is a good thing. It prevents people from being treated unfairly and it allows them to compete against other sportsmen. If you are not allowed to play football, then why should we allow women to? Why shouldn't men be able too? The reason why women can do better than men at sport is because they have more experience.\""
      ]
     },
     "execution_count": 8,
     "metadata": {},
     "output_type": "execute_result"
    }
   ],
   "source": [
    "generate_belief_based_text_via_bow(topic, \n",
    "                                   [frames, stance_words[stance]], \n",
    "                                   ft_model, ft_tokenizer, \n",
    "                                   length=length, stepsize=0.05, num_iteration=3, repetition_penalty=1.5)"
   ]
  },
  {
   "cell_type": "code",
   "execution_count": null,
   "metadata": {},
   "outputs": [],
   "source": []
  }
 ],
 "metadata": {
  "kernelspec": {
   "display_name": "belief-based-env",
   "language": "python",
   "name": "belief-based-env"
  },
  "language_info": {
   "codemirror_mode": {
    "name": "ipython",
    "version": 3
   },
   "file_extension": ".py",
   "mimetype": "text/x-python",
   "name": "python",
   "nbconvert_exporter": "python",
   "pygments_lexer": "ipython3",
   "version": "3.6.9"
  }
 },
 "nbformat": 4,
 "nbformat_minor": 4
}
